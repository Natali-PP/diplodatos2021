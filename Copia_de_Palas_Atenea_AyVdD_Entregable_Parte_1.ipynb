{
  "nbformat": 4,
  "nbformat_minor": 0,
  "metadata": {
    "colab": {
      "name": "Copia de Palas Atenea - AyVdD - Entregable - Parte 1.ipynb",
      "provenance": [],
      "collapsed_sections": [],
      "include_colab_link": true
    },
    "kernelspec": {
      "name": "python3",
      "display_name": "Python 3"
    }
  },
  "cells": [
    {
      "cell_type": "markdown",
      "metadata": {
        "id": "view-in-github",
        "colab_type": "text"
      },
      "source": [
        "<a href=\"https://colab.research.google.com/github/Natali-PP/diplodatos2021/blob/main/Copia_de_Palas_Atenea_AyVdD_Entregable_Parte_1.ipynb\" target=\"_parent\"><img src=\"https://colab.research.google.com/assets/colab-badge.svg\" alt=\"Open In Colab\"/></a>"
      ]
    },
    {
      "cell_type": "markdown",
      "metadata": {
        "id": "LYvAOR2VzHmW"
      },
      "source": [
        "\n",
        "**Diplomatura en Ciencia de Datos, Aprendizaje Automático y sus Aplicaciones**\n",
        "\n",
        "**Edición 2021**\n",
        "\n",
        "---\n",
        "## Trabajo práctico entregable - Parte 1\n",
        "\n",
        "### Integrantes\n",
        "- Bosch, Daniela\n",
        "- Gherra, Estefanía\n",
        "- Iberra, Yanina\n",
        "- Mantovani, Luciano\n",
        "- Palacio Pastor, Natalí"
      ]
    },
    {
      "cell_type": "code",
      "metadata": {
        "id": "Xwdfo7z20TUK"
      },
      "source": [
        "import io\n",
        "import matplotlib\n",
        "import matplotlib.pyplot as plt\n",
        "import numpy\n",
        "import pandas as pd\n",
        "import seaborn\n",
        "\n",
        "seaborn.set_context('talk')\n",
        "\n",
        "# Set float format\n",
        "pd.set_option('display.float_format','{:.2f}'.format)\n",
        "\n",
        "# Set style\n",
        "seaborn.set_style(\"darkgrid\")\n",
        "seaborn.set_palette('pastel')\n",
        "seaborn.set_context(\"paper\", rc={\"font.size\":12,\"axes.titlesize\":12,\"axes.labelsize\":12}) "
      ],
      "execution_count": 1,
      "outputs": []
    },
    {
      "cell_type": "markdown",
      "metadata": {
        "id": "XY2Hl-Ma07Nn"
      },
      "source": [
        "## Lectura del dataset"
      ]
    },
    {
      "cell_type": "code",
      "metadata": {
        "id": "Vviv_sqXdR5W"
      },
      "source": [
        "url = 'https://cs.famaf.unc.edu.ar/~mteruel/datasets/diplodatos/sysarmy_survey_2020_processed.csv'\n",
        "df = pd.read_csv(url)\n"
      ],
      "execution_count": 2,
      "outputs": []
    },
    {
      "cell_type": "code",
      "metadata": {
        "id": "gckNHXXLktJ4"
      },
      "source": [
        "#df[:5]"
      ],
      "execution_count": 75,
      "outputs": []
    },
    {
      "cell_type": "markdown",
      "metadata": {
        "id": "-ZSQYANFHHgV"
      },
      "source": [
        "# Ejercicio 1 - Análisis descriptivo\n",
        "\n",
        "Responder a la pregunta: **¿Cuáles son los lenguajes de programación asociados a los mejores salarios?**\n",
        "\n",
        "Para ello:\n",
        "1. Seleccionar las columnas relevantes para analizar.\n",
        "2. Seleccionar las filas relevantes para analizar. Esto incluye la eliminación de valores extremos y erróneos, pero también puede enfocar el análisis en una sub-población. Por ejemplo, se pueden limitar a personas con un salario mayor que 10000 pesos, o a las personas que trabajan sólo en \"Data Science\", pero deben justificar su elección y reformular la pregunta inicial de ser necesario.\n",
        "  * Obtener una lista de los lenguajes de programación más populares. Decidir cuántos y cuáles seleccionan para incluir en el análisis.\n",
        "  * Para cada una de las otras columnas del punto anterior, elegir los rangos o valores seleccionan para incluir en el análisis.\n",
        "3. Seleccionar métricas que ayuden a responder la pregunta, y los métodos para analizarlas. Elegir UNA de las siguientes opciones:\n",
        "  * Comparar las distribuciones de salario para cada lenguaje utilizando visualizaciones. Como la visualización es el producto final, debe ser clara y mostrar información relevante.\n",
        "  * Comparar medidas de estadística descriptiva sobre la distribución de salario para cada lenguaje. Sean creativos, la estadística descriptiva nos permite decir cosas como: \"el 10% de los mejores sueldos los ganan, en su mayoría, programadores que saben kotlin!\" (donde *mayoría* es un término medio engañoso que sólo significa más del 50%). Para comparar múltiples lenguajes, les recomendamos usar también visualizaciones.\n",
        "  * Comparar probabilidades. Por ejemplo: \"Si sabés Python o Java, tenés un 30% más de chances de ganar arriba de 100K\".\n",
        "\n",
        "Si lo consideran necesario, realicen varias iteraciones. Es decir, si encuentran que las distribuciones de los lenguajes de programación que seleccionaron inicialmente no son muy diferentes, pueden re-hacer el análisis usando sólo los lenguajes de programación que son diferentes."
      ]
    },
    {
      "cell_type": "markdown",
      "metadata": {
        "id": "yQ59NW1ud3oT"
      },
      "source": [
        "## 1- Selección de columnas relevantes para el análisis \n",
        "\n",
        "Para seleccionar las columnas o variables relevantes para responder a la pregunta, comenzamos con un análisis exploratorio univariado, preliminar, observando un resumen de medidas de estadística descriptiva y cantidad de valores perdidos:"
      ]
    },
    {
      "cell_type": "code",
      "metadata": {
        "colab": {
          "base_uri": "https://localhost:8080/",
          "height": 449
        },
        "id": "sQykZrAAd147",
        "outputId": "d944508e-4ec7-4bac-c677-d270a9a4e007"
      },
      "source": [
        "df.describe(include= \"all\")\n",
        "\n",
        "# pregunta para profes: se puede mostrar el resultado como una tabla con la primera fila y primera columna inmovilizada para facilitar su lectura?"
      ],
      "execution_count": 4,
      "outputs": [
        {
          "output_type": "execute_result",
          "data": {
            "text/html": [
              "<div>\n",
              "<style scoped>\n",
              "    .dataframe tbody tr th:only-of-type {\n",
              "        vertical-align: middle;\n",
              "    }\n",
              "\n",
              "    .dataframe tbody tr th {\n",
              "        vertical-align: top;\n",
              "    }\n",
              "\n",
              "    .dataframe thead th {\n",
              "        text-align: right;\n",
              "    }\n",
              "</style>\n",
              "<table border=\"1\" class=\"dataframe\">\n",
              "  <thead>\n",
              "    <tr style=\"text-align: right;\">\n",
              "      <th></th>\n",
              "      <th>profile_gender</th>\n",
              "      <th>profile_age</th>\n",
              "      <th>work_country</th>\n",
              "      <th>work_province</th>\n",
              "      <th>profile_years_experience</th>\n",
              "      <th>work_years_in_company</th>\n",
              "      <th>work_years_in_current_position</th>\n",
              "      <th>work_people_in_charge_of</th>\n",
              "      <th>profile_studies_level</th>\n",
              "      <th>profile_studies_level_state</th>\n",
              "      <th>profile_career</th>\n",
              "      <th>profile_university</th>\n",
              "      <th>profile_specialization_courses</th>\n",
              "      <th>profile_open_source_contributions</th>\n",
              "      <th>profile_programming_as_hobby</th>\n",
              "      <th>work_role</th>\n",
              "      <th>tools_platform</th>\n",
              "      <th>tools_programming_languages</th>\n",
              "      <th>tools_frameworks</th>\n",
              "      <th>tools_data_bases</th>\n",
              "      <th>tools_qa_testing</th>\n",
              "      <th>tools_IDEs</th>\n",
              "      <th>tools_work_pc_os</th>\n",
              "      <th>tools_cellphone_os</th>\n",
              "      <th>work_on_call_duty</th>\n",
              "      <th>salary_on_call_duty_charge</th>\n",
              "      <th>work_on_call_duty_charge_type</th>\n",
              "      <th>work_contract_type</th>\n",
              "      <th>salary_monthly_BRUTO</th>\n",
              "      <th>salary_monthly_NETO</th>\n",
              "      <th>salary_in_usd</th>\n",
              "      <th>salary_satisfaction</th>\n",
              "      <th>salary_comparison_last_semester</th>\n",
              "      <th>salary_has_bonus</th>\n",
              "      <th>salary_bonus_tied_to</th>\n",
              "      <th>salary_inflation_adjustment_2020</th>\n",
              "      <th>salary_percentage_inflation_adjustment_2020</th>\n",
              "      <th>salary_month_last_inflation_adjustment</th>\n",
              "      <th>work_has_violence_situations</th>\n",
              "      <th>profile_sexual_orientation</th>\n",
              "      <th>profile_has_disabilities</th>\n",
              "      <th>profile_has_disabilities_hiring_difficulties</th>\n",
              "      <th>company_employee_number</th>\n",
              "      <th>company_main_activity</th>\n",
              "      <th>company_recommended</th>\n",
              "      <th>company_diversity_policies</th>\n",
              "      <th>company_extra_benefits</th>\n",
              "      <th>company_best_companies_city</th>\n",
              "    </tr>\n",
              "  </thead>\n",
              "  <tbody>\n",
              "    <tr>\n",
              "      <th>count</th>\n",
              "      <td>6095</td>\n",
              "      <td>6095.00</td>\n",
              "      <td>6095</td>\n",
              "      <td>6095</td>\n",
              "      <td>6095.00</td>\n",
              "      <td>6095.00</td>\n",
              "      <td>6095.00</td>\n",
              "      <td>6095.00</td>\n",
              "      <td>6095</td>\n",
              "      <td>6095</td>\n",
              "      <td>5796</td>\n",
              "      <td>5561</td>\n",
              "      <td>6095</td>\n",
              "      <td>6095</td>\n",
              "      <td>6095</td>\n",
              "      <td>6095</td>\n",
              "      <td>6093</td>\n",
              "      <td>6094</td>\n",
              "      <td>6094</td>\n",
              "      <td>6093</td>\n",
              "      <td>6089</td>\n",
              "      <td>6094</td>\n",
              "      <td>6095</td>\n",
              "      <td>6095</td>\n",
              "      <td>6095</td>\n",
              "      <td>6095.00</td>\n",
              "      <td>6095</td>\n",
              "      <td>6095</td>\n",
              "      <td>6095.00</td>\n",
              "      <td>5883.00</td>\n",
              "      <td>676</td>\n",
              "      <td>6095.00</td>\n",
              "      <td>6095.00</td>\n",
              "      <td>6095</td>\n",
              "      <td>6095</td>\n",
              "      <td>6095</td>\n",
              "      <td>6095.00</td>\n",
              "      <td>6095.00</td>\n",
              "      <td>5954</td>\n",
              "      <td>5912</td>\n",
              "      <td>600</td>\n",
              "      <td>2207</td>\n",
              "      <td>6095</td>\n",
              "      <td>6095</td>\n",
              "      <td>6095.00</td>\n",
              "      <td>6095.00</td>\n",
              "      <td>6094</td>\n",
              "      <td>1692</td>\n",
              "    </tr>\n",
              "    <tr>\n",
              "      <th>unique</th>\n",
              "      <td>3</td>\n",
              "      <td>nan</td>\n",
              "      <td>1</td>\n",
              "      <td>25</td>\n",
              "      <td>nan</td>\n",
              "      <td>nan</td>\n",
              "      <td>nan</td>\n",
              "      <td>nan</td>\n",
              "      <td>7</td>\n",
              "      <td>3</td>\n",
              "      <td>495</td>\n",
              "      <td>799</td>\n",
              "      <td>7</td>\n",
              "      <td>2</td>\n",
              "      <td>2</td>\n",
              "      <td>334</td>\n",
              "      <td>1183</td>\n",
              "      <td>1637</td>\n",
              "      <td>1371</td>\n",
              "      <td>1271</td>\n",
              "      <td>717</td>\n",
              "      <td>1097</td>\n",
              "      <td>4</td>\n",
              "      <td>4</td>\n",
              "      <td>3</td>\n",
              "      <td>nan</td>\n",
              "      <td>3</td>\n",
              "      <td>5</td>\n",
              "      <td>nan</td>\n",
              "      <td>nan</td>\n",
              "      <td>1</td>\n",
              "      <td>nan</td>\n",
              "      <td>nan</td>\n",
              "      <td>5</td>\n",
              "      <td>192</td>\n",
              "      <td>5</td>\n",
              "      <td>nan</td>\n",
              "      <td>nan</td>\n",
              "      <td>3</td>\n",
              "      <td>42</td>\n",
              "      <td>89</td>\n",
              "      <td>2</td>\n",
              "      <td>10</td>\n",
              "      <td>3</td>\n",
              "      <td>nan</td>\n",
              "      <td>nan</td>\n",
              "      <td>1916</td>\n",
              "      <td>1293</td>\n",
              "    </tr>\n",
              "    <tr>\n",
              "      <th>top</th>\n",
              "      <td>Hombre</td>\n",
              "      <td>nan</td>\n",
              "      <td>Argentina</td>\n",
              "      <td>Ciudad Autónoma de Buenos Aires</td>\n",
              "      <td>nan</td>\n",
              "      <td>nan</td>\n",
              "      <td>nan</td>\n",
              "      <td>nan</td>\n",
              "      <td>Universitario</td>\n",
              "      <td>Completado</td>\n",
              "      <td>Ingeniería en Sistemas de Información</td>\n",
              "      <td>UTN - Universidad Tecnológica Nacional</td>\n",
              "      <td>Sí, de forma particular</td>\n",
              "      <td>No</td>\n",
              "      <td>Sí</td>\n",
              "      <td>Developer</td>\n",
              "      <td>Ninguna de las anteriores</td>\n",
              "      <td>Ninguno de los anteriores</td>\n",
              "      <td>Ninguno de los anteriores</td>\n",
              "      <td>Ninguna de las anteriores</td>\n",
              "      <td>Ninguna de las anteriores</td>\n",
              "      <td>Ninguno de los anteriores</td>\n",
              "      <td>Windows</td>\n",
              "      <td>Android</td>\n",
              "      <td>No</td>\n",
              "      <td>nan</td>\n",
              "      <td>Porcentaje de mi sueldo</td>\n",
              "      <td>Full-Time</td>\n",
              "      <td>nan</td>\n",
              "      <td>nan</td>\n",
              "      <td>Mi sueldo está dolarizado</td>\n",
              "      <td>nan</td>\n",
              "      <td>nan</td>\n",
              "      <td>No</td>\n",
              "      <td>No recibo bono</td>\n",
              "      <td>No</td>\n",
              "      <td>nan</td>\n",
              "      <td>nan</td>\n",
              "      <td>Jamás</td>\n",
              "      <td>Heterosexual</td>\n",
              "      <td>Visual</td>\n",
              "      <td>No</td>\n",
              "      <td>11-50</td>\n",
              "      <td>Producto basado en Software</td>\n",
              "      <td>nan</td>\n",
              "      <td>nan</td>\n",
              "      <td>Ninguna de las anteriores</td>\n",
              "      <td>Mercado Libre</td>\n",
              "    </tr>\n",
              "    <tr>\n",
              "      <th>freq</th>\n",
              "      <td>5122</td>\n",
              "      <td>nan</td>\n",
              "      <td>6095</td>\n",
              "      <td>3764</td>\n",
              "      <td>nan</td>\n",
              "      <td>nan</td>\n",
              "      <td>nan</td>\n",
              "      <td>nan</td>\n",
              "      <td>4133</td>\n",
              "      <td>2907</td>\n",
              "      <td>1194</td>\n",
              "      <td>1378</td>\n",
              "      <td>2650</td>\n",
              "      <td>5211</td>\n",
              "      <td>3268</td>\n",
              "      <td>2402</td>\n",
              "      <td>744</td>\n",
              "      <td>661</td>\n",
              "      <td>1379</td>\n",
              "      <td>871</td>\n",
              "      <td>2173</td>\n",
              "      <td>903</td>\n",
              "      <td>3442</td>\n",
              "      <td>4868</td>\n",
              "      <td>4640</td>\n",
              "      <td>nan</td>\n",
              "      <td>3183</td>\n",
              "      <td>5166</td>\n",
              "      <td>nan</td>\n",
              "      <td>nan</td>\n",
              "      <td>676</td>\n",
              "      <td>nan</td>\n",
              "      <td>nan</td>\n",
              "      <td>3782</td>\n",
              "      <td>3673</td>\n",
              "      <td>2671</td>\n",
              "      <td>nan</td>\n",
              "      <td>nan</td>\n",
              "      <td>4096</td>\n",
              "      <td>4905</td>\n",
              "      <td>319</td>\n",
              "      <td>2064</td>\n",
              "      <td>1065</td>\n",
              "      <td>2200</td>\n",
              "      <td>nan</td>\n",
              "      <td>nan</td>\n",
              "      <td>828</td>\n",
              "      <td>72</td>\n",
              "    </tr>\n",
              "    <tr>\n",
              "      <th>mean</th>\n",
              "      <td>NaN</td>\n",
              "      <td>41.18</td>\n",
              "      <td>NaN</td>\n",
              "      <td>NaN</td>\n",
              "      <td>8.93</td>\n",
              "      <td>3.31</td>\n",
              "      <td>2.89</td>\n",
              "      <td>2.21</td>\n",
              "      <td>NaN</td>\n",
              "      <td>NaN</td>\n",
              "      <td>NaN</td>\n",
              "      <td>NaN</td>\n",
              "      <td>NaN</td>\n",
              "      <td>NaN</td>\n",
              "      <td>NaN</td>\n",
              "      <td>NaN</td>\n",
              "      <td>NaN</td>\n",
              "      <td>NaN</td>\n",
              "      <td>NaN</td>\n",
              "      <td>NaN</td>\n",
              "      <td>NaN</td>\n",
              "      <td>NaN</td>\n",
              "      <td>NaN</td>\n",
              "      <td>NaN</td>\n",
              "      <td>NaN</td>\n",
              "      <td>664.04</td>\n",
              "      <td>NaN</td>\n",
              "      <td>NaN</td>\n",
              "      <td>124058.55</td>\n",
              "      <td>94907.95</td>\n",
              "      <td>NaN</td>\n",
              "      <td>2.62</td>\n",
              "      <td>2.36</td>\n",
              "      <td>NaN</td>\n",
              "      <td>NaN</td>\n",
              "      <td>NaN</td>\n",
              "      <td>10.44</td>\n",
              "      <td>2.79</td>\n",
              "      <td>NaN</td>\n",
              "      <td>NaN</td>\n",
              "      <td>NaN</td>\n",
              "      <td>NaN</td>\n",
              "      <td>NaN</td>\n",
              "      <td>NaN</td>\n",
              "      <td>7.34</td>\n",
              "      <td>7.62</td>\n",
              "      <td>NaN</td>\n",
              "      <td>NaN</td>\n",
              "    </tr>\n",
              "    <tr>\n",
              "      <th>std</th>\n",
              "      <td>NaN</td>\n",
              "      <td>665.72</td>\n",
              "      <td>NaN</td>\n",
              "      <td>NaN</td>\n",
              "      <td>7.16</td>\n",
              "      <td>4.37</td>\n",
              "      <td>3.42</td>\n",
              "      <td>32.98</td>\n",
              "      <td>NaN</td>\n",
              "      <td>NaN</td>\n",
              "      <td>NaN</td>\n",
              "      <td>NaN</td>\n",
              "      <td>NaN</td>\n",
              "      <td>NaN</td>\n",
              "      <td>NaN</td>\n",
              "      <td>NaN</td>\n",
              "      <td>NaN</td>\n",
              "      <td>NaN</td>\n",
              "      <td>NaN</td>\n",
              "      <td>NaN</td>\n",
              "      <td>NaN</td>\n",
              "      <td>NaN</td>\n",
              "      <td>NaN</td>\n",
              "      <td>NaN</td>\n",
              "      <td>NaN</td>\n",
              "      <td>10540.52</td>\n",
              "      <td>NaN</td>\n",
              "      <td>NaN</td>\n",
              "      <td>122912.35</td>\n",
              "      <td>96862.26</td>\n",
              "      <td>NaN</td>\n",
              "      <td>0.86</td>\n",
              "      <td>0.95</td>\n",
              "      <td>NaN</td>\n",
              "      <td>NaN</td>\n",
              "      <td>NaN</td>\n",
              "      <td>12.86</td>\n",
              "      <td>2.84</td>\n",
              "      <td>NaN</td>\n",
              "      <td>NaN</td>\n",
              "      <td>NaN</td>\n",
              "      <td>NaN</td>\n",
              "      <td>NaN</td>\n",
              "      <td>NaN</td>\n",
              "      <td>2.02</td>\n",
              "      <td>2.32</td>\n",
              "      <td>NaN</td>\n",
              "      <td>NaN</td>\n",
              "    </tr>\n",
              "    <tr>\n",
              "      <th>min</th>\n",
              "      <td>NaN</td>\n",
              "      <td>18.00</td>\n",
              "      <td>NaN</td>\n",
              "      <td>NaN</td>\n",
              "      <td>0.00</td>\n",
              "      <td>0.00</td>\n",
              "      <td>0.00</td>\n",
              "      <td>0.00</td>\n",
              "      <td>NaN</td>\n",
              "      <td>NaN</td>\n",
              "      <td>NaN</td>\n",
              "      <td>NaN</td>\n",
              "      <td>NaN</td>\n",
              "      <td>NaN</td>\n",
              "      <td>NaN</td>\n",
              "      <td>NaN</td>\n",
              "      <td>NaN</td>\n",
              "      <td>NaN</td>\n",
              "      <td>NaN</td>\n",
              "      <td>NaN</td>\n",
              "      <td>NaN</td>\n",
              "      <td>NaN</td>\n",
              "      <td>NaN</td>\n",
              "      <td>NaN</td>\n",
              "      <td>NaN</td>\n",
              "      <td>0.00</td>\n",
              "      <td>NaN</td>\n",
              "      <td>NaN</td>\n",
              "      <td>1.00</td>\n",
              "      <td>1.00</td>\n",
              "      <td>NaN</td>\n",
              "      <td>1.00</td>\n",
              "      <td>1.00</td>\n",
              "      <td>NaN</td>\n",
              "      <td>NaN</td>\n",
              "      <td>NaN</td>\n",
              "      <td>0.00</td>\n",
              "      <td>0.00</td>\n",
              "      <td>NaN</td>\n",
              "      <td>NaN</td>\n",
              "      <td>NaN</td>\n",
              "      <td>NaN</td>\n",
              "      <td>NaN</td>\n",
              "      <td>NaN</td>\n",
              "      <td>1.00</td>\n",
              "      <td>1.00</td>\n",
              "      <td>NaN</td>\n",
              "      <td>NaN</td>\n",
              "    </tr>\n",
              "    <tr>\n",
              "      <th>25%</th>\n",
              "      <td>NaN</td>\n",
              "      <td>27.00</td>\n",
              "      <td>NaN</td>\n",
              "      <td>NaN</td>\n",
              "      <td>3.00</td>\n",
              "      <td>0.00</td>\n",
              "      <td>1.00</td>\n",
              "      <td>0.00</td>\n",
              "      <td>NaN</td>\n",
              "      <td>NaN</td>\n",
              "      <td>NaN</td>\n",
              "      <td>NaN</td>\n",
              "      <td>NaN</td>\n",
              "      <td>NaN</td>\n",
              "      <td>NaN</td>\n",
              "      <td>NaN</td>\n",
              "      <td>NaN</td>\n",
              "      <td>NaN</td>\n",
              "      <td>NaN</td>\n",
              "      <td>NaN</td>\n",
              "      <td>NaN</td>\n",
              "      <td>NaN</td>\n",
              "      <td>NaN</td>\n",
              "      <td>NaN</td>\n",
              "      <td>NaN</td>\n",
              "      <td>0.00</td>\n",
              "      <td>NaN</td>\n",
              "      <td>NaN</td>\n",
              "      <td>61595.00</td>\n",
              "      <td>51480.00</td>\n",
              "      <td>NaN</td>\n",
              "      <td>2.00</td>\n",
              "      <td>2.00</td>\n",
              "      <td>NaN</td>\n",
              "      <td>NaN</td>\n",
              "      <td>NaN</td>\n",
              "      <td>0.00</td>\n",
              "      <td>0.00</td>\n",
              "      <td>NaN</td>\n",
              "      <td>NaN</td>\n",
              "      <td>NaN</td>\n",
              "      <td>NaN</td>\n",
              "      <td>NaN</td>\n",
              "      <td>NaN</td>\n",
              "      <td>6.00</td>\n",
              "      <td>6.00</td>\n",
              "      <td>NaN</td>\n",
              "      <td>NaN</td>\n",
              "    </tr>\n",
              "    <tr>\n",
              "      <th>50%</th>\n",
              "      <td>NaN</td>\n",
              "      <td>31.00</td>\n",
              "      <td>NaN</td>\n",
              "      <td>NaN</td>\n",
              "      <td>7.00</td>\n",
              "      <td>2.00</td>\n",
              "      <td>2.00</td>\n",
              "      <td>0.00</td>\n",
              "      <td>NaN</td>\n",
              "      <td>NaN</td>\n",
              "      <td>NaN</td>\n",
              "      <td>NaN</td>\n",
              "      <td>NaN</td>\n",
              "      <td>NaN</td>\n",
              "      <td>NaN</td>\n",
              "      <td>NaN</td>\n",
              "      <td>NaN</td>\n",
              "      <td>NaN</td>\n",
              "      <td>NaN</td>\n",
              "      <td>NaN</td>\n",
              "      <td>NaN</td>\n",
              "      <td>NaN</td>\n",
              "      <td>NaN</td>\n",
              "      <td>NaN</td>\n",
              "      <td>NaN</td>\n",
              "      <td>0.00</td>\n",
              "      <td>NaN</td>\n",
              "      <td>NaN</td>\n",
              "      <td>96000.00</td>\n",
              "      <td>78000.00</td>\n",
              "      <td>NaN</td>\n",
              "      <td>3.00</td>\n",
              "      <td>2.00</td>\n",
              "      <td>NaN</td>\n",
              "      <td>NaN</td>\n",
              "      <td>NaN</td>\n",
              "      <td>7.00</td>\n",
              "      <td>2.00</td>\n",
              "      <td>NaN</td>\n",
              "      <td>NaN</td>\n",
              "      <td>NaN</td>\n",
              "      <td>NaN</td>\n",
              "      <td>NaN</td>\n",
              "      <td>NaN</td>\n",
              "      <td>8.00</td>\n",
              "      <td>8.00</td>\n",
              "      <td>NaN</td>\n",
              "      <td>NaN</td>\n",
              "    </tr>\n",
              "    <tr>\n",
              "      <th>75%</th>\n",
              "      <td>NaN</td>\n",
              "      <td>37.00</td>\n",
              "      <td>NaN</td>\n",
              "      <td>NaN</td>\n",
              "      <td>13.00</td>\n",
              "      <td>4.00</td>\n",
              "      <td>4.00</td>\n",
              "      <td>0.00</td>\n",
              "      <td>NaN</td>\n",
              "      <td>NaN</td>\n",
              "      <td>NaN</td>\n",
              "      <td>NaN</td>\n",
              "      <td>NaN</td>\n",
              "      <td>NaN</td>\n",
              "      <td>NaN</td>\n",
              "      <td>NaN</td>\n",
              "      <td>NaN</td>\n",
              "      <td>NaN</td>\n",
              "      <td>NaN</td>\n",
              "      <td>NaN</td>\n",
              "      <td>NaN</td>\n",
              "      <td>NaN</td>\n",
              "      <td>NaN</td>\n",
              "      <td>NaN</td>\n",
              "      <td>NaN</td>\n",
              "      <td>0.00</td>\n",
              "      <td>NaN</td>\n",
              "      <td>NaN</td>\n",
              "      <td>145000.00</td>\n",
              "      <td>106000.00</td>\n",
              "      <td>NaN</td>\n",
              "      <td>3.00</td>\n",
              "      <td>3.00</td>\n",
              "      <td>NaN</td>\n",
              "      <td>NaN</td>\n",
              "      <td>NaN</td>\n",
              "      <td>18.00</td>\n",
              "      <td>6.00</td>\n",
              "      <td>NaN</td>\n",
              "      <td>NaN</td>\n",
              "      <td>NaN</td>\n",
              "      <td>NaN</td>\n",
              "      <td>NaN</td>\n",
              "      <td>NaN</td>\n",
              "      <td>9.00</td>\n",
              "      <td>10.00</td>\n",
              "      <td>NaN</td>\n",
              "      <td>NaN</td>\n",
              "    </tr>\n",
              "    <tr>\n",
              "      <th>max</th>\n",
              "      <td>NaN</td>\n",
              "      <td>52000.00</td>\n",
              "      <td>NaN</td>\n",
              "      <td>NaN</td>\n",
              "      <td>115.00</td>\n",
              "      <td>43.00</td>\n",
              "      <td>34.00</td>\n",
              "      <td>2500.00</td>\n",
              "      <td>NaN</td>\n",
              "      <td>NaN</td>\n",
              "      <td>NaN</td>\n",
              "      <td>NaN</td>\n",
              "      <td>NaN</td>\n",
              "      <td>NaN</td>\n",
              "      <td>NaN</td>\n",
              "      <td>NaN</td>\n",
              "      <td>NaN</td>\n",
              "      <td>NaN</td>\n",
              "      <td>NaN</td>\n",
              "      <td>NaN</td>\n",
              "      <td>NaN</td>\n",
              "      <td>NaN</td>\n",
              "      <td>NaN</td>\n",
              "      <td>NaN</td>\n",
              "      <td>NaN</td>\n",
              "      <td>650000.00</td>\n",
              "      <td>NaN</td>\n",
              "      <td>NaN</td>\n",
              "      <td>2180000.00</td>\n",
              "      <td>2080000.00</td>\n",
              "      <td>NaN</td>\n",
              "      <td>4.00</td>\n",
              "      <td>4.00</td>\n",
              "      <td>NaN</td>\n",
              "      <td>NaN</td>\n",
              "      <td>NaN</td>\n",
              "      <td>100.00</td>\n",
              "      <td>8.00</td>\n",
              "      <td>NaN</td>\n",
              "      <td>NaN</td>\n",
              "      <td>NaN</td>\n",
              "      <td>NaN</td>\n",
              "      <td>NaN</td>\n",
              "      <td>NaN</td>\n",
              "      <td>10.00</td>\n",
              "      <td>10.00</td>\n",
              "      <td>NaN</td>\n",
              "      <td>NaN</td>\n",
              "    </tr>\n",
              "  </tbody>\n",
              "</table>\n",
              "</div>"
            ],
            "text/plain": [
              "       profile_gender  ...  company_best_companies_city\n",
              "count            6095  ...                         1692\n",
              "unique              3  ...                         1293\n",
              "top            Hombre  ...                Mercado Libre\n",
              "freq             5122  ...                           72\n",
              "mean              NaN  ...                          NaN\n",
              "std               NaN  ...                          NaN\n",
              "min               NaN  ...                          NaN\n",
              "25%               NaN  ...                          NaN\n",
              "50%               NaN  ...                          NaN\n",
              "75%               NaN  ...                          NaN\n",
              "max               NaN  ...                          NaN\n",
              "\n",
              "[11 rows x 48 columns]"
            ]
          },
          "metadata": {
            "tags": []
          },
          "execution_count": 4
        }
      ]
    },
    {
      "cell_type": "code",
      "metadata": {
        "colab": {
          "base_uri": "https://localhost:8080/"
        },
        "id": "_Eyr4hXa5SPc",
        "outputId": "fd884c16-039b-47ec-83b1-0c4808bdda91"
      },
      "source": [
        "missing_values_count = df.isnull().sum()\n",
        "missing_values_count[0:48]"
      ],
      "execution_count": 5,
      "outputs": [
        {
          "output_type": "execute_result",
          "data": {
            "text/plain": [
              "profile_gender                                     0\n",
              "profile_age                                        0\n",
              "work_country                                       0\n",
              "work_province                                      0\n",
              "profile_years_experience                           0\n",
              "work_years_in_company                              0\n",
              "work_years_in_current_position                     0\n",
              "work_people_in_charge_of                           0\n",
              "profile_studies_level                              0\n",
              "profile_studies_level_state                        0\n",
              "profile_career                                   299\n",
              "profile_university                               534\n",
              "profile_specialization_courses                     0\n",
              "profile_open_source_contributions                  0\n",
              "profile_programming_as_hobby                       0\n",
              "work_role                                          0\n",
              "tools_platform                                     2\n",
              "tools_programming_languages                        1\n",
              "tools_frameworks                                   1\n",
              "tools_data_bases                                   2\n",
              "tools_qa_testing                                   6\n",
              "tools_IDEs                                         1\n",
              "tools_work_pc_os                                   0\n",
              "tools_cellphone_os                                 0\n",
              "work_on_call_duty                                  0\n",
              "salary_on_call_duty_charge                         0\n",
              "work_on_call_duty_charge_type                      0\n",
              "work_contract_type                                 0\n",
              "salary_monthly_BRUTO                               0\n",
              "salary_monthly_NETO                              212\n",
              "salary_in_usd                                   5419\n",
              "salary_satisfaction                                0\n",
              "salary_comparison_last_semester                    0\n",
              "salary_has_bonus                                   0\n",
              "salary_bonus_tied_to                               0\n",
              "salary_inflation_adjustment_2020                   0\n",
              "salary_percentage_inflation_adjustment_2020        0\n",
              "salary_month_last_inflation_adjustment             0\n",
              "work_has_violence_situations                     141\n",
              "profile_sexual_orientation                       183\n",
              "profile_has_disabilities                        5495\n",
              "profile_has_disabilities_hiring_difficulties    3888\n",
              "company_employee_number                            0\n",
              "company_main_activity                              0\n",
              "company_recommended                                0\n",
              "company_diversity_policies                         0\n",
              "company_extra_benefits                             1\n",
              "company_best_companies_city                     4403\n",
              "dtype: int64"
            ]
          },
          "metadata": {
            "tags": []
          },
          "execution_count": 5
        }
      ]
    },
    {
      "cell_type": "markdown",
      "metadata": {
        "id": "sHcG-5frdstJ"
      },
      "source": [
        "En esta primera aproximación a los datos, se observan para cada variable, en relación al total de casos: los casos perdidos (se mencionará sólo si los hay); la cantidad de categorías de las variables cualitativas, y su moda; y las medidas de posición y de variabilidad de los datos en las variables cuantitativas. Se puntualiza rápidamente lo siguiente:\n",
        "\n",
        "**Muestra total:** 6095 personas (o respuestas).\n",
        "\n",
        "* **Género**: amplia mayoría de hombres en la muestra.\n",
        "* **Edad**: la mitad de la muestra tiene como máximo 31 años. Se observan valores extremos superiores -> limpiar para analizar.\n",
        "* **País del encuestado**: En Argentina el 100% de la muestra (ojo: no es país para el cual trabaja).\n",
        "* **Provincia del encuestado**: Más de la mitad en CABA.\n",
        "\n",
        "* **Experiencia laboral en años**:  la mitad de la muestra tiene como máximo 7 años de experiencia laboral. Se observan valores extremos superiores -> limpiar.\n",
        "* **Años en la empresa**: la mitad de la muestra tiene como máximo 2 años en la empresa; un 25% de la muestra lleva entre 2 y 4 años en la empresa.\n",
        "* **Gente a cargo**: Esta variable registra una muy alta dispersión -> analizar en detalle/limpiar si se la quiere seleccionar para trabajar. \n",
        "\n",
        "* **Nivel de estudio**: La mayoría (>60%) respondió Universitario, pero habría 7 categorías de rta.\n",
        "* **Estado del estudio**: Habría tres categorías, donde la moda para toda la muestra es \"Completado\", con un valor cercano al 50% de los datos.\n",
        "* **Carrera**: Tiene 299 casos perdidos. Habría 495 carreras \"diferentes\". Moda: Ing.Sist.Inf. con aprox. 1/5 del total de rtas. no vacías.\n",
        "* **Universidad**: 534 casos perdidos. Habría 799 universidades \"diferentes\". Moda: UTN con 1378 casos.\n",
        "* **Cursos**: Habría 7 categorías de rta. Más de 1/3 de la muestra respondió \"Si particular\".\n",
        "\n",
        "* **Contribuciones open source**: Un poco más de 5/6 de la muestra dijo \"No\".\n",
        "* **Programa como Hobby**: Un poco más de la 1/2 de la muestra dijo que \"Si\".\n",
        "\n",
        "* **Rol**: 334 roles. Un poco más de 1/3 de la muestra son desarrolladores (Moda).\n",
        "\n",
        "* **Plataformas**: Habría 1183 plataformas distintas. La Moda fue \"Ninguna de las anteriores\" con 744 rtas. Es decir, hay mucha variabilidad de rtas. y no es buen indicador que la moda sea \"ninguna de las anteriores\"-> Necesita trabajo de análisis detallado, depuración, agrupación de categorías, etc. Tiene dos casos perdidos.\n",
        "  * situación similar en variables: **Lenguajes de programación** (1637 categ. y 661=Ninguno), **framework** (1371 categ. y 1379=Ninguna), **data bases** (1271 categ. y 871=Ninguna), **qa testing** (717 categ. y 2173=Ninguna), **IDES** (1097 categ. y 903=Ninguna) -> Variables que necesitan análisis. Los casos perdidos oscilan entre 1 y 6 como máximo.\n",
        "\n",
        "* **Sistema Operativo Pc**: Habría 4 categorías. Más de la mitad de la muestra respondió Windows.\n",
        "* **Sistema Operativo Celular**: Habría 4 categorías. Más de 2/3 de la muestra respondió Android.\n",
        "\n",
        "* **Disponibilidad ante llamado**: Más de 2/3 de la muestra respondió NO.\n",
        "* **Salario por Disponibilidad** Prácticamente son valores extremos -> Analizar (en dólares?, otras razones? errores?).\n",
        "* **Tipo de salario por la condición \"Disponinilidad\"**: Más de la mitad de la muestra respondió como % del sueldo (habría 3 categorías de rta.)\n",
        "\n",
        "* **Tipo de contrato**: Más de 5/6 de la muestra respondió Full Time. Habría 5 categorías diferentes.\n",
        "\n",
        "* **Salario Bruto**, Variable con con alta variabilidad y extremos -> Analizar en detalle.\n",
        "  * **Salario Neto**, similar a Bruto. -> Analizar.\n",
        "\n",
        "* **Sueldo en dolares**: es categorica. Sólo respondió un 10% aprox. de la muestra (676 casos), aparentemente seleccionando una única categoría = \"Mi sueldo está dolarizado\".\n",
        "\n",
        "* **Satisfacción**: Notar -> es categórica ordinal (rta. en números estilo escala).\n",
        "\n",
        "* **Comparación salaro con último semestre**: rta. en números que parece ser categórica -> investigar la definición de la variable o pregunta realizada en la encuesta en caso de seleccionarla para trabajar. \n",
        "\n",
        "* **Tiene bono el salario**: +1/2 NO\n",
        "* ??    salary_bonus_tied_to \n",
        "* **Ajuste por inflacion en 2020**: 5 Categorias. -1/2 NO.\n",
        "* **% Ajuste infl 2020**: entre 0 y 7% al 25% de la muestra. entre 7% y 18% a otro 25%. valores extremos superiores, limpiar.\n",
        "* **% Ajuste infl. ultimo mes**: entre 2% y 6% al 25% de la muestra, entre 6% y 8% al otro 25%.\n",
        "* **Situaciones de violencia**: 3 categorias, 141 perdidos. Mayoría 4000/5000 jamás.\n",
        "* **Orientacion sexual**: 42 categorias. ---- casos perdidos. Amplia mayoria hetero. \n",
        "* **Discapacidad**: --- casos perdidos. 319 de 600 visual.\n",
        "\n"
      ]
    },
    {
      "cell_type": "code",
      "metadata": {
        "id": "6dqTEr7cZgvl"
      },
      "source": [
        "relevant_columns = [\n",
        "    'tools_programming_languages', \n",
        "    'salary_monthly_NETO', \n",
        "    'salary_monthly_BRUTO',\n",
        "    'tools_work_pc_os',\n",
        "    'work_contract_type',\n",
        "    'tools_frameworks',\n",
        "    'profile_years_experience',\n",
        "    'salary_satisfaction',\n",
        "    'company_main_activity',\n",
        "    'salary_in_usd',\n",
        "    'work_role',\n",
        "    'work_years_in_company',\n",
        "    'profile_gender',\n",
        "    'profile_age'\n",
        "]"
      ],
      "execution_count": 6,
      "outputs": []
    },
    {
      "cell_type": "markdown",
      "metadata": {
        "id": "PDNcx7U_eDzG"
      },
      "source": [
        "## 2- Selección de filas relevantes para el análisis\n",
        "\n",
        "Para esta etapa procedemos a inspeccionar los datos para su posterior filtrado."
      ]
    },
    {
      "cell_type": "markdown",
      "metadata": {
        "id": "L7Yig-yc5IB7"
      },
      "source": [
        "### 2.1 Funciones auxiliares"
      ]
    },
    {
      "cell_type": "code",
      "metadata": {
        "id": "AGHW_FnL5Fxt"
      },
      "source": [
        "def remove_outlier(df_in, col_name, iqr_factor = 1.5):\n",
        "  \"\"\"\n",
        "  IQR outliers removal (https://machinelearningmastery.com/how-to-use-statistics-to-identify-outliers-in-data/)\n",
        "  accept a dataframe, remove outliers, return cleaned data in a new dataframe\n",
        "  see http://www.itl.nist.gov/div898/handbook/prc/section1/prc16.htm\n",
        "  \"\"\"\n",
        "  q1 = df_in[col_name].quantile(0.25)\n",
        "  q3 = df_in[col_name].quantile(0.75)\n",
        "  iqr = q3 - q1 # interquartile range\n",
        "  fence_low  = q1 - iqr_factor*iqr\n",
        "  fence_high = q3 + iqr_factor*iqr\n",
        "  df_inliers = df_in.loc[(df_in[col_name] > fence_low) & (df_in[col_name] < fence_high)]\n",
        "  df_outliers = df_in.loc[(df_in[col_name] < fence_low) | (df_in[col_name] > fence_high)]\n",
        "  return df_inliers, df_outliers\n",
        "\n",
        "# Retorna un nuevo df con una columna por cada valor posible en 'column', de acuerdo al separador. Y se queda con las columnas cuya frequencia sea mayor a 'freq'\n",
        "def one_hot_encoding(df, column, separator=',', freq=0):\n",
        "  df_one_hot = df[column].str.replace(' ', '').str.lower().str.get_dummies(sep=separator)\n",
        "  for column in df_one_hot.columns:\n",
        "    if (df_one_hot[column].sum() < 10):\n",
        "        df_one_hot.drop(column, inplace=True, axis=1)\n",
        "        df_one_hot.reset_index(drop=True, inplace=True)\n",
        "  return df_one_hot"
      ],
      "execution_count": 7,
      "outputs": []
    },
    {
      "cell_type": "markdown",
      "metadata": {
        "id": "EtYcf9Aheq3T"
      },
      "source": [
        "### 2.2 Limpieza de datos"
      ]
    },
    {
      "cell_type": "markdown",
      "metadata": {
        "id": "7Lp7pIpir99a"
      },
      "source": [
        "#### Eliminación de Outliers\n",
        "\n",
        "En la variable de salario elegida, eliminamos outliers aplicando el método del Rango Intercuartílico con un coeficiente de 3.5. Para evitar distorsiones debido a valores demasiado bajos, eliminamos también todas aquellas entradas cuyo salario sea menor al salario mínimo (correspondiente al período de Octubre 2019 a Octubre del 2020 la encuesta es de Julio/Agosto 2020, 18675 ARS).\n",
        "\n",
        "Referencia: https://es.wikipedia.org/wiki/Anexo:Salario_m%C3%ADnimo_en_Argentina"
      ]
    },
    {
      "cell_type": "code",
      "metadata": {
        "colab": {
          "base_uri": "https://localhost:8080/"
        },
        "id": "tv0D8FhRsLEz",
        "outputId": "0e5e9d94-b504-4e12-923e-edabb52141b9"
      },
      "source": [
        "# Verifiquemos el rango de valores de la variable 'salary_monthly_NETO'\n",
        "df['salary_monthly_NETO'].describe()"
      ],
      "execution_count": 8,
      "outputs": [
        {
          "output_type": "execute_result",
          "data": {
            "text/plain": [
              "count      5883.00\n",
              "mean      94907.95\n",
              "std       96862.26\n",
              "min           1.00\n",
              "25%       51480.00\n",
              "50%       78000.00\n",
              "75%      106000.00\n",
              "max     2080000.00\n",
              "Name: salary_monthly_NETO, dtype: float64"
            ]
          },
          "metadata": {
            "tags": []
          },
          "execution_count": 8
        }
      ]
    },
    {
      "cell_type": "code",
      "metadata": {
        "colab": {
          "base_uri": "https://localhost:8080/"
        },
        "id": "63_OcCQB54Mr",
        "outputId": "2e3f2491-c5fb-4f89-b4af-085bf6a757a5"
      },
      "source": [
        "# Veamos en qué valores rangos de la variable 'salary_monthly_NETO' se concentra la mayor cantidad de casos.\n",
        "percentiles = [90, 95, 96, 97, 98, 99]\n",
        "for k in percentiles:\n",
        "  percentile_90 = df['salary_monthly_NETO'].quantile(k / 100)\n",
        "  n_below = len(df[df['salary_monthly_NETO'] < percentile_90])\n",
        "  n_above = len(df[df['salary_monthly_NETO'] > percentile_90])\n",
        "  print('Percentil {} de la columna {}: {}'.format(k, 'salary_monthly_NETO', percentile_90))\n",
        "  print('% de datos menor que percentil {}: {}'.format(k, n_below / len(df)))\n",
        "  print('% de datos mayor que percentil {}: {}'.format(k, n_above / len(df)))\n",
        "  print('\\n')"
      ],
      "execution_count": 9,
      "outputs": [
        {
          "output_type": "stream",
          "text": [
            "Percentil 90 de la columna salary_monthly_NETO: 150000.0\n",
            "% de datos menor que percentil 90: 0.8592288761279737\n",
            "% de datos mayor que percentil 90: 0.09532403609515996\n",
            "\n",
            "\n",
            "Percentil 95 de la columna salary_monthly_NETO: 210000.0\n",
            "% de datos menor que percentil 95: 0.9153404429860541\n",
            "% de datos mayor que percentil 95: 0.04823625922887613\n",
            "\n",
            "\n",
            "Percentil 96 de la columna salary_monthly_NETO: 250719.99999999933\n",
            "% de datos menor que percentil 96: 0.9264971287940935\n",
            "% de datos mayor que percentil 96: 0.03872026251025431\n",
            "\n",
            "\n",
            "Percentil 97 de la columna salary_monthly_NETO: 300000.0\n",
            "% de datos menor que percentil 97: 0.93552091878589\n",
            "% de datos mayor que percentil 97: 0.026579163248564398\n",
            "\n",
            "\n",
            "Percentil 98 de la columna salary_monthly_NETO: 370000.0\n",
            "% de datos menor que percentil 98: 0.9456931911402789\n",
            "% de datos mayor que percentil 98: 0.018867924528301886\n",
            "\n",
            "\n",
            "Percentil 99 de la columna salary_monthly_NETO: 491800.0000000029\n",
            "% de datos menor que percentil 99: 0.9555373256767843\n",
            "% de datos mayor que percentil 99: 0.009680065627563577\n",
            "\n",
            "\n"
          ],
          "name": "stdout"
        }
      ]
    },
    {
      "cell_type": "markdown",
      "metadata": {
        "id": "F39dYzTT6CKG"
      },
      "source": [
        "**Observaciones:**\n",
        "\n",
        "- Vemos que la variable 'salary_monthly_NETO' toma valores entre 1.00 y 2080000.00. Lo cual nos indica que los valores inferiores tan bajos pueden haber sido ingresados erróneamente, a propósito haber puesto un valor cualquiera como 1, o haber puesto el . como separador de miles (donde 100.000, queriendo haber puesto cien mil, será interpretado como valor 100). Ta,bién valores muy bajos se pueden corresponder a que ingresaron el monto en dólares y no en pesos argentinos. \n",
        "\n",
        "- Como no contamos con información para tratar cada uno de éstos casos. Eliminaremos los outliers en ambos extremos del conjunto de datos.\n",
        "\n",
        "-  Casos extremos de valores muy grandes se pueden corresponder a puestos jerárquicos o personas que cobran sueldos dolarizados. Con el método de visualizar los percentiles, vemos que el 97% de los salarios están por debajo de 300000 pesos argentinos. Y luego los percentiles 98 y 99 pegan un salto a 370000 y 491800 respectivamente. Como decisión en éste punto: consideraremos sueldos que no superen los 300000."
      ]
    },
    {
      "cell_type": "code",
      "metadata": {
        "colab": {
          "base_uri": "https://localhost:8080/"
        },
        "id": "kq1qUr-tsWip",
        "outputId": "9cc8c3ba-7d15-43db-dea7-3b82e6b2844b"
      },
      "source": [
        "print(\"Tamaño del dataset antes de remover outliers: %i \\n\" % len(df))\n",
        "\n",
        "# Removemos outliers\n",
        "df_inliers, df_outliers = remove_outlier(df, 'salary_monthly_NETO', 3.5)\n",
        "\n",
        "print(\"Cantidad de outliers eliminados: %i \\n\" % len(df_outliers))\n",
        "\n",
        "print(\"Porcentaje de outliers eliminados: {0:0.2f} % \\n\".format(len(df_outliers)/len(df)*100))\n",
        "\n",
        "df_inliers['salary_monthly_NETO'].describe()"
      ],
      "execution_count": 10,
      "outputs": [
        {
          "output_type": "stream",
          "text": [
            "Tamaño del dataset antes de remover outliers: 6095 \n",
            "\n",
            "Cantidad de outliers eliminados: 183 \n",
            "\n",
            "Porcentaje de outliers eliminados: 3.00 % \n",
            "\n"
          ],
          "name": "stdout"
        },
        {
          "output_type": "execute_result",
          "data": {
            "text/plain": [
              "count     5700.00\n",
              "mean     81995.65\n",
              "std      46605.21\n",
              "min          1.00\n",
              "25%      50000.00\n",
              "50%      75000.00\n",
              "75%     102000.00\n",
              "max     290000.00\n",
              "Name: salary_monthly_NETO, dtype: float64"
            ]
          },
          "metadata": {
            "tags": []
          },
          "execution_count": 10
        }
      ]
    },
    {
      "cell_type": "markdown",
      "metadata": {
        "id": "l7tMW7Jf6dGX"
      },
      "source": [
        "**Observaciones:**\n",
        "\n",
        "- De los 6095 registros iniciales, se eliminó el 3% (183 registros), correspondientes a valores extremos en la parte superior. Por lo tanto tenemos ahora 5700 registros en total.\n",
        "- Vemos que el valor máximo de la variable 'salary_monthly_NETO' pasó de 2080000 a 290000 (con lo cual el rango se mantiene por debajo del quantile 97 que habíamos analizado anteriormente).\n",
        "- Aún tenemos valores extremos en el rango inferior (el mínimo sigue siendo 1), que eliminaremos en el siguiente punto."
      ]
    },
    {
      "cell_type": "code",
      "metadata": {
        "colab": {
          "base_uri": "https://localhost:8080/"
        },
        "id": "3EfHjqyD6biY",
        "outputId": "c479c5b0-ab8d-4c34-f804-6d65a4c204a7"
      },
      "source": [
        "\"\"\"\n",
        "Salario Mínimo en Argentina\n",
        "referencia: https://es.wikipedia.org/wiki/Anexo:Salario_m%C3%ADnimo_en_Argentina\n",
        "\"\"\"\n",
        "\n",
        "min_salary_2020 = float(16875) # de Octubre 2019 a Octubre del 2020 (la encuesta es de Julio/Agosto 2020)\n",
        "\n",
        "# Registros a eliminar\n",
        "df_outliers_lower_limit = df_inliers.query('salary_monthly_NETO < @min_salary_2020')\n",
        "\n",
        "# Registros a mantener\n",
        "df_inliers_lower_limit = df_inliers.query('salary_monthly_NETO >= @min_salary_2020')\n",
        "df = df_inliers_lower_limit\n",
        "\n",
        "print(\"Cantidad de outliers eliminados: %i \\n\" % len(df_outliers_lower_limit))\n",
        "\n",
        "print(\"Porcentaje de outliers eliminados: {0:0.2f} % \\n\".format(len(df_outliers_lower_limit)/len(df)*100))\n",
        "\n",
        "df['salary_monthly_NETO'].describe()"
      ],
      "execution_count": 11,
      "outputs": [
        {
          "output_type": "stream",
          "text": [
            "Cantidad de outliers eliminados: 240 \n",
            "\n",
            "Porcentaje de outliers eliminados: 4.40 % \n",
            "\n"
          ],
          "name": "stdout"
        },
        {
          "output_type": "execute_result",
          "data": {
            "text/plain": [
              "count     5460.00\n",
              "mean     85474.63\n",
              "std      44484.20\n",
              "min      17000.00\n",
              "25%      54000.00\n",
              "50%      78000.00\n",
              "75%     105000.00\n",
              "max     290000.00\n",
              "Name: salary_monthly_NETO, dtype: float64"
            ]
          },
          "metadata": {
            "tags": []
          },
          "execution_count": 11
        }
      ]
    },
    {
      "cell_type": "markdown",
      "metadata": {
        "id": "sVdHUs7U6zbZ"
      },
      "source": [
        "**Observaciones:**\n",
        "\n",
        "- De los 5700 registros luego de eliminar outliers en el rango superior, se eliminó en éste paso el 4,40% (240 registros), correspondientes a valores extremos en la parte inferior. Por lo tanto tenemos ahora 5460 registros en total.\n",
        "- Vemos que el valor máximo de la variable 'salary_monthly_NETO' se mantuvo en 290000 y que el mínimo pasó de 1 a 17000 (para tener casos por encima del salario mínimo)."
      ]
    },
    {
      "cell_type": "markdown",
      "metadata": {
        "id": "86xZEpDassIM"
      },
      "source": [
        "#### Sueldos dolarizados\n",
        "\n",
        "Dependiendo en qué moneda expresaron el sueldo (neto o bruto), no será comparable con sueldos ingresados en pesos. \n",
        "\n",
        "La variable 'salary_in_usd' tiene tres valores ingresados: \n",
        "- nulo (no ingresaron valor en éste campo)\n",
        "- 'Mi sueldo está dolarizado' \n",
        "\n",
        "Y en el sueldo Neto encontramos casos con valores por debajo de 12000, por lo que no podemos discernir si esos valores están expresados en pesos o en dólares(algunos de los casos con valores por debajo de 12000, fueron eliminados como outliers)."
      ]
    },
    {
      "cell_type": "code",
      "metadata": {
        "colab": {
          "base_uri": "https://localhost:8080/",
          "height": 493
        },
        "id": "VgdeRQ0-24Yn",
        "outputId": "56348a76-55fd-49fa-c310-a927a330570b"
      },
      "source": [
        "# Creamos una nueva variable categórica para veri si los salarios están dolarizados o no\n",
        "df['salary_is_usd_cat'] = df.salary_in_usd\n",
        "df['salary_is_usd_cat'].fillna('Mi sueldo es en pesos', inplace=True)\n",
        "df['salary_is_usd_cat'].value_counts()\n",
        "#Plot sueldos dolarizados\n",
        "df['salary_is_usd_cat'].value_counts().plot.barh(title='Sueldos dolarizados');"
      ],
      "execution_count": 12,
      "outputs": [
        {
          "output_type": "stream",
          "text": [
            "/usr/local/lib/python3.7/dist-packages/ipykernel_launcher.py:2: SettingWithCopyWarning: \n",
            "A value is trying to be set on a copy of a slice from a DataFrame.\n",
            "Try using .loc[row_indexer,col_indexer] = value instead\n",
            "\n",
            "See the caveats in the documentation: https://pandas.pydata.org/pandas-docs/stable/user_guide/indexing.html#returning-a-view-versus-a-copy\n",
            "  \n",
            "/usr/local/lib/python3.7/dist-packages/pandas/core/series.py:4536: SettingWithCopyWarning: \n",
            "A value is trying to be set on a copy of a slice from a DataFrame\n",
            "\n",
            "See the caveats in the documentation: https://pandas.pydata.org/pandas-docs/stable/user_guide/indexing.html#returning-a-view-versus-a-copy\n",
            "  downcast=downcast,\n"
          ],
          "name": "stderr"
        },
        {
          "output_type": "display_data",
          "data": {
            "image/png": "[encoded data removed]",
            "text/plain": [
              "<Figure size 432x288 with 1 Axes>"
            ]
          },
          "metadata": {
            "tags": [],
            "needs_background": "light"
          }
        }
      ]
    },
    {
      "cell_type": "code",
      "metadata": {
        "colab": {
          "base_uri": "https://localhost:8080/",
          "height": 422
        },
        "id": "G7wT-_XT0nBi",
        "outputId": "f8960d78-f10b-4323-e92a-693e2f26ac7e"
      },
      "source": [
        "fig = plt.figure(figsize=(8, 6))\n",
        "g = seaborn.boxenplot(\n",
        "    data=df, \n",
        "    x='salary_monthly_NETO',\n",
        "    y='salary_is_usd_cat', \n",
        "    color='salmon'\n",
        ")\n",
        "plt.ticklabel_format(style='plain', axis='x')\n",
        "plt.title('Boxplot salario Neto vs sueldo dolarizado \\n')\n",
        "seaborn.despine()"
      ],
      "execution_count": 13,
      "outputs": [
        {
          "output_type": "display_data",
          "data": {
            "image/png": "[encoded data removed]",
            "text/plain": [
              "<Figure size 576x432 with 1 Axes>"
            ]
          },
          "metadata": {
            "tags": [],
            "needs_background": "light"
          }
        }
      ]
    },
    {
      "cell_type": "markdown",
      "metadata": {
        "id": "Dm5hjipW7yqG"
      },
      "source": [
        "**Observaciones:**\n",
        "\n",
        "- Vemos que hay dos sub-poblaciones. Se decide dejar la población completa para el análisis, pero luego se analizarán las diferencias en sueldos y lenguajes según las sub-poblaciones. "
      ]
    },
    {
      "cell_type": "markdown",
      "metadata": {
        "id": "ftYqjFoMtJ2d"
      },
      "source": [
        "#### Trabajos Full-Time vs No Full-Time\n",
        "\n",
        "Veamos si los sueldos promedios de quienes no trabajan full time, son menores que los que trabajan full time por medio de graficar diferentes boxplots."
      ]
    },
    {
      "cell_type": "code",
      "metadata": {
        "colab": {
          "base_uri": "https://localhost:8080/",
          "height": 729
        },
        "id": "E1kW8HbC89Vk",
        "outputId": "96e74321-4fbe-4d4f-b010-c0f6bf554867"
      },
      "source": [
        "order = ['Full-Time', 'Tercerizado', 'Part-Time', 'Freelance', 'Remoto']\n",
        "fig, axes = plt.subplots(figsize=(8, 10), nrows=3)\n",
        "\n",
        "# Boxplot de toda la muestra (salarios dolarizados y no)\n",
        "seaborn.boxenplot(\n",
        "    data=df, \n",
        "    x='salary_monthly_NETO',\n",
        "    y='work_contract_type', \n",
        "    color='salmon', \n",
        "    ax=axes[0],\n",
        "    order=order\n",
        ").set_title(\"Salarios dolarizados y no dolarizados\")\n",
        "\n",
        "# Boxplot de los salarios en pesos\n",
        "seaborn.boxenplot(\n",
        "    data=df[df['salary_is_usd_cat'] == 'Mi sueldo es en pesos'], \n",
        "    x='salary_monthly_NETO',\n",
        "    y='work_contract_type', \n",
        "    color='salmon', \n",
        "    ax=axes[1],\n",
        "    order=order\n",
        ").set_title(\"Salario en pesos\")\n",
        "\n",
        "# Boxplot de los salarios en dólares\n",
        "seaborn.boxenplot(\n",
        "    data=df[df['salary_is_usd_cat'] == 'Mi sueldo está dolarizado'], \n",
        "    x='salary_monthly_NETO',\n",
        "    y='work_contract_type', \n",
        "    color='salmon',\n",
        "    ax=axes[2],\n",
        "    order=order\n",
        ").set_title(\"Salario dolarizado\")\n",
        "\n",
        "#plt.xlabel(\"Salario mensual NETO ($)\")\n",
        "plt.ticklabel_format(style='plain', axis='x')\n",
        "seaborn.despine()\n",
        "fig.tight_layout(h_pad=3)"
      ],
      "execution_count": 14,
      "outputs": [
        {
          "output_type": "display_data",
          "data": {
            "image/png": "[encoded data removed]",
            "text/plain": [
              "<Figure size 576x720 with 3 Axes>"
            ]
          },
          "metadata": {
            "tags": [],
            "needs_background": "light"
          }
        }
      ]
    },
    {
      "cell_type": "code",
      "metadata": {
        "colab": {
          "base_uri": "https://localhost:8080/",
          "height": 139
        },
        "id": "jUXkIqEitPaQ",
        "outputId": "0546304d-6200-4f6e-98a0-f01af6c6f11d"
      },
      "source": [
        "# Personas por modalidad de trabajo\n",
        "display(df.work_contract_type.value_counts())\n",
        "print(\"Cantidad de valores nulos: \", len(df[df['work_contract_type'].isnull()])) # No hay valores nulos."
      ],
      "execution_count": 15,
      "outputs": [
        {
          "output_type": "display_data",
          "data": {
            "text/plain": [
              "Full-Time                                                 4787\n",
              "Part-Time                                                  273\n",
              "Tercerizado (trabajo a través de consultora o agencia)     193\n",
              "Freelance                                                  131\n",
              "Remoto (empresa de otro país)                               76\n",
              "Name: work_contract_type, dtype: int64"
            ]
          },
          "metadata": {
            "tags": []
          }
        },
        {
          "output_type": "stream",
          "text": [
            "Cantidad de valores nulos:  0\n"
          ],
          "name": "stdout"
        }
      ]
    },
    {
      "cell_type": "code",
      "metadata": {
        "colab": {
          "base_uri": "https://localhost:8080/"
        },
        "id": "eCjJSfzLtTr3",
        "outputId": "92ae03b7-6d7d-43e7-ae02-bc2c2c6f4c34"
      },
      "source": [
        "# % de personas por modalidad de trabajo\n",
        "full_time = df.work_contract_type.isin(['Full-Time'])\n",
        "print(\"% de personas que tienen modalidad Full-Time: \", len(df[full_time])/len(df)*100)\n",
        "no_full_time = df.work_contract_type.isin(['Part-Time', 'Tercerizado (trabajo a través de consultora o agencia)', 'Freelance', 'Remoto (empresa de otro país)'])\n",
        "print(\"% de personas que tienen modalidad diferentes a Full-Time: \", len(df[no_full_time])/len(df)*100)"
      ],
      "execution_count": 16,
      "outputs": [
        {
          "output_type": "stream",
          "text": [
            "% de personas que tienen modalidad Full-Time:  87.67399267399267\n",
            "% de personas que tienen modalidad diferentes a Full-Time:  12.326007326007327\n"
          ],
          "name": "stdout"
        }
      ]
    },
    {
      "cell_type": "code",
      "metadata": {
        "colab": {
          "base_uri": "https://localhost:8080/"
        },
        "id": "pQN0SVAatW49",
        "outputId": "3acf1637-f84f-4c9c-dbf4-c207c9f770d3"
      },
      "source": [
        "# Comparamos los salarios en base a la mediana\n",
        "no_full_time_median = df[no_full_time].salary_monthly_NETO.median()\n",
        "full_time_median = df[df.work_contract_type.isin(['Full-Time'])].salary_monthly_NETO.median()\n",
        "print(\"Mediana de los salarios Full-Time: \", full_time_median)\n",
        "print(\"Mediana de los salarios no Full-Time: \", no_full_time_median)"
      ],
      "execution_count": 17,
      "outputs": [
        {
          "output_type": "stream",
          "text": [
            "Mediana de los salarios Full-Time:  80000.0\n",
            "Mediana de los salarios no Full-Time:  57000.0\n"
          ],
          "name": "stdout"
        }
      ]
    },
    {
      "cell_type": "markdown",
      "metadata": {
        "id": "at4Mpd3ftbHd"
      },
      "source": [
        "**Observaciones:**\n",
        "\n",
        "- Si bien se presentan valores de mediana y distribuciones que difieren en los diferentes grupos de acuerdo al contract type y si el sueldo es dolarizado o no. Se decide continuar con el análisis de toda la muestra, y dejar para un posterior análisis éstos grupos diferenciados."
      ]
    },
    {
      "cell_type": "markdown",
      "metadata": {
        "id": "SfUE27H1tlH_"
      },
      "source": [
        "**Enfocaremos el análisis en una sub-población:**\n",
        "\n",
        "- Personas con un salario Neto mayor que al salario mínimo (i.e > 16875 pesos) y menor al quantile 97 (290000 pesos).\n"
      ]
    },
    {
      "cell_type": "markdown",
      "metadata": {
        "id": "-skOe54LHVK_"
      },
      "source": [
        "#### Manejo de valores nulos en la variable 'tools_programming_languages'"
      ]
    },
    {
      "cell_type": "code",
      "metadata": {
        "colab": {
          "base_uri": "https://localhost:8080/"
        },
        "id": "_mtigs18Hbpx",
        "outputId": "4044b8c3-12e3-46b1-b739-01bedc6cca61"
      },
      "source": [
        "print(\"Cantidad de valores nulos en la variable tools_programming_languages: %i \\n\" % len(df[df['tools_programming_languages'].isnull()])) \n",
        "# Reemplazaremos los valores null por 'Ninguno'\n",
        "df.tools_programming_languages.replace(numpy.NaN, 'Ninguno', inplace=True)\n",
        "print(\"Cantidad de valores nulos en la variable tools_programming_languages luego del reemplazo: %i \\n\" % len(df[df['tools_programming_languages'].isnull()]))"
      ],
      "execution_count": 18,
      "outputs": [
        {
          "output_type": "stream",
          "text": [
            "Cantidad de valores nulos en la variable tools_programming_languages: 1 \n",
            "\n",
            "Cantidad de valores nulos en la variable tools_programming_languages luego del reemplazo: 0 \n",
            "\n"
          ],
          "name": "stdout"
        },
        {
          "output_type": "stream",
          "text": [
            "/usr/local/lib/python3.7/dist-packages/pandas/core/series.py:4582: SettingWithCopyWarning: \n",
            "A value is trying to be set on a copy of a slice from a DataFrame\n",
            "\n",
            "See the caveats in the documentation: https://pandas.pydata.org/pandas-docs/stable/user_guide/indexing.html#returning-a-view-versus-a-copy\n",
            "  method=method,\n"
          ],
          "name": "stderr"
        }
      ]
    },
    {
      "cell_type": "markdown",
      "metadata": {
        "id": "lkrGBgzyYUr-"
      },
      "source": [
        "## 3- Análisis de métricas\n",
        "\n",
        "- Compararemos las distribuciones de salario para cada lenguaje utilizando visualizaciones. \n",
        "- Comparararemos medidas de estadística descriptiva sobre la distribución de salario para cada lenguaje."
      ]
    },
    {
      "cell_type": "markdown",
      "metadata": {
        "id": "p5V0q2QrG7f5"
      },
      "source": [
        "#### 3.1 Análisis de la variable lenguajes de programación\n",
        "\n",
        "La columna que contiene información sobre los lenguajes de programación utilizados es `tools_programming_languages`. Sus valores son strings con los lenguajes seleccionados separados por comas."
      ]
    },
    {
      "cell_type": "code",
      "metadata": {
        "colab": {
          "base_uri": "https://localhost:8080/"
        },
        "id": "lkxcUNvYG6t6",
        "outputId": "6e17e665-4c28-42e6-8f21-f04bd70d8923"
      },
      "source": [
        "df.tools_programming_languages.value_counts() # Hay más de mil valores diferentes ingresados en el campo 'tools_programming_languages'."
      ],
      "execution_count": 19,
      "outputs": [
        {
          "output_type": "execute_result",
          "data": {
            "text/plain": [
              "Ninguno de los anteriores                                               597\n",
              "Ninguno                                                                 301\n",
              "Python                                                                  151\n",
              "SQL                                                                     149\n",
              "Java                                                                    142\n",
              "                                                                       ... \n",
              "HTML, Java, Javascript, PHP, SQL, TypeScript                              1\n",
              "Bash/Shell, Java, Javascript, Objective-C, Ruby, Swift                    1\n",
              "C, C++, HTML, Java, Javascript, PHP, Python, SQL, SOAP, Biztalk, VB6      1\n",
              "CSS, Dart, HTML, Java, Javascript, Kotlin                                 1\n",
              ".NET, C#, Go, Java, Kotlin                                                1\n",
              "Name: tools_programming_languages, Length: 1498, dtype: int64"
            ]
          },
          "metadata": {
            "tags": []
          },
          "execution_count": 19
        }
      ]
    },
    {
      "cell_type": "markdown",
      "metadata": {
        "id": "jV5xgUtXHQYZ"
      },
      "source": [
        "**Observaciones**\n",
        "\n",
        "- Debido a que los usuarios ingresaron como lenguaje uno o más valores, separados por coma y de texto libre, debemos buscar la forma de normalizar éstos valores de lebguajes, para quedarnos con una lista de lenguajes identificados como válidos."
      ]
    },
    {
      "cell_type": "markdown",
      "metadata": {
        "id": "U1Uk_E8UHzAh"
      },
      "source": [
        "#### 3.2 Convertimos cada lenguaje a variables categóricas (One hot encoding)\n",
        "\n",
        "Con ésta técnica tendremos el mismo dataframe con nuevas columnas (una por cada lenguaje identificado, o los N más frecuentes) donde asignaremos valores binarios.\n",
        "Entonces alguien que utiliza sólo Python va a tener un verdadero (equivalente a un 1) en esa columna y un falso en Java (0), SQL (0), etc. De esta manera iremos construyendo una matriz."
      ]
    },
    {
      "cell_type": "code",
      "metadata": {
        "colab": {
          "base_uri": "https://localhost:8080/",
          "height": 215
        },
        "id": "RJFXfJAsHyjs",
        "outputId": "8cfc51b7-b2d9-4893-c106-db1ad487292c"
      },
      "source": [
        "# Convertimos cada lenguaje en una columna con 0 o 1 y nos quedamos con las columnas cuya frecuencia sea mayor a 10\n",
        "print(\"Tamaño del dataset: %i \\n\" % len(df))\n",
        "df_one_hot = one_hot_encoding(df, 'tools_programming_languages', separator=',', freq= 10)\n",
        "print(\"Tamaño del nuevo dataframe df_one_hot: \", df_one_hot.shape)\n",
        "df_one_hot.head(3)\n",
        "# Quedaron unas 35 columnas, i.e., 35 lenguajes."
      ],
      "execution_count": 20,
      "outputs": [
        {
          "output_type": "stream",
          "text": [
            "Tamaño del dataset: 5460 \n",
            "\n",
            "Tamaño del nuevo dataframe df_one_hot:  (5460, 37)\n"
          ],
          "name": "stdout"
        },
        {
          "output_type": "execute_result",
          "data": {
            "text/html": [
              "<div>\n",
              "<style scoped>\n",
              "    .dataframe tbody tr th:only-of-type {\n",
              "        vertical-align: middle;\n",
              "    }\n",
              "\n",
              "    .dataframe tbody tr th {\n",
              "        vertical-align: top;\n",
              "    }\n",
              "\n",
              "    .dataframe thead th {\n",
              "        text-align: right;\n",
              "    }\n",
              "</style>\n",
              "<table border=\"1\" class=\"dataframe\">\n",
              "  <thead>\n",
              "    <tr style=\"text-align: right;\">\n",
              "      <th></th>\n",
              "      <th>.net</th>\n",
              "      <th>abap</th>\n",
              "      <th>actionscript</th>\n",
              "      <th>apex</th>\n",
              "      <th>assembler</th>\n",
              "      <th>bash/shell</th>\n",
              "      <th>c</th>\n",
              "      <th>c#</th>\n",
              "      <th>c++</th>\n",
              "      <th>cobol</th>\n",
              "      <th>css</th>\n",
              "      <th>dart</th>\n",
              "      <th>delphi</th>\n",
              "      <th>go</th>\n",
              "      <th>groovy</th>\n",
              "      <th>html</th>\n",
              "      <th>java</th>\n",
              "      <th>javascript</th>\n",
              "      <th>kotlin</th>\n",
              "      <th>matlab</th>\n",
              "      <th>ninguno</th>\n",
              "      <th>ningunodelosanteriores</th>\n",
              "      <th>objective-c</th>\n",
              "      <th>perl</th>\n",
              "      <th>php</th>\n",
              "      <th>pl/sql</th>\n",
              "      <th>powershell</th>\n",
              "      <th>python</th>\n",
              "      <th>r</th>\n",
              "      <th>ruby</th>\n",
              "      <th>rust</th>\n",
              "      <th>scala</th>\n",
              "      <th>smalltalk</th>\n",
              "      <th>sql</th>\n",
              "      <th>swift</th>\n",
              "      <th>typescript</th>\n",
              "      <th>vba</th>\n",
              "    </tr>\n",
              "  </thead>\n",
              "  <tbody>\n",
              "    <tr>\n",
              "      <th>0</th>\n",
              "      <td>0</td>\n",
              "      <td>0</td>\n",
              "      <td>0</td>\n",
              "      <td>0</td>\n",
              "      <td>0</td>\n",
              "      <td>0</td>\n",
              "      <td>0</td>\n",
              "      <td>0</td>\n",
              "      <td>0</td>\n",
              "      <td>0</td>\n",
              "      <td>0</td>\n",
              "      <td>0</td>\n",
              "      <td>0</td>\n",
              "      <td>0</td>\n",
              "      <td>0</td>\n",
              "      <td>0</td>\n",
              "      <td>0</td>\n",
              "      <td>0</td>\n",
              "      <td>0</td>\n",
              "      <td>0</td>\n",
              "      <td>1</td>\n",
              "      <td>0</td>\n",
              "      <td>0</td>\n",
              "      <td>0</td>\n",
              "      <td>0</td>\n",
              "      <td>0</td>\n",
              "      <td>0</td>\n",
              "      <td>0</td>\n",
              "      <td>0</td>\n",
              "      <td>0</td>\n",
              "      <td>0</td>\n",
              "      <td>0</td>\n",
              "      <td>0</td>\n",
              "      <td>0</td>\n",
              "      <td>0</td>\n",
              "      <td>0</td>\n",
              "      <td>0</td>\n",
              "    </tr>\n",
              "    <tr>\n",
              "      <th>1</th>\n",
              "      <td>0</td>\n",
              "      <td>0</td>\n",
              "      <td>0</td>\n",
              "      <td>0</td>\n",
              "      <td>0</td>\n",
              "      <td>0</td>\n",
              "      <td>0</td>\n",
              "      <td>0</td>\n",
              "      <td>0</td>\n",
              "      <td>0</td>\n",
              "      <td>0</td>\n",
              "      <td>0</td>\n",
              "      <td>0</td>\n",
              "      <td>0</td>\n",
              "      <td>0</td>\n",
              "      <td>1</td>\n",
              "      <td>0</td>\n",
              "      <td>1</td>\n",
              "      <td>0</td>\n",
              "      <td>0</td>\n",
              "      <td>0</td>\n",
              "      <td>0</td>\n",
              "      <td>0</td>\n",
              "      <td>0</td>\n",
              "      <td>0</td>\n",
              "      <td>0</td>\n",
              "      <td>0</td>\n",
              "      <td>1</td>\n",
              "      <td>0</td>\n",
              "      <td>0</td>\n",
              "      <td>0</td>\n",
              "      <td>0</td>\n",
              "      <td>0</td>\n",
              "      <td>0</td>\n",
              "      <td>0</td>\n",
              "      <td>0</td>\n",
              "      <td>0</td>\n",
              "    </tr>\n",
              "    <tr>\n",
              "      <th>2</th>\n",
              "      <td>0</td>\n",
              "      <td>0</td>\n",
              "      <td>0</td>\n",
              "      <td>0</td>\n",
              "      <td>0</td>\n",
              "      <td>0</td>\n",
              "      <td>0</td>\n",
              "      <td>0</td>\n",
              "      <td>0</td>\n",
              "      <td>0</td>\n",
              "      <td>0</td>\n",
              "      <td>0</td>\n",
              "      <td>0</td>\n",
              "      <td>0</td>\n",
              "      <td>0</td>\n",
              "      <td>0</td>\n",
              "      <td>0</td>\n",
              "      <td>0</td>\n",
              "      <td>0</td>\n",
              "      <td>0</td>\n",
              "      <td>1</td>\n",
              "      <td>0</td>\n",
              "      <td>0</td>\n",
              "      <td>0</td>\n",
              "      <td>0</td>\n",
              "      <td>0</td>\n",
              "      <td>0</td>\n",
              "      <td>0</td>\n",
              "      <td>0</td>\n",
              "      <td>0</td>\n",
              "      <td>0</td>\n",
              "      <td>0</td>\n",
              "      <td>0</td>\n",
              "      <td>0</td>\n",
              "      <td>0</td>\n",
              "      <td>0</td>\n",
              "      <td>0</td>\n",
              "    </tr>\n",
              "  </tbody>\n",
              "</table>\n",
              "</div>"
            ],
            "text/plain": [
              "   .net  abap  actionscript  apex  ...  sql  swift  typescript  vba\n",
              "0     0     0             0     0  ...    0      0           0    0\n",
              "1     0     0             0     0  ...    0      0           0    0\n",
              "2     0     0             0     0  ...    0      0           0    0\n",
              "\n",
              "[3 rows x 37 columns]"
            ]
          },
          "metadata": {
            "tags": []
          },
          "execution_count": 20
        }
      ]
    },
    {
      "cell_type": "code",
      "metadata": {
        "colab": {
          "base_uri": "https://localhost:8080/",
          "height": 349
        },
        "id": "ZxD07NbxIBB6",
        "outputId": "d6c25e9f-5309-42e9-a6e4-8fe14cf0b6a8"
      },
      "source": [
        "# Eliminamos las columnas 'ninguno' y 'ningunodelosanteriores'\n",
        "df_one_hot.drop(columns=['ninguno','ningunodelosanteriores'], axis=1, inplace=True)\n",
        "df_one_hot.reset_index(drop=True, inplace=True)\n",
        "# Concatenamos ambos dataframes (el df y el df_one_encoding) para agregar las columnas de cada lenguaje\n",
        "df = pd.concat([df, df_one_hot], axis=1) #48+33=81 columnas\n",
        "print(\"Tamaño del dataframe agregando una columna por cada lenguaje: \", df.shape)\n",
        "df.head(3)\n",
        "# Tenemos ahora 33 valores de \"lenguales de programación\", los que tenían frecuencia mayor a 10."
      ],
      "execution_count": 21,
      "outputs": [
        {
          "output_type": "stream",
          "text": [
            "Tamaño del dataframe agregando una columna por cada lenguaje:  (6013, 84)\n"
          ],
          "name": "stdout"
        },
        {
          "output_type": "execute_result",
          "data": {
            "text/html": [
              "<div>\n",
              "<style scoped>\n",
              "    .dataframe tbody tr th:only-of-type {\n",
              "        vertical-align: middle;\n",
              "    }\n",
              "\n",
              "    .dataframe tbody tr th {\n",
              "        vertical-align: top;\n",
              "    }\n",
              "\n",
              "    .dataframe thead th {\n",
              "        text-align: right;\n",
              "    }\n",
              "</style>\n",
              "<table border=\"1\" class=\"dataframe\">\n",
              "  <thead>\n",
              "    <tr style=\"text-align: right;\">\n",
              "      <th></th>\n",
              "      <th>profile_gender</th>\n",
              "      <th>profile_age</th>\n",
              "      <th>work_country</th>\n",
              "      <th>work_province</th>\n",
              "      <th>profile_years_experience</th>\n",
              "      <th>work_years_in_company</th>\n",
              "      <th>work_years_in_current_position</th>\n",
              "      <th>work_people_in_charge_of</th>\n",
              "      <th>profile_studies_level</th>\n",
              "      <th>profile_studies_level_state</th>\n",
              "      <th>profile_career</th>\n",
              "      <th>profile_university</th>\n",
              "      <th>profile_specialization_courses</th>\n",
              "      <th>profile_open_source_contributions</th>\n",
              "      <th>profile_programming_as_hobby</th>\n",
              "      <th>work_role</th>\n",
              "      <th>tools_platform</th>\n",
              "      <th>tools_programming_languages</th>\n",
              "      <th>tools_frameworks</th>\n",
              "      <th>tools_data_bases</th>\n",
              "      <th>tools_qa_testing</th>\n",
              "      <th>tools_IDEs</th>\n",
              "      <th>tools_work_pc_os</th>\n",
              "      <th>tools_cellphone_os</th>\n",
              "      <th>work_on_call_duty</th>\n",
              "      <th>salary_on_call_duty_charge</th>\n",
              "      <th>work_on_call_duty_charge_type</th>\n",
              "      <th>work_contract_type</th>\n",
              "      <th>salary_monthly_BRUTO</th>\n",
              "      <th>salary_monthly_NETO</th>\n",
              "      <th>salary_in_usd</th>\n",
              "      <th>salary_satisfaction</th>\n",
              "      <th>salary_comparison_last_semester</th>\n",
              "      <th>salary_has_bonus</th>\n",
              "      <th>salary_bonus_tied_to</th>\n",
              "      <th>salary_inflation_adjustment_2020</th>\n",
              "      <th>salary_percentage_inflation_adjustment_2020</th>\n",
              "      <th>salary_month_last_inflation_adjustment</th>\n",
              "      <th>work_has_violence_situations</th>\n",
              "      <th>profile_sexual_orientation</th>\n",
              "      <th>...</th>\n",
              "      <th>company_recommended</th>\n",
              "      <th>company_diversity_policies</th>\n",
              "      <th>company_extra_benefits</th>\n",
              "      <th>company_best_companies_city</th>\n",
              "      <th>salary_is_usd_cat</th>\n",
              "      <th>.net</th>\n",
              "      <th>abap</th>\n",
              "      <th>actionscript</th>\n",
              "      <th>apex</th>\n",
              "      <th>assembler</th>\n",
              "      <th>bash/shell</th>\n",
              "      <th>c</th>\n",
              "      <th>c#</th>\n",
              "      <th>c++</th>\n",
              "      <th>cobol</th>\n",
              "      <th>css</th>\n",
              "      <th>dart</th>\n",
              "      <th>delphi</th>\n",
              "      <th>go</th>\n",
              "      <th>groovy</th>\n",
              "      <th>html</th>\n",
              "      <th>java</th>\n",
              "      <th>javascript</th>\n",
              "      <th>kotlin</th>\n",
              "      <th>matlab</th>\n",
              "      <th>objective-c</th>\n",
              "      <th>perl</th>\n",
              "      <th>php</th>\n",
              "      <th>pl/sql</th>\n",
              "      <th>powershell</th>\n",
              "      <th>python</th>\n",
              "      <th>r</th>\n",
              "      <th>ruby</th>\n",
              "      <th>rust</th>\n",
              "      <th>scala</th>\n",
              "      <th>smalltalk</th>\n",
              "      <th>sql</th>\n",
              "      <th>swift</th>\n",
              "      <th>typescript</th>\n",
              "      <th>vba</th>\n",
              "    </tr>\n",
              "  </thead>\n",
              "  <tbody>\n",
              "    <tr>\n",
              "      <th>0</th>\n",
              "      <td>Mujer</td>\n",
              "      <td>26.00</td>\n",
              "      <td>Argentina</td>\n",
              "      <td>Ciudad Autónoma de Buenos Aires</td>\n",
              "      <td>3.00</td>\n",
              "      <td>3.00</td>\n",
              "      <td>3.00</td>\n",
              "      <td>0.00</td>\n",
              "      <td>Universitario</td>\n",
              "      <td>En curso</td>\n",
              "      <td>Ingeniería en Sistemas de Información</td>\n",
              "      <td>UTN - Universidad Tecnológica Nacional</td>\n",
              "      <td>Sí, los pagó un empleador</td>\n",
              "      <td>No</td>\n",
              "      <td>Sí</td>\n",
              "      <td>Consultant</td>\n",
              "      <td>Ninguna</td>\n",
              "      <td>Ninguno</td>\n",
              "      <td>Ninguno</td>\n",
              "      <td>Ninguna</td>\n",
              "      <td>Ninguna</td>\n",
              "      <td>Ninguno</td>\n",
              "      <td>GNU/Linux</td>\n",
              "      <td>Android</td>\n",
              "      <td>No</td>\n",
              "      <td>0.00</td>\n",
              "      <td>Bruto</td>\n",
              "      <td>Full-Time</td>\n",
              "      <td>53000.00</td>\n",
              "      <td>43000.00</td>\n",
              "      <td>NaN</td>\n",
              "      <td>1.00</td>\n",
              "      <td>1.00</td>\n",
              "      <td>No</td>\n",
              "      <td>No recibo bono</td>\n",
              "      <td>No</td>\n",
              "      <td>0.00</td>\n",
              "      <td>0.00</td>\n",
              "      <td>En mi trabajo actual</td>\n",
              "      <td>Homosexual</td>\n",
              "      <td>...</td>\n",
              "      <td>7.00</td>\n",
              "      <td>2.00</td>\n",
              "      <td>Capacitaciones y/o cursos, Comidas pagas / sub...</td>\n",
              "      <td>NaN</td>\n",
              "      <td>Mi sueldo es en pesos</td>\n",
              "      <td>0.00</td>\n",
              "      <td>0.00</td>\n",
              "      <td>0.00</td>\n",
              "      <td>0.00</td>\n",
              "      <td>0.00</td>\n",
              "      <td>0.00</td>\n",
              "      <td>0.00</td>\n",
              "      <td>0.00</td>\n",
              "      <td>0.00</td>\n",
              "      <td>0.00</td>\n",
              "      <td>0.00</td>\n",
              "      <td>0.00</td>\n",
              "      <td>0.00</td>\n",
              "      <td>0.00</td>\n",
              "      <td>0.00</td>\n",
              "      <td>0.00</td>\n",
              "      <td>0.00</td>\n",
              "      <td>0.00</td>\n",
              "      <td>0.00</td>\n",
              "      <td>0.00</td>\n",
              "      <td>0.00</td>\n",
              "      <td>0.00</td>\n",
              "      <td>0.00</td>\n",
              "      <td>0.00</td>\n",
              "      <td>0.00</td>\n",
              "      <td>0.00</td>\n",
              "      <td>0.00</td>\n",
              "      <td>0.00</td>\n",
              "      <td>0.00</td>\n",
              "      <td>0.00</td>\n",
              "      <td>0.00</td>\n",
              "      <td>0.00</td>\n",
              "      <td>0.00</td>\n",
              "      <td>0.00</td>\n",
              "      <td>0.00</td>\n",
              "    </tr>\n",
              "    <tr>\n",
              "      <th>1</th>\n",
              "      <td>Hombre</td>\n",
              "      <td>29.00</td>\n",
              "      <td>Argentina</td>\n",
              "      <td>Corrientes</td>\n",
              "      <td>5.00</td>\n",
              "      <td>2.00</td>\n",
              "      <td>2.00</td>\n",
              "      <td>4.00</td>\n",
              "      <td>Universitario</td>\n",
              "      <td>En curso</td>\n",
              "      <td>Ingeniería en Sistemas de Información</td>\n",
              "      <td>UTN - Universidad Tecnológica Nacional</td>\n",
              "      <td>Sí, de forma particular, Sí, los pagó un emple...</td>\n",
              "      <td>No</td>\n",
              "      <td>Sí</td>\n",
              "      <td>Developer</td>\n",
              "      <td>Docker, Google Cloud Platform/App Engine</td>\n",
              "      <td>HTML, Javascript, Python</td>\n",
              "      <td>Django, jQuery</td>\n",
              "      <td>Informix, MySQL, PostgreSQL</td>\n",
              "      <td>Ninguna</td>\n",
              "      <td>IPython / Jupyter, Sublime Text, Visual Studio...</td>\n",
              "      <td>GNU/Linux</td>\n",
              "      <td>Android</td>\n",
              "      <td>No</td>\n",
              "      <td>0.00</td>\n",
              "      <td>Bruto</td>\n",
              "      <td>Full-Time</td>\n",
              "      <td>79000.00</td>\n",
              "      <td>63000.00</td>\n",
              "      <td>NaN</td>\n",
              "      <td>2.00</td>\n",
              "      <td>2.00</td>\n",
              "      <td>Menos de un sueldo</td>\n",
              "      <td>Performance de la compañía</td>\n",
              "      <td>Uno</td>\n",
              "      <td>10.00</td>\n",
              "      <td>1.00</td>\n",
              "      <td>Jamás</td>\n",
              "      <td>Heterosexual</td>\n",
              "      <td>...</td>\n",
              "      <td>8.00</td>\n",
              "      <td>9.00</td>\n",
              "      <td>Horarios flexibles, Stock options / RSUs, Viát...</td>\n",
              "      <td>NaN</td>\n",
              "      <td>Mi sueldo es en pesos</td>\n",
              "      <td>0.00</td>\n",
              "      <td>0.00</td>\n",
              "      <td>0.00</td>\n",
              "      <td>0.00</td>\n",
              "      <td>0.00</td>\n",
              "      <td>0.00</td>\n",
              "      <td>0.00</td>\n",
              "      <td>0.00</td>\n",
              "      <td>0.00</td>\n",
              "      <td>0.00</td>\n",
              "      <td>0.00</td>\n",
              "      <td>0.00</td>\n",
              "      <td>0.00</td>\n",
              "      <td>0.00</td>\n",
              "      <td>0.00</td>\n",
              "      <td>1.00</td>\n",
              "      <td>0.00</td>\n",
              "      <td>1.00</td>\n",
              "      <td>0.00</td>\n",
              "      <td>0.00</td>\n",
              "      <td>0.00</td>\n",
              "      <td>0.00</td>\n",
              "      <td>0.00</td>\n",
              "      <td>0.00</td>\n",
              "      <td>0.00</td>\n",
              "      <td>1.00</td>\n",
              "      <td>0.00</td>\n",
              "      <td>0.00</td>\n",
              "      <td>0.00</td>\n",
              "      <td>0.00</td>\n",
              "      <td>0.00</td>\n",
              "      <td>0.00</td>\n",
              "      <td>0.00</td>\n",
              "      <td>0.00</td>\n",
              "      <td>0.00</td>\n",
              "    </tr>\n",
              "    <tr>\n",
              "      <th>2</th>\n",
              "      <td>Mujer</td>\n",
              "      <td>22.00</td>\n",
              "      <td>Argentina</td>\n",
              "      <td>Ciudad Autónoma de Buenos Aires</td>\n",
              "      <td>2.00</td>\n",
              "      <td>0.00</td>\n",
              "      <td>0.00</td>\n",
              "      <td>0.00</td>\n",
              "      <td>Secundario</td>\n",
              "      <td>Completado</td>\n",
              "      <td>NaN</td>\n",
              "      <td>NaN</td>\n",
              "      <td>Sí, de forma particular, Sí, los pagó un emple...</td>\n",
              "      <td>No</td>\n",
              "      <td>Sí</td>\n",
              "      <td>Infosec</td>\n",
              "      <td>Linux, VMWare</td>\n",
              "      <td>Ninguno</td>\n",
              "      <td>Ninguno</td>\n",
              "      <td>Ninguna</td>\n",
              "      <td>Ninguna</td>\n",
              "      <td>Ninguno</td>\n",
              "      <td>Windows</td>\n",
              "      <td>iOS</td>\n",
              "      <td>No</td>\n",
              "      <td>0.00</td>\n",
              "      <td>Porcentaje de mi sueldo</td>\n",
              "      <td>Full-Time</td>\n",
              "      <td>160000.00</td>\n",
              "      <td>127000.00</td>\n",
              "      <td>NaN</td>\n",
              "      <td>3.00</td>\n",
              "      <td>3.00</td>\n",
              "      <td>Un sueldo</td>\n",
              "      <td>Performance individual</td>\n",
              "      <td>No</td>\n",
              "      <td>0.00</td>\n",
              "      <td>0.00</td>\n",
              "      <td>En un trabajo anterior</td>\n",
              "      <td>Bisexual o queer</td>\n",
              "      <td>...</td>\n",
              "      <td>6.00</td>\n",
              "      <td>9.00</td>\n",
              "      <td>Clases de gimnasia online, Comidas pagas / sub...</td>\n",
              "      <td>NaN</td>\n",
              "      <td>Mi sueldo es en pesos</td>\n",
              "      <td>0.00</td>\n",
              "      <td>0.00</td>\n",
              "      <td>0.00</td>\n",
              "      <td>0.00</td>\n",
              "      <td>0.00</td>\n",
              "      <td>0.00</td>\n",
              "      <td>0.00</td>\n",
              "      <td>0.00</td>\n",
              "      <td>0.00</td>\n",
              "      <td>0.00</td>\n",
              "      <td>0.00</td>\n",
              "      <td>0.00</td>\n",
              "      <td>0.00</td>\n",
              "      <td>0.00</td>\n",
              "      <td>0.00</td>\n",
              "      <td>0.00</td>\n",
              "      <td>0.00</td>\n",
              "      <td>0.00</td>\n",
              "      <td>0.00</td>\n",
              "      <td>0.00</td>\n",
              "      <td>0.00</td>\n",
              "      <td>0.00</td>\n",
              "      <td>0.00</td>\n",
              "      <td>0.00</td>\n",
              "      <td>0.00</td>\n",
              "      <td>0.00</td>\n",
              "      <td>0.00</td>\n",
              "      <td>0.00</td>\n",
              "      <td>0.00</td>\n",
              "      <td>0.00</td>\n",
              "      <td>0.00</td>\n",
              "      <td>0.00</td>\n",
              "      <td>0.00</td>\n",
              "      <td>0.00</td>\n",
              "      <td>0.00</td>\n",
              "    </tr>\n",
              "  </tbody>\n",
              "</table>\n",
              "<p>3 rows × 84 columns</p>\n",
              "</div>"
            ],
            "text/plain": [
              "  profile_gender  profile_age work_country  ... swift  typescript  vba\n",
              "0          Mujer        26.00    Argentina  ...  0.00        0.00 0.00\n",
              "1         Hombre        29.00    Argentina  ...  0.00        0.00 0.00\n",
              "2          Mujer        22.00    Argentina  ...  0.00        0.00 0.00\n",
              "\n",
              "[3 rows x 84 columns]"
            ]
          },
          "metadata": {
            "tags": []
          },
          "execution_count": 21
        }
      ]
    },
    {
      "cell_type": "markdown",
      "metadata": {
        "id": "bmdSRbcEIXnF"
      },
      "source": [
        "#### 3.3 Frecuencia de cada lenguaje"
      ]
    },
    {
      "cell_type": "code",
      "metadata": {
        "colab": {
          "base_uri": "https://localhost:8080/",
          "height": 1000
        },
        "id": "JmulpAIAIbpY",
        "outputId": "2becf5b1-626c-4c0f-82c3-296a939de402"
      },
      "source": [
        "# Frecuencia de cada lenguaje, teniendo en cuenta que cada persona puede trabajar en uno o más lenguajes.\n",
        "lang_columns = df_one_hot.columns\n",
        "lang_freq = df[lang_columns].sum().sort_values(ascending=False).reset_index()\n",
        "lang_freq = lang_freq.rename(columns={'index': 'Language', 0: 'Freq'})\n",
        "lang_freq"
      ],
      "execution_count": 22,
      "outputs": [
        {
          "output_type": "execute_result",
          "data": {
            "text/html": [
              "<div>\n",
              "<style scoped>\n",
              "    .dataframe tbody tr th:only-of-type {\n",
              "        vertical-align: middle;\n",
              "    }\n",
              "\n",
              "    .dataframe tbody tr th {\n",
              "        vertical-align: top;\n",
              "    }\n",
              "\n",
              "    .dataframe thead th {\n",
              "        text-align: right;\n",
              "    }\n",
              "</style>\n",
              "<table border=\"1\" class=\"dataframe\">\n",
              "  <thead>\n",
              "    <tr style=\"text-align: right;\">\n",
              "      <th></th>\n",
              "      <th>Language</th>\n",
              "      <th>Freq</th>\n",
              "    </tr>\n",
              "  </thead>\n",
              "  <tbody>\n",
              "    <tr>\n",
              "      <th>0</th>\n",
              "      <td>javascript</td>\n",
              "      <td>2209.00</td>\n",
              "    </tr>\n",
              "    <tr>\n",
              "      <th>1</th>\n",
              "      <td>sql</td>\n",
              "      <td>1950.00</td>\n",
              "    </tr>\n",
              "    <tr>\n",
              "      <th>2</th>\n",
              "      <td>html</td>\n",
              "      <td>1647.00</td>\n",
              "    </tr>\n",
              "    <tr>\n",
              "      <th>3</th>\n",
              "      <td>java</td>\n",
              "      <td>1326.00</td>\n",
              "    </tr>\n",
              "    <tr>\n",
              "      <th>4</th>\n",
              "      <td>python</td>\n",
              "      <td>1315.00</td>\n",
              "    </tr>\n",
              "    <tr>\n",
              "      <th>5</th>\n",
              "      <td>css</td>\n",
              "      <td>1101.00</td>\n",
              "    </tr>\n",
              "    <tr>\n",
              "      <th>6</th>\n",
              "      <td>bash/shell</td>\n",
              "      <td>903.00</td>\n",
              "    </tr>\n",
              "    <tr>\n",
              "      <th>7</th>\n",
              "      <td>php</td>\n",
              "      <td>790.00</td>\n",
              "    </tr>\n",
              "    <tr>\n",
              "      <th>8</th>\n",
              "      <td>.net</td>\n",
              "      <td>737.00</td>\n",
              "    </tr>\n",
              "    <tr>\n",
              "      <th>9</th>\n",
              "      <td>typescript</td>\n",
              "      <td>680.00</td>\n",
              "    </tr>\n",
              "    <tr>\n",
              "      <th>10</th>\n",
              "      <td>c#</td>\n",
              "      <td>655.00</td>\n",
              "    </tr>\n",
              "    <tr>\n",
              "      <th>11</th>\n",
              "      <td>go</td>\n",
              "      <td>256.00</td>\n",
              "    </tr>\n",
              "    <tr>\n",
              "      <th>12</th>\n",
              "      <td>c++</td>\n",
              "      <td>237.00</td>\n",
              "    </tr>\n",
              "    <tr>\n",
              "      <th>13</th>\n",
              "      <td>c</td>\n",
              "      <td>209.00</td>\n",
              "    </tr>\n",
              "    <tr>\n",
              "      <th>14</th>\n",
              "      <td>vba</td>\n",
              "      <td>208.00</td>\n",
              "    </tr>\n",
              "    <tr>\n",
              "      <th>15</th>\n",
              "      <td>kotlin</td>\n",
              "      <td>168.00</td>\n",
              "    </tr>\n",
              "    <tr>\n",
              "      <th>16</th>\n",
              "      <td>groovy</td>\n",
              "      <td>147.00</td>\n",
              "    </tr>\n",
              "    <tr>\n",
              "      <th>17</th>\n",
              "      <td>ruby</td>\n",
              "      <td>120.00</td>\n",
              "    </tr>\n",
              "    <tr>\n",
              "      <th>18</th>\n",
              "      <td>scala</td>\n",
              "      <td>99.00</td>\n",
              "    </tr>\n",
              "    <tr>\n",
              "      <th>19</th>\n",
              "      <td>swift</td>\n",
              "      <td>87.00</td>\n",
              "    </tr>\n",
              "    <tr>\n",
              "      <th>20</th>\n",
              "      <td>r</td>\n",
              "      <td>75.00</td>\n",
              "    </tr>\n",
              "    <tr>\n",
              "      <th>21</th>\n",
              "      <td>cobol</td>\n",
              "      <td>74.00</td>\n",
              "    </tr>\n",
              "    <tr>\n",
              "      <th>22</th>\n",
              "      <td>abap</td>\n",
              "      <td>68.00</td>\n",
              "    </tr>\n",
              "    <tr>\n",
              "      <th>23</th>\n",
              "      <td>perl</td>\n",
              "      <td>54.00</td>\n",
              "    </tr>\n",
              "    <tr>\n",
              "      <th>24</th>\n",
              "      <td>objective-c</td>\n",
              "      <td>42.00</td>\n",
              "    </tr>\n",
              "    <tr>\n",
              "      <th>25</th>\n",
              "      <td>powershell</td>\n",
              "      <td>36.00</td>\n",
              "    </tr>\n",
              "    <tr>\n",
              "      <th>26</th>\n",
              "      <td>delphi</td>\n",
              "      <td>36.00</td>\n",
              "    </tr>\n",
              "    <tr>\n",
              "      <th>27</th>\n",
              "      <td>dart</td>\n",
              "      <td>34.00</td>\n",
              "    </tr>\n",
              "    <tr>\n",
              "      <th>28</th>\n",
              "      <td>actionscript</td>\n",
              "      <td>31.00</td>\n",
              "    </tr>\n",
              "    <tr>\n",
              "      <th>29</th>\n",
              "      <td>assembler</td>\n",
              "      <td>27.00</td>\n",
              "    </tr>\n",
              "    <tr>\n",
              "      <th>30</th>\n",
              "      <td>matlab</td>\n",
              "      <td>25.00</td>\n",
              "    </tr>\n",
              "    <tr>\n",
              "      <th>31</th>\n",
              "      <td>apex</td>\n",
              "      <td>19.00</td>\n",
              "    </tr>\n",
              "    <tr>\n",
              "      <th>32</th>\n",
              "      <td>smalltalk</td>\n",
              "      <td>16.00</td>\n",
              "    </tr>\n",
              "    <tr>\n",
              "      <th>33</th>\n",
              "      <td>rust</td>\n",
              "      <td>14.00</td>\n",
              "    </tr>\n",
              "    <tr>\n",
              "      <th>34</th>\n",
              "      <td>pl/sql</td>\n",
              "      <td>14.00</td>\n",
              "    </tr>\n",
              "  </tbody>\n",
              "</table>\n",
              "</div>"
            ],
            "text/plain": [
              "        Language    Freq\n",
              "0     javascript 2209.00\n",
              "1            sql 1950.00\n",
              "2           html 1647.00\n",
              "3           java 1326.00\n",
              "4         python 1315.00\n",
              "5            css 1101.00\n",
              "6     bash/shell  903.00\n",
              "7            php  790.00\n",
              "8           .net  737.00\n",
              "9     typescript  680.00\n",
              "10            c#  655.00\n",
              "11            go  256.00\n",
              "12           c++  237.00\n",
              "13             c  209.00\n",
              "14           vba  208.00\n",
              "15        kotlin  168.00\n",
              "16        groovy  147.00\n",
              "17          ruby  120.00\n",
              "18         scala   99.00\n",
              "19         swift   87.00\n",
              "20             r   75.00\n",
              "21         cobol   74.00\n",
              "22          abap   68.00\n",
              "23          perl   54.00\n",
              "24   objective-c   42.00\n",
              "25    powershell   36.00\n",
              "26        delphi   36.00\n",
              "27          dart   34.00\n",
              "28  actionscript   31.00\n",
              "29     assembler   27.00\n",
              "30        matlab   25.00\n",
              "31          apex   19.00\n",
              "32     smalltalk   16.00\n",
              "33          rust   14.00\n",
              "34        pl/sql   14.00"
            ]
          },
          "metadata": {
            "tags": []
          },
          "execution_count": 22
        }
      ]
    },
    {
      "cell_type": "code",
      "metadata": {
        "colab": {
          "base_uri": "https://localhost:8080/",
          "height": 661
        },
        "id": "_SaBPFxWIhEj",
        "outputId": "a5f54f61-ecc9-4d86-e47b-4ed5084bc082"
      },
      "source": [
        "# Plot Frecuencia de cada Lenguaje\n",
        "plt.figure(figsize=(12, 10))\n",
        "seaborn.barplot(x='Freq', y='Language', data=lang_freq)\n",
        "plt.xticks(fontsize=12)\n",
        "plt.yticks(fontsize=12)\n",
        "plt.title('Frecuencia de cada Lenguaje \\n')"
      ],
      "execution_count": 23,
      "outputs": [
        {
          "output_type": "execute_result",
          "data": {
            "text/plain": [
              "Text(0.5, 1.0, 'Frecuencia de cada Lenguaje \\n')"
            ]
          },
          "metadata": {
            "tags": []
          },
          "execution_count": 23
        },
        {
          "output_type": "display_data",
          "data": {
            "image/png": "[encoded data removed]",
            "text/plain": [
              "<Figure size 864x720 with 1 Axes>"
            ]
          },
          "metadata": {
            "tags": [],
            "needs_background": "light"
          }
        }
      ]
    },
    {
      "cell_type": "code",
      "metadata": {
        "colab": {
          "base_uri": "https://localhost:8080/"
        },
        "id": "Du8XGezVI7dt",
        "outputId": "9d103465-344f-4687-b274-3e9c9828dded"
      },
      "source": [
        "# Total de ocurrencias de lenguajes\n",
        "lang_freq['Freq'].sum()"
      ],
      "execution_count": 24,
      "outputs": [
        {
          "output_type": "execute_result",
          "data": {
            "text/plain": [
              "15409.0"
            ]
          },
          "metadata": {
            "tags": []
          },
          "execution_count": 24
        }
      ]
    },
    {
      "cell_type": "code",
      "metadata": {
        "colab": {
          "base_uri": "https://localhost:8080/"
        },
        "id": "SVpr41zYI7ID",
        "outputId": "9002d605-3ca7-497e-a417-56f7f9931b1f"
      },
      "source": [
        "# Cantidad de ocurrencias de los primeros 6 lenguajes más frecuentes (6 de 33 = 18,18%)\n",
        "lang_freq['Freq'][:6].sum()/lang_freq['Freq'].sum()*100"
      ],
      "execution_count": 25,
      "outputs": [
        {
          "output_type": "execute_result",
          "data": {
            "text/plain": [
              "61.96378739697579"
            ]
          },
          "metadata": {
            "tags": []
          },
          "execution_count": 25
        }
      ]
    },
    {
      "cell_type": "markdown",
      "metadata": {
        "id": "l7MQYt5-JBXg"
      },
      "source": [
        "**Observaciones:**\n",
        "\n",
        "-  Los primeros 6 lenguajes más frecuentes, concentran más del 60% de las ocurrencias.\n",
        "-  Como analizaremos más adelante, los lenguajes más frecuentes no son necesariamente los que tienen mejor salario (esto es, que cobren por encima de la media de los salarios)."
      ]
    },
    {
      "cell_type": "markdown",
      "metadata": {
        "id": "wGROVjQtJKef"
      },
      "source": [
        "#### 3.4 Lenguajes de los mejores y peores salarios\n",
        "\n",
        "Veamos los lenguajes de \"los mejores salarios\" (i.e: aquellos que superan la media, éste orden no necesariamente refleja que estén en orden de mejor pagos)."
      ]
    },
    {
      "cell_type": "code",
      "metadata": {
        "colab": {
          "base_uri": "https://localhost:8080/",
          "height": 398
        },
        "id": "-wfxuALXJQt3",
        "outputId": "3c3a4ccd-6574-4921-b21b-98f7f8f552a0"
      },
      "source": [
        "# Lenguajes más frequentes entre los que ganan más o igual que el salario neto promedio\n",
        "avg_salary = df['salary_monthly_NETO'].mean()\n",
        "print(\"Salario Neto promedio: %i \\n\" % avg_salary)\n",
        "is_above_avg = df['salary_monthly_NETO'] >= avg_salary\n",
        "lang_freq2= df[is_above_avg][lang_columns].sum().sort_values(ascending=False).reset_index()\n",
        "lang_freq2 = lang_freq2.rename(columns={'index': 'Language', 0: 'Freq'})\n",
        "lang_freq2.head(10)"
      ],
      "execution_count": 26,
      "outputs": [
        {
          "output_type": "stream",
          "text": [
            "Salario Neto promedio: 85474 \n",
            "\n"
          ],
          "name": "stdout"
        },
        {
          "output_type": "execute_result",
          "data": {
            "text/html": [
              "<div>\n",
              "<style scoped>\n",
              "    .dataframe tbody tr th:only-of-type {\n",
              "        vertical-align: middle;\n",
              "    }\n",
              "\n",
              "    .dataframe tbody tr th {\n",
              "        vertical-align: top;\n",
              "    }\n",
              "\n",
              "    .dataframe thead th {\n",
              "        text-align: right;\n",
              "    }\n",
              "</style>\n",
              "<table border=\"1\" class=\"dataframe\">\n",
              "  <thead>\n",
              "    <tr style=\"text-align: right;\">\n",
              "      <th></th>\n",
              "      <th>Language</th>\n",
              "      <th>Freq</th>\n",
              "    </tr>\n",
              "  </thead>\n",
              "  <tbody>\n",
              "    <tr>\n",
              "      <th>0</th>\n",
              "      <td>javascript</td>\n",
              "      <td>831.00</td>\n",
              "    </tr>\n",
              "    <tr>\n",
              "      <th>1</th>\n",
              "      <td>sql</td>\n",
              "      <td>714.00</td>\n",
              "    </tr>\n",
              "    <tr>\n",
              "      <th>2</th>\n",
              "      <td>html</td>\n",
              "      <td>622.00</td>\n",
              "    </tr>\n",
              "    <tr>\n",
              "      <th>3</th>\n",
              "      <td>python</td>\n",
              "      <td>497.00</td>\n",
              "    </tr>\n",
              "    <tr>\n",
              "      <th>4</th>\n",
              "      <td>java</td>\n",
              "      <td>471.00</td>\n",
              "    </tr>\n",
              "    <tr>\n",
              "      <th>5</th>\n",
              "      <td>css</td>\n",
              "      <td>413.00</td>\n",
              "    </tr>\n",
              "    <tr>\n",
              "      <th>6</th>\n",
              "      <td>bash/shell</td>\n",
              "      <td>338.00</td>\n",
              "    </tr>\n",
              "    <tr>\n",
              "      <th>7</th>\n",
              "      <td>php</td>\n",
              "      <td>307.00</td>\n",
              "    </tr>\n",
              "    <tr>\n",
              "      <th>8</th>\n",
              "      <td>.net</td>\n",
              "      <td>261.00</td>\n",
              "    </tr>\n",
              "    <tr>\n",
              "      <th>9</th>\n",
              "      <td>typescript</td>\n",
              "      <td>238.00</td>\n",
              "    </tr>\n",
              "  </tbody>\n",
              "</table>\n",
              "</div>"
            ],
            "text/plain": [
              "     Language   Freq\n",
              "0  javascript 831.00\n",
              "1         sql 714.00\n",
              "2        html 622.00\n",
              "3      python 497.00\n",
              "4        java 471.00\n",
              "5         css 413.00\n",
              "6  bash/shell 338.00\n",
              "7         php 307.00\n",
              "8        .net 261.00\n",
              "9  typescript 238.00"
            ]
          },
          "metadata": {
            "tags": []
          },
          "execution_count": 26
        }
      ]
    },
    {
      "cell_type": "code",
      "metadata": {
        "colab": {
          "base_uri": "https://localhost:8080/",
          "height": 363
        },
        "id": "Rf9yNhSMJQe3",
        "outputId": "99a72e17-8bf6-4287-f80d-11a7481a0a9d"
      },
      "source": [
        "# Lenguajes más frequentes entre los que ganan menos del salario neto promedio\n",
        "is_above_avg2 = df['salary_monthly_NETO'] < avg_salary\n",
        "lang_freq3= df[is_above_avg2][lang_columns].sum().sort_values(ascending=False).reset_index()\n",
        "lang_freq3 = lang_freq3.rename(columns={'index': 'Language', 0: 'Freq'})\n",
        "lang_freq3.head(10)"
      ],
      "execution_count": 27,
      "outputs": [
        {
          "output_type": "execute_result",
          "data": {
            "text/html": [
              "<div>\n",
              "<style scoped>\n",
              "    .dataframe tbody tr th:only-of-type {\n",
              "        vertical-align: middle;\n",
              "    }\n",
              "\n",
              "    .dataframe tbody tr th {\n",
              "        vertical-align: top;\n",
              "    }\n",
              "\n",
              "    .dataframe thead th {\n",
              "        text-align: right;\n",
              "    }\n",
              "</style>\n",
              "<table border=\"1\" class=\"dataframe\">\n",
              "  <thead>\n",
              "    <tr style=\"text-align: right;\">\n",
              "      <th></th>\n",
              "      <th>Language</th>\n",
              "      <th>Freq</th>\n",
              "    </tr>\n",
              "  </thead>\n",
              "  <tbody>\n",
              "    <tr>\n",
              "      <th>0</th>\n",
              "      <td>javascript</td>\n",
              "      <td>1135.00</td>\n",
              "    </tr>\n",
              "    <tr>\n",
              "      <th>1</th>\n",
              "      <td>sql</td>\n",
              "      <td>1034.00</td>\n",
              "    </tr>\n",
              "    <tr>\n",
              "      <th>2</th>\n",
              "      <td>html</td>\n",
              "      <td>852.00</td>\n",
              "    </tr>\n",
              "    <tr>\n",
              "      <th>3</th>\n",
              "      <td>java</td>\n",
              "      <td>698.00</td>\n",
              "    </tr>\n",
              "    <tr>\n",
              "      <th>4</th>\n",
              "      <td>python</td>\n",
              "      <td>681.00</td>\n",
              "    </tr>\n",
              "    <tr>\n",
              "      <th>5</th>\n",
              "      <td>css</td>\n",
              "      <td>577.00</td>\n",
              "    </tr>\n",
              "    <tr>\n",
              "      <th>6</th>\n",
              "      <td>bash/shell</td>\n",
              "      <td>465.00</td>\n",
              "    </tr>\n",
              "    <tr>\n",
              "      <th>7</th>\n",
              "      <td>.net</td>\n",
              "      <td>399.00</td>\n",
              "    </tr>\n",
              "    <tr>\n",
              "      <th>8</th>\n",
              "      <td>php</td>\n",
              "      <td>398.00</td>\n",
              "    </tr>\n",
              "    <tr>\n",
              "      <th>9</th>\n",
              "      <td>typescript</td>\n",
              "      <td>373.00</td>\n",
              "    </tr>\n",
              "  </tbody>\n",
              "</table>\n",
              "</div>"
            ],
            "text/plain": [
              "     Language    Freq\n",
              "0  javascript 1135.00\n",
              "1         sql 1034.00\n",
              "2        html  852.00\n",
              "3        java  698.00\n",
              "4      python  681.00\n",
              "5         css  577.00\n",
              "6  bash/shell  465.00\n",
              "7        .net  399.00\n",
              "8         php  398.00\n",
              "9  typescript  373.00"
            ]
          },
          "metadata": {
            "tags": []
          },
          "execution_count": 27
        }
      ]
    },
    {
      "cell_type": "markdown",
      "metadata": {
        "id": "wbUYBoV5JYqy"
      },
      "source": [
        "**Observaciones:**\n",
        "\n",
        "- Se puede ver que los lenguajes más frecuentes, casi no varían entre los que cobran mayor o menor al salario medio. Por lo tanto no existe una relación entre \"trabajar con  los lenguajes más frecuentes\" y \"cobrar más\".\n",
        "\n",
        "- Entre los lenguajes más frecuentes tenemos casos de personas que cobran tanto por encima como por debajo de la media.\n",
        "\n"
      ]
    },
    {
      "cell_type": "markdown",
      "metadata": {
        "id": "o3H8nkdaJl20"
      },
      "source": [
        "#### 3.5 ¿Cuáles son los lenguajes de programación asociados a los mejores salarios?"
      ]
    },
    {
      "cell_type": "code",
      "metadata": {
        "colab": {
          "base_uri": "https://localhost:8080/",
          "height": 363
        },
        "id": "IHqnOMj-Jkza",
        "outputId": "6a7925a4-e587-4a5f-e5aa-be6d78d7d981"
      },
      "source": [
        "# Lenguajes vs. salarios medios\n",
        "# Una persona puede trabajar con más de un lenguaje\n",
        "salary_mean_by_lang = {}\n",
        "for lang in lang_columns:\n",
        "  mean_salary = df[df[lang]==1]['salary_monthly_NETO'].mean()\n",
        "  freq = len(df[df[lang]==1])\n",
        "  salary_mean_by_lang.update({lang: [mean_salary, freq]})\n",
        "df2 = pd.DataFrame(list(salary_mean_by_lang.items()), columns=['Languajes','Mean_Salary_and_Freq'])\n",
        "df2[['Mean_Salary','Freq']] = pd.DataFrame(df2.Mean_Salary_and_Freq.tolist(), index= df2.index)\n",
        "df2.drop('Mean_Salary_and_Freq', axis=1, inplace=True)\n",
        "df2 = df2.sort_values(by=['Mean_Salary'], ascending=False, ignore_index=True)\n",
        "df2.head(10)"
      ],
      "execution_count": 28,
      "outputs": [
        {
          "output_type": "execute_result",
          "data": {
            "text/html": [
              "<div>\n",
              "<style scoped>\n",
              "    .dataframe tbody tr th:only-of-type {\n",
              "        vertical-align: middle;\n",
              "    }\n",
              "\n",
              "    .dataframe tbody tr th {\n",
              "        vertical-align: top;\n",
              "    }\n",
              "\n",
              "    .dataframe thead th {\n",
              "        text-align: right;\n",
              "    }\n",
              "</style>\n",
              "<table border=\"1\" class=\"dataframe\">\n",
              "  <thead>\n",
              "    <tr style=\"text-align: right;\">\n",
              "      <th></th>\n",
              "      <th>Languajes</th>\n",
              "      <th>Mean_Salary</th>\n",
              "      <th>Freq</th>\n",
              "    </tr>\n",
              "  </thead>\n",
              "  <tbody>\n",
              "    <tr>\n",
              "      <th>0</th>\n",
              "      <td>objective-c</td>\n",
              "      <td>99231.84</td>\n",
              "      <td>42</td>\n",
              "    </tr>\n",
              "    <tr>\n",
              "      <th>1</th>\n",
              "      <td>smalltalk</td>\n",
              "      <td>95083.06</td>\n",
              "      <td>16</td>\n",
              "    </tr>\n",
              "    <tr>\n",
              "      <th>2</th>\n",
              "      <td>perl</td>\n",
              "      <td>89520.64</td>\n",
              "      <td>54</td>\n",
              "    </tr>\n",
              "    <tr>\n",
              "      <th>3</th>\n",
              "      <td>ruby</td>\n",
              "      <td>89193.21</td>\n",
              "      <td>120</td>\n",
              "    </tr>\n",
              "    <tr>\n",
              "      <th>4</th>\n",
              "      <td>assembler</td>\n",
              "      <td>89001.64</td>\n",
              "      <td>27</td>\n",
              "    </tr>\n",
              "    <tr>\n",
              "      <th>5</th>\n",
              "      <td>rust</td>\n",
              "      <td>88840.00</td>\n",
              "      <td>14</td>\n",
              "    </tr>\n",
              "    <tr>\n",
              "      <th>6</th>\n",
              "      <td>groovy</td>\n",
              "      <td>88214.76</td>\n",
              "      <td>147</td>\n",
              "    </tr>\n",
              "    <tr>\n",
              "      <th>7</th>\n",
              "      <td>scala</td>\n",
              "      <td>87034.26</td>\n",
              "      <td>99</td>\n",
              "    </tr>\n",
              "    <tr>\n",
              "      <th>8</th>\n",
              "      <td>php</td>\n",
              "      <td>86346.12</td>\n",
              "      <td>790</td>\n",
              "    </tr>\n",
              "    <tr>\n",
              "      <th>9</th>\n",
              "      <td>go</td>\n",
              "      <td>85674.05</td>\n",
              "      <td>256</td>\n",
              "    </tr>\n",
              "  </tbody>\n",
              "</table>\n",
              "</div>"
            ],
            "text/plain": [
              "     Languajes  Mean_Salary  Freq\n",
              "0  objective-c     99231.84    42\n",
              "1    smalltalk     95083.06    16\n",
              "2         perl     89520.64    54\n",
              "3         ruby     89193.21   120\n",
              "4    assembler     89001.64    27\n",
              "5         rust     88840.00    14\n",
              "6       groovy     88214.76   147\n",
              "7        scala     87034.26    99\n",
              "8          php     86346.12   790\n",
              "9           go     85674.05   256"
            ]
          },
          "metadata": {
            "tags": []
          },
          "execution_count": 28
        }
      ]
    },
    {
      "cell_type": "code",
      "metadata": {
        "colab": {
          "base_uri": "https://localhost:8080/",
          "height": 770
        },
        "id": "NzEpPotvJjFx",
        "outputId": "e692bf7b-105c-4e2a-bfd8-f339ed99d26e"
      },
      "source": [
        "# Plot de Salarios neto promedio por lenguaje de programación\n",
        "plt.figure(figsize=(10, 12))\n",
        "seaborn.barplot(x=\"Mean_Salary\", y=\"Languajes\", data=df2)\n",
        "plt.xticks(fontsize=12)\n",
        "plt.yticks(fontsize=12)\n",
        "plt.title('Salarios neto promedio por lenguaje de programación \\n')"
      ],
      "execution_count": 29,
      "outputs": [
        {
          "output_type": "execute_result",
          "data": {
            "text/plain": [
              "Text(0.5, 1.0, 'Salarios neto promedio por lenguaje de programación \\n')"
            ]
          },
          "metadata": {
            "tags": []
          },
          "execution_count": 29
        },
        {
          "output_type": "display_data",
          "data": {
            "image/png": "[encoded data removed]",
            "text/plain": [
              "<Figure size 720x864 with 1 Axes>"
            ]
          },
          "metadata": {
            "tags": [],
            "needs_background": "light"
          }
        }
      ]
    },
    {
      "cell_type": "markdown",
      "metadata": {
        "id": "twuRfMm4J_oY"
      },
      "source": [
        "**Observaciones:**\n",
        "\n",
        "- Volviendo a la pregunta inicial del ejercicio 1: \"¿Cuáles son los lenguajes de programación asociados a los mejores salarios?\", podemos ver entre los lenguajes mejores pagos (ésto es cuyo salario medio es mayor al salario medio de otro lenguaje):\n",
        "  - Smaltak\n",
        "  - etc\n",
        "  - etc"
      ]
    },
    {
      "cell_type": "markdown",
      "metadata": {
        "id": "T9JdQz_4KHKo"
      },
      "source": [
        "#### 3.6 Análisis del impacto de las variables 'company_main_activity'"
      ]
    },
    {
      "cell_type": "code",
      "metadata": {
        "colab": {
          "base_uri": "https://localhost:8080/"
        },
        "id": "NmIGmuTWKOVU",
        "outputId": "04f51adf-8cf0-4c7e-ad65-33b7f7521a5f"
      },
      "source": [
        "df['company_main_activity'].value_counts()"
      ],
      "execution_count": 30,
      "outputs": [
        {
          "output_type": "execute_result",
          "data": {
            "text/plain": [
              "Servicios / Consultoría de Software / Digital    1925\n",
              "Producto basado en Software                      1909\n",
              "Otras industrias                                 1626\n",
              "Name: company_main_activity, dtype: int64"
            ]
          },
          "metadata": {
            "tags": []
          },
          "execution_count": 30
        }
      ]
    },
    {
      "cell_type": "code",
      "metadata": {
        "colab": {
          "base_uri": "https://localhost:8080/",
          "height": 282
        },
        "id": "ACrt69edKOL0",
        "outputId": "52891beb-7c35-43ba-f583-9b18c2d367f2"
      },
      "source": [
        "df['company_main_activity'].value_counts().plot.barh(title='Actividad principal');"
      ],
      "execution_count": 31,
      "outputs": [
        {
          "output_type": "display_data",
          "data": {
            "image/png": "[encoded data removed]",
            "text/plain": [
              "<Figure size 432x288 with 1 Axes>"
            ]
          },
          "metadata": {
            "tags": [],
            "needs_background": "light"
          }
        }
      ]
    },
    {
      "cell_type": "markdown",
      "metadata": {
        "id": "_Tpm8LjVKaTY"
      },
      "source": [
        "**Observaciones:**\n",
        "\n",
        "- Al tener sólo tres categorías, se descarta la variable 'company_main_activity' para su análisis. Se visualiza también que la muestra está distribuída de manera proporcional en esas tres categorías."
      ]
    },
    {
      "cell_type": "markdown",
      "metadata": {
        "id": "IS38qpdcKwsC"
      },
      "source": [
        "#### 3.7 Análisis del impacto de las variables 'profile_years_experience'"
      ]
    },
    {
      "cell_type": "code",
      "metadata": {
        "colab": {
          "base_uri": "https://localhost:8080/",
          "height": 499
        },
        "id": "67szDPKyKwZz",
        "outputId": "b10f0a74-4010-4b06-ea40-eb54bb77252d"
      },
      "source": [
        "# Veamos la cantidad de años de trabajo que tiene la gente agrupadas cada tres años para mejorar la visualización.\n",
        "df['profile_years_experience'].\\\n",
        "                            apply(lambda x: 3 * (x // 3)).\\\n",
        "                            value_counts(sort=True, ascending=True).\\\n",
        "                            tail(20).plot.barh(title='Años de experiencia (agrupado de a tres)', figsize=(12,8));"
      ],
      "execution_count": 32,
      "outputs": [
        {
          "output_type": "display_data",
          "data": {
            "image/png": "[encoded data removed]",
            "text/plain": [
              "<Figure size 864x576 with 1 Axes>"
            ]
          },
          "metadata": {
            "tags": [],
            "needs_background": "light"
          }
        }
      ]
    },
    {
      "cell_type": "markdown",
      "metadata": {
        "id": "5bvl94cMOCKg"
      },
      "source": [
        "**Observaciones:**\n",
        "\n",
        "- La mayoría de los encuestados se concentra en los rangos de experiencia entre 0-3 y 3-6 años de experiencia.\n",
        "- Pero si se contabiliza el total de encuestados que tienen más de 6 años de experiencia como un sólo grupo, éste pasa a ser mayoritario."
      ]
    },
    {
      "cell_type": "code",
      "metadata": {
        "colab": {
          "base_uri": "https://localhost:8080/",
          "height": 363
        },
        "id": "O0tT6h3tK_El",
        "outputId": "79512331-b89f-4977-e836-cb98f2dbe8f9"
      },
      "source": [
        "# Años de experiencia (media) vs lenguajes de programación\n",
        "salary_mean_by_lang = {}\n",
        "for lang in lang_columns:\n",
        "  mean_years_experience = df[df[lang]==1]['profile_years_experience'].mean()\n",
        "  freq = len(df[df[lang]==1])\n",
        "  #freq = df[lang].sum()\n",
        "  salary_mean_by_lang.update({lang: [mean_years_experience, freq]})\n",
        "df3 = pd.DataFrame(list(salary_mean_by_lang.items()), columns=['Languajes','Mean_Years_Experience_and_Freq'])\n",
        "df3[['Mean_Years_Experience','Freq']] = pd.DataFrame(df3.Mean_Years_Experience_and_Freq.tolist(), index= df3.index)\n",
        "df3.drop('Mean_Years_Experience_and_Freq', axis=1, inplace=True)\n",
        "df3 = df3.sort_values(by=['Mean_Years_Experience'], ascending=False, ignore_index=True)\n",
        "df3.head(10)"
      ],
      "execution_count": 33,
      "outputs": [
        {
          "output_type": "execute_result",
          "data": {
            "text/html": [
              "<div>\n",
              "<style scoped>\n",
              "    .dataframe tbody tr th:only-of-type {\n",
              "        vertical-align: middle;\n",
              "    }\n",
              "\n",
              "    .dataframe tbody tr th {\n",
              "        vertical-align: top;\n",
              "    }\n",
              "\n",
              "    .dataframe thead th {\n",
              "        text-align: right;\n",
              "    }\n",
              "</style>\n",
              "<table border=\"1\" class=\"dataframe\">\n",
              "  <thead>\n",
              "    <tr style=\"text-align: right;\">\n",
              "      <th></th>\n",
              "      <th>Languajes</th>\n",
              "      <th>Mean_Years_Experience</th>\n",
              "      <th>Freq</th>\n",
              "    </tr>\n",
              "  </thead>\n",
              "  <tbody>\n",
              "    <tr>\n",
              "      <th>0</th>\n",
              "      <td>r</td>\n",
              "      <td>10.85</td>\n",
              "      <td>75</td>\n",
              "    </tr>\n",
              "    <tr>\n",
              "      <th>1</th>\n",
              "      <td>cobol</td>\n",
              "      <td>10.09</td>\n",
              "      <td>74</td>\n",
              "    </tr>\n",
              "    <tr>\n",
              "      <th>2</th>\n",
              "      <td>ruby</td>\n",
              "      <td>10.03</td>\n",
              "      <td>120</td>\n",
              "    </tr>\n",
              "    <tr>\n",
              "      <th>3</th>\n",
              "      <td>powershell</td>\n",
              "      <td>10.00</td>\n",
              "      <td>36</td>\n",
              "    </tr>\n",
              "    <tr>\n",
              "      <th>4</th>\n",
              "      <td>apex</td>\n",
              "      <td>9.95</td>\n",
              "      <td>19</td>\n",
              "    </tr>\n",
              "    <tr>\n",
              "      <th>5</th>\n",
              "      <td>delphi</td>\n",
              "      <td>9.49</td>\n",
              "      <td>36</td>\n",
              "    </tr>\n",
              "    <tr>\n",
              "      <th>6</th>\n",
              "      <td>pl/sql</td>\n",
              "      <td>9.33</td>\n",
              "      <td>14</td>\n",
              "    </tr>\n",
              "    <tr>\n",
              "      <th>7</th>\n",
              "      <td>objective-c</td>\n",
              "      <td>9.22</td>\n",
              "      <td>42</td>\n",
              "    </tr>\n",
              "    <tr>\n",
              "      <th>8</th>\n",
              "      <td>actionscript</td>\n",
              "      <td>9.20</td>\n",
              "      <td>31</td>\n",
              "    </tr>\n",
              "    <tr>\n",
              "      <th>9</th>\n",
              "      <td>smalltalk</td>\n",
              "      <td>9.19</td>\n",
              "      <td>16</td>\n",
              "    </tr>\n",
              "  </tbody>\n",
              "</table>\n",
              "</div>"
            ],
            "text/plain": [
              "      Languajes  Mean_Years_Experience  Freq\n",
              "0             r                  10.85    75\n",
              "1         cobol                  10.09    74\n",
              "2          ruby                  10.03   120\n",
              "3    powershell                  10.00    36\n",
              "4          apex                   9.95    19\n",
              "5        delphi                   9.49    36\n",
              "6        pl/sql                   9.33    14\n",
              "7   objective-c                   9.22    42\n",
              "8  actionscript                   9.20    31\n",
              "9     smalltalk                   9.19    16"
            ]
          },
          "metadata": {
            "tags": []
          },
          "execution_count": 33
        }
      ]
    },
    {
      "cell_type": "code",
      "metadata": {
        "colab": {
          "base_uri": "https://localhost:8080/",
          "height": 770
        },
        "id": "m4y6gk1dLBDg",
        "outputId": "8922a4f9-83a4-4a99-f31f-b77e0f4f1da7"
      },
      "source": [
        "# Plot años de experiencia (media) vs lenguajes de programación\n",
        "plt.figure(figsize=(10, 12))\n",
        "seaborn.barplot(x=\"Mean_Years_Experience\", y=\"Languajes\", data=df3)\n",
        "plt.xticks(fontsize=12)\n",
        "plt.yticks(fontsize=12)\n",
        "plt.title('Años de esperiencia promedio por lenguaje de programación \\n')"
      ],
      "execution_count": 34,
      "outputs": [
        {
          "output_type": "execute_result",
          "data": {
            "text/plain": [
              "Text(0.5, 1.0, 'Años de esperiencia promedio por lenguaje de programación \\n')"
            ]
          },
          "metadata": {
            "tags": []
          },
          "execution_count": 34
        },
        {
          "output_type": "display_data",
          "data": {
            "image/png": "[encoded data removed]",
            "text/plain": [
              "<Figure size 720x864 with 1 Axes>"
            ]
          },
          "metadata": {
            "tags": [],
            "needs_background": "light"
          }
        }
      ]
    },
    {
      "cell_type": "markdown",
      "metadata": {
        "id": "BRyMUdNpN4F4"
      },
      "source": [
        "**Observaciones:**\n",
        "\n",
        "- Los lenguajes con mayor promedio de años de experiencia son:\n",
        "  - r\n",
        "  - cobol\n",
        "  - ruby\n",
        "  - powershell\n",
        "  - apex\n",
        "  - delphi"
      ]
    },
    {
      "cell_type": "markdown",
      "metadata": {
        "id": "SpqNCRWKQPlA"
      },
      "source": [
        "#### 3.8 **Veamos cómo varía éste análisis si sólo no quedamos con la siguiente sub-población de salarios en pesos:**\n",
        "\n",
        "- Personas con un salario Neto mayor que la mitad del salario mínimo a la fecha de la encuesta (i.e > $16875),\n",
        "- Personas cuyo salario no está dolarizado."
      ]
    },
    {
      "cell_type": "code",
      "metadata": {
        "colab": {
          "base_uri": "https://localhost:8080/"
        },
        "id": "6aw3BqM7Rudq",
        "outputId": "855ff93a-b1bc-4852-fcab-913038e29348"
      },
      "source": [
        "print(\"Tamaño del dataset antes de remover los salarios dolarizados: %i \\n\" % len(df))\n",
        "df = df[df['salary_in_usd'].isna()]\n",
        "print(\"Tamaño del dataset después de remover los salarios dolarizados: %i \\n\" % len(df))\n",
        "df.reset_index(drop=True, inplace=True)"
      ],
      "execution_count": 35,
      "outputs": [
        {
          "output_type": "stream",
          "text": [
            "Tamaño del dataset antes de remover los salarios dolarizados: 6013 \n",
            "\n",
            "Tamaño del dataset después de remover los salarios dolarizados: 5546 \n",
            "\n"
          ],
          "name": "stdout"
        }
      ]
    },
    {
      "cell_type": "markdown",
      "metadata": {
        "id": "yTjVK8fLTQm1"
      },
      "source": [
        "##### ¿Cuáles son los lenguajes de programación asociados a los mejores salarios (no dolarizados)?"
      ]
    },
    {
      "cell_type": "code",
      "metadata": {
        "colab": {
          "base_uri": "https://localhost:8080/",
          "height": 770
        },
        "id": "Efn2G39rSz_W",
        "outputId": "395ce4ff-8b51-4307-c815-e6f913c8e320"
      },
      "source": [
        "# Lenguajes vs. salarios medios\n",
        "# Una persona puede trabajar con más de un lenguaje\n",
        "salary_mean_by_lang = {}\n",
        "for lang in lang_columns:\n",
        "  mean_salary = df[df[lang]==1]['salary_monthly_NETO'].mean()\n",
        "  freq = len(df[df[lang]==1])\n",
        "  salary_mean_by_lang.update({lang: [mean_salary, freq]})\n",
        "df4 = pd.DataFrame(list(salary_mean_by_lang.items()), columns=['Languajes','Mean_Salary_and_Freq'])\n",
        "df4[['Mean_Salary','Freq']] = pd.DataFrame(df4.Mean_Salary_and_Freq.tolist(), index= df4.index)\n",
        "df4.drop('Mean_Salary_and_Freq', axis=1, inplace=True)\n",
        "df4 = df4.sort_values(by=['Mean_Salary'], ascending=False, ignore_index=True)\n",
        "# Plot de Salarios neto promedio por lenguaje de programación\n",
        "plt.figure(figsize=(10, 12))\n",
        "seaborn.barplot(x=\"Mean_Salary\", y=\"Languajes\", data=df4)\n",
        "plt.xticks(fontsize=12)\n",
        "plt.yticks(fontsize=12)\n",
        "plt.title('Salarios neto en pesos promedio por lenguaje de programación \\n')"
      ],
      "execution_count": 36,
      "outputs": [
        {
          "output_type": "execute_result",
          "data": {
            "text/plain": [
              "Text(0.5, 1.0, 'Salarios neto en pesos promedio por lenguaje de programación \\n')"
            ]
          },
          "metadata": {
            "tags": []
          },
          "execution_count": 36
        },
        {
          "output_type": "display_data",
          "data": {
            "image/png": "[encoded data removed]",
            "text/plain": [
              "<Figure size 720x864 with 1 Axes>"
            ]
          },
          "metadata": {
            "tags": [],
            "needs_background": "light"
          }
        }
      ]
    },
    {
      "cell_type": "markdown",
      "metadata": {
        "id": "SEKplpjUTl39"
      },
      "source": [
        "**Observaciones:**\n",
        "\n",
        "- El rango de salarios pasó a 0-80000 pesos, mientras que en el caso en que también se contabilizaban los sueldos dolarizados el rango iba de 0-100000 pesos.\n",
        "\n",
        "- Volviendo a la pregunta inicial del ejercicio 1: \"¿Cuáles son los lenguajes de programación asociados a los mejores salarios?\", podemos ver que el orden de los lenguajes mejores pagos tuvo una leve variación ('rust' y 'scala' subieron a los primeros 5 lugares y 'ruby' y 'assembler' salieron del top five."
      ]
    },
    {
      "cell_type": "markdown",
      "metadata": {
        "id": "aQhmIIQDVl5Q"
      },
      "source": [
        "#### 3.9 **Veamos cómo varía éste análisis si sólo no quedamos con la siguiente sub-población de salarios en pesos y trabajo full-time:**\n",
        "\n",
        "- Personas con un salario Neto mayor que la mitad del salario mínimo a la fecha de la encuesta (i.e > $16875),\n",
        "- Personas cuyo salario no está dolarizado.\n",
        "- Personas cuyo trabajo es Full-Time."
      ]
    },
    {
      "cell_type": "markdown",
      "metadata": {
        "id": "7ifw3rTRVSeF"
      },
      "source": [
        ""
      ]
    },
    {
      "cell_type": "code",
      "metadata": {
        "colab": {
          "base_uri": "https://localhost:8080/"
        },
        "id": "tdpQf-TcV96L",
        "outputId": "20923056-d0aa-4ee2-bf76-cacbcbcbd29a"
      },
      "source": [
        "full_time = df.work_contract_type.isin(['Full-Time'])\n",
        "print(\"Tamaño del dataset antes de quedarnos sólo con los Full-Time: %i \\n\" % len(df))\n",
        "df = df[full_time]\n",
        "print(\"Tamaño del dataset después de quedarnos sólo con los Full-Time: %i \\n\" % len(df))\n",
        "df.reset_index(drop=True, inplace=True)"
      ],
      "execution_count": 37,
      "outputs": [
        {
          "output_type": "stream",
          "text": [
            "Tamaño del dataset antes de quedarnos sólo con los Full-Time: 5546 \n",
            "\n",
            "Tamaño del dataset después de quedarnos sólo con los Full-Time: 4438 \n",
            "\n"
          ],
          "name": "stdout"
        }
      ]
    },
    {
      "cell_type": "markdown",
      "metadata": {
        "id": "rnBjqoPBZosG"
      },
      "source": [
        "##### ¿Cuáles son los lenguajes de programación asociados a los mejores salarios (no dolarizados y full-time)?"
      ]
    },
    {
      "cell_type": "code",
      "metadata": {
        "colab": {
          "base_uri": "https://localhost:8080/",
          "height": 770
        },
        "id": "eeZkw9zDSz19",
        "outputId": "f35a2dcc-09c5-4046-b59a-bfa28d157c15"
      },
      "source": [
        "# Lenguajes vs. salarios medios\n",
        "# Una persona puede trabajar con más de un lenguaje\n",
        "salary_mean_by_lang = {}\n",
        "for lang in lang_columns:\n",
        "  mean_salary = df[df[lang]==1]['salary_monthly_NETO'].mean()\n",
        "  freq = len(df[df[lang]==1])\n",
        "  salary_mean_by_lang.update({lang: [mean_salary, freq]})\n",
        "df5 = pd.DataFrame(list(salary_mean_by_lang.items()), columns=['Languajes','Mean_Salary_and_Freq'])\n",
        "df5[['Mean_Salary','Freq']] = pd.DataFrame(df5.Mean_Salary_and_Freq.tolist(), index= df5.index)\n",
        "df5.drop('Mean_Salary_and_Freq', axis=1, inplace=True)\n",
        "df5 = df5.sort_values(by=['Mean_Salary'], ascending=False, ignore_index=True)\n",
        "# Plot de Salarios neto promedio por lenguaje de programación\n",
        "plt.figure(figsize=(10, 12))\n",
        "seaborn.barplot(x=\"Mean_Salary\", y=\"Languajes\", data=df5)\n",
        "plt.xticks(fontsize=12)\n",
        "plt.yticks(fontsize=12)\n",
        "plt.title('Salarios neto en pesos promedio por lenguaje de programación \\n')"
      ],
      "execution_count": 38,
      "outputs": [
        {
          "output_type": "execute_result",
          "data": {
            "text/plain": [
              "Text(0.5, 1.0, 'Salarios neto en pesos promedio por lenguaje de programación \\n')"
            ]
          },
          "metadata": {
            "tags": []
          },
          "execution_count": 38
        },
        {
          "output_type": "display_data",
          "data": {
            "image/png": "[encoded data removed]",
            "text/plain": [
              "<Figure size 720x864 with 1 Axes>"
            ]
          },
          "metadata": {
            "tags": [],
            "needs_background": "light"
          }
        }
      ]
    },
    {
      "cell_type": "markdown",
      "metadata": {
        "id": "B-vcwGQvXALV"
      },
      "source": [
        "**Observaciones:**\n",
        "\n",
        "- El rango de salarios pasó subió a 0-80000 pesos, mientras que en el caso en que también se contabilizaban los casos no full-time el rango iba de 0-80000 pesos. Ésto es esperable, ya que como vimos en la sección de análisis de trabajos Full-Time vs No Full-Time, la mediana de los sueldos no full-time es menor a los full-time.\n",
        "\n",
        "- Volviendo a la pregunta inicial del ejercicio 1: \"¿Cuáles son los lenguajes de programación asociados a los mejores salarios?\", podemos ver que el orden de los lenguajes mejores pagos tuvo una leve variación ('r' y 'pl-sql' subieron a los primeros 5 lugares y 'rust' y 'escala' salieron del top five."
      ]
    },
    {
      "cell_type": "markdown",
      "metadata": {
        "id": "Y4QMpQqFP7PJ"
      },
      "source": [
        "**ACLARACIÓN: Para los siguientes análisis no se utilizará el dataframe convertido a One Hot encoding, si no que se trabajará con la función propuesta por las profes.**"
      ]
    },
    {
      "cell_type": "markdown",
      "metadata": {
        "id": "sZUnL1tKGCOa"
      },
      "source": [
        "#### Separación de lenguajes de programación"
      ]
    },
    {
      "cell_type": "markdown",
      "metadata": {
        "id": "l8bYmvMhSroH"
      },
      "source": [
        "Las siguientes celdas de código separan estos lenguajes de programación y cuentan la frecuencia con la que aparecen."
      ]
    },
    {
      "cell_type": "code",
      "metadata": {
        "id": "PAQ81x3iUP_N",
        "colab": {
          "base_uri": "https://localhost:8080/",
          "height": 243
        },
        "outputId": "5fbb879f-737b-407a-e723-5eedbcc9438b"
      },
      "source": [
        "# Convert the comma-separated string of languages to a list of string.\n",
        "# Remove 'ninguno de los anteriores' option, spaces and training commas.\n",
        "def split_languages(languages_str):\n",
        "  if not isinstance(languages_str, str):\n",
        "    return []\n",
        "  # Remove 'other' option\n",
        "  languages_str = languages_str.lower()\\\n",
        "    .replace('ninguno de los anteriores', '')\n",
        "  # Split string into list of items\n",
        "  # Remove spaces and commas for each item\n",
        "  return [lang.strip().replace(',', '')\n",
        "          for lang in languages_str.split()]\n",
        "  #return [lang.strip()\n",
        "  #        for lang in languages_str.split(',')]\n",
        "\n",
        "# Create a new column with the list of languages\n",
        "df.loc[:, 'cured_programming_languages'] = df.tools_programming_languages\\\n",
        "    .apply(split_languages)\n",
        "if 'cured_programming_languages' not in relevant_columns:\n",
        "    relevant_columns.append('cured_programming_languages') \n",
        "\n",
        "# Duplicate each row of df for each programming language\n",
        "# mentioned in the response.\n",
        "# We only include in df_lang the columns we are going to analyze later, so we\n",
        "# don't duplicate innecesary information.\n",
        "df_lang = df.cured_programming_languages\\\n",
        "    .apply(pd.Series).stack()\\\n",
        "    .reset_index(level=-1, drop=True).to_frame()\\\n",
        "    .join(df[relevant_columns])\\\n",
        "    .rename(columns={0: 'programming_language'})\n",
        "# Horrible programming style! But a lot of data science code can be written with\n",
        "# as concatenations of functions (pipelines), and there's no elegant way of\n",
        "# doing that on Python.\n",
        "df_lang[:5]"
      ],
      "execution_count": 39,
      "outputs": [
        {
          "output_type": "execute_result",
          "data": {
            "text/html": [
              "<div>\n",
              "<style scoped>\n",
              "    .dataframe tbody tr th:only-of-type {\n",
              "        vertical-align: middle;\n",
              "    }\n",
              "\n",
              "    .dataframe tbody tr th {\n",
              "        vertical-align: top;\n",
              "    }\n",
              "\n",
              "    .dataframe thead th {\n",
              "        text-align: right;\n",
              "    }\n",
              "</style>\n",
              "<table border=\"1\" class=\"dataframe\">\n",
              "  <thead>\n",
              "    <tr style=\"text-align: right;\">\n",
              "      <th></th>\n",
              "      <th>programming_language</th>\n",
              "      <th>tools_programming_languages</th>\n",
              "      <th>salary_monthly_NETO</th>\n",
              "      <th>salary_monthly_BRUTO</th>\n",
              "      <th>tools_work_pc_os</th>\n",
              "      <th>work_contract_type</th>\n",
              "      <th>tools_frameworks</th>\n",
              "      <th>profile_years_experience</th>\n",
              "      <th>salary_satisfaction</th>\n",
              "      <th>company_main_activity</th>\n",
              "      <th>salary_in_usd</th>\n",
              "      <th>work_role</th>\n",
              "      <th>work_years_in_company</th>\n",
              "      <th>profile_gender</th>\n",
              "      <th>profile_age</th>\n",
              "      <th>cured_programming_languages</th>\n",
              "    </tr>\n",
              "  </thead>\n",
              "  <tbody>\n",
              "    <tr>\n",
              "      <th>0</th>\n",
              "      <td>ninguno</td>\n",
              "      <td>Ninguno</td>\n",
              "      <td>43000.00</td>\n",
              "      <td>53000.00</td>\n",
              "      <td>GNU/Linux</td>\n",
              "      <td>Full-Time</td>\n",
              "      <td>Ninguno</td>\n",
              "      <td>3.00</td>\n",
              "      <td>1.00</td>\n",
              "      <td>Servicios / Consultoría de Software / Digital</td>\n",
              "      <td>NaN</td>\n",
              "      <td>Consultant</td>\n",
              "      <td>3.00</td>\n",
              "      <td>Mujer</td>\n",
              "      <td>26.00</td>\n",
              "      <td>[ninguno]</td>\n",
              "    </tr>\n",
              "    <tr>\n",
              "      <th>1</th>\n",
              "      <td>html</td>\n",
              "      <td>HTML, Javascript, Python</td>\n",
              "      <td>63000.00</td>\n",
              "      <td>79000.00</td>\n",
              "      <td>GNU/Linux</td>\n",
              "      <td>Full-Time</td>\n",
              "      <td>Django, jQuery</td>\n",
              "      <td>5.00</td>\n",
              "      <td>2.00</td>\n",
              "      <td>Otras industrias</td>\n",
              "      <td>NaN</td>\n",
              "      <td>Developer</td>\n",
              "      <td>2.00</td>\n",
              "      <td>Hombre</td>\n",
              "      <td>29.00</td>\n",
              "      <td>[html, javascript, python]</td>\n",
              "    </tr>\n",
              "    <tr>\n",
              "      <th>1</th>\n",
              "      <td>javascript</td>\n",
              "      <td>HTML, Javascript, Python</td>\n",
              "      <td>63000.00</td>\n",
              "      <td>79000.00</td>\n",
              "      <td>GNU/Linux</td>\n",
              "      <td>Full-Time</td>\n",
              "      <td>Django, jQuery</td>\n",
              "      <td>5.00</td>\n",
              "      <td>2.00</td>\n",
              "      <td>Otras industrias</td>\n",
              "      <td>NaN</td>\n",
              "      <td>Developer</td>\n",
              "      <td>2.00</td>\n",
              "      <td>Hombre</td>\n",
              "      <td>29.00</td>\n",
              "      <td>[html, javascript, python]</td>\n",
              "    </tr>\n",
              "    <tr>\n",
              "      <th>1</th>\n",
              "      <td>python</td>\n",
              "      <td>HTML, Javascript, Python</td>\n",
              "      <td>63000.00</td>\n",
              "      <td>79000.00</td>\n",
              "      <td>GNU/Linux</td>\n",
              "      <td>Full-Time</td>\n",
              "      <td>Django, jQuery</td>\n",
              "      <td>5.00</td>\n",
              "      <td>2.00</td>\n",
              "      <td>Otras industrias</td>\n",
              "      <td>NaN</td>\n",
              "      <td>Developer</td>\n",
              "      <td>2.00</td>\n",
              "      <td>Hombre</td>\n",
              "      <td>29.00</td>\n",
              "      <td>[html, javascript, python]</td>\n",
              "    </tr>\n",
              "    <tr>\n",
              "      <th>2</th>\n",
              "      <td>ninguno</td>\n",
              "      <td>Ninguno</td>\n",
              "      <td>127000.00</td>\n",
              "      <td>160000.00</td>\n",
              "      <td>Windows</td>\n",
              "      <td>Full-Time</td>\n",
              "      <td>Ninguno</td>\n",
              "      <td>2.00</td>\n",
              "      <td>3.00</td>\n",
              "      <td>Otras industrias</td>\n",
              "      <td>NaN</td>\n",
              "      <td>Infosec</td>\n",
              "      <td>0.00</td>\n",
              "      <td>Mujer</td>\n",
              "      <td>22.00</td>\n",
              "      <td>[ninguno]</td>\n",
              "    </tr>\n",
              "  </tbody>\n",
              "</table>\n",
              "</div>"
            ],
            "text/plain": [
              "  programming_language  ... cured_programming_languages\n",
              "0              ninguno  ...                   [ninguno]\n",
              "1                 html  ...  [html, javascript, python]\n",
              "1           javascript  ...  [html, javascript, python]\n",
              "1               python  ...  [html, javascript, python]\n",
              "2              ninguno  ...                   [ninguno]\n",
              "\n",
              "[5 rows x 16 columns]"
            ]
          },
          "metadata": {
            "tags": []
          },
          "execution_count": 39
        }
      ]
    },
    {
      "cell_type": "markdown",
      "metadata": {
        "id": "qm8NUg-7UEue"
      },
      "source": [
        "En la columna `programming_language` se encuentra cada lenguaje por separado. Notar que si una respuesta contenía 3 lenguajes, como `\"HTML, Javascript, Python\"`, la fila ha sido replicada 3 veces. Por ello, hay tres filas con índice 1."
      ]
    },
    {
      "cell_type": "code",
      "metadata": {
        "colab": {
          "base_uri": "https://localhost:8080/"
        },
        "id": "Wn1TeKt-L7Tn",
        "outputId": "be3a0e05-ac4f-4529-b18b-fb23f9048853"
      },
      "source": [
        "len(df)"
      ],
      "execution_count": 40,
      "outputs": [
        {
          "output_type": "execute_result",
          "data": {
            "text/plain": [
              "4438"
            ]
          },
          "metadata": {
            "tags": []
          },
          "execution_count": 40
        }
      ]
    },
    {
      "cell_type": "code",
      "metadata": {
        "colab": {
          "base_uri": "https://localhost:8080/"
        },
        "id": "M2Iwpy8qLijA",
        "outputId": "e267c4be-81f6-405e-cc49-2839ebdea98d"
      },
      "source": [
        "len(df_lang.programming_language)"
      ],
      "execution_count": 41,
      "outputs": [
        {
          "output_type": "execute_result",
          "data": {
            "text/plain": [
              "12909"
            ]
          },
          "metadata": {
            "tags": []
          },
          "execution_count": 41
        }
      ]
    },
    {
      "cell_type": "code",
      "metadata": {
        "colab": {
          "base_uri": "https://localhost:8080/"
        },
        "id": "sgE9MF8RLR5q",
        "outputId": "2af71625-1425-46f9-f126-8bd4be56bcda"
      },
      "source": [
        "df_lang.programming_language.nunique() # cantidad de lenguajes diferentes que quedaron"
      ],
      "execution_count": 42,
      "outputs": [
        {
          "output_type": "execute_result",
          "data": {
            "text/plain": [
              "171"
            ]
          },
          "metadata": {
            "tags": []
          },
          "execution_count": 42
        }
      ]
    },
    {
      "cell_type": "code",
      "metadata": {
        "id": "lNPb4tTvWCwv",
        "colab": {
          "base_uri": "https://localhost:8080/",
          "height": 363
        },
        "outputId": "4aa6cf64-4667-429b-d4de-81992669791c"
      },
      "source": [
        "language_count = df_lang.programming_language.value_counts()\\\n",
        "    .reset_index()\\\n",
        "    .rename(columns={'index': 'language', 'programming_language': 'frequency'})\n",
        "# language_count[language_count['frequency'] > 1]\n",
        "language_count[:10]"
      ],
      "execution_count": 43,
      "outputs": [
        {
          "output_type": "execute_result",
          "data": {
            "text/html": [
              "<div>\n",
              "<style scoped>\n",
              "    .dataframe tbody tr th:only-of-type {\n",
              "        vertical-align: middle;\n",
              "    }\n",
              "\n",
              "    .dataframe tbody tr th {\n",
              "        vertical-align: top;\n",
              "    }\n",
              "\n",
              "    .dataframe thead th {\n",
              "        text-align: right;\n",
              "    }\n",
              "</style>\n",
              "<table border=\"1\" class=\"dataframe\">\n",
              "  <thead>\n",
              "    <tr style=\"text-align: right;\">\n",
              "      <th></th>\n",
              "      <th>language</th>\n",
              "      <th>frequency</th>\n",
              "    </tr>\n",
              "  </thead>\n",
              "  <tbody>\n",
              "    <tr>\n",
              "      <th>0</th>\n",
              "      <td>javascript</td>\n",
              "      <td>1734</td>\n",
              "    </tr>\n",
              "    <tr>\n",
              "      <th>1</th>\n",
              "      <td>sql</td>\n",
              "      <td>1617</td>\n",
              "    </tr>\n",
              "    <tr>\n",
              "      <th>2</th>\n",
              "      <td>html</td>\n",
              "      <td>1314</td>\n",
              "    </tr>\n",
              "    <tr>\n",
              "      <th>3</th>\n",
              "      <td>java</td>\n",
              "      <td>1105</td>\n",
              "    </tr>\n",
              "    <tr>\n",
              "      <th>4</th>\n",
              "      <td>python</td>\n",
              "      <td>1057</td>\n",
              "    </tr>\n",
              "    <tr>\n",
              "      <th>5</th>\n",
              "      <td>css</td>\n",
              "      <td>874</td>\n",
              "    </tr>\n",
              "    <tr>\n",
              "      <th>6</th>\n",
              "      <td>bash/shell</td>\n",
              "      <td>735</td>\n",
              "    </tr>\n",
              "    <tr>\n",
              "      <th>7</th>\n",
              "      <td>php</td>\n",
              "      <td>631</td>\n",
              "    </tr>\n",
              "    <tr>\n",
              "      <th>8</th>\n",
              "      <td>.net</td>\n",
              "      <td>601</td>\n",
              "    </tr>\n",
              "    <tr>\n",
              "      <th>9</th>\n",
              "      <td>c#</td>\n",
              "      <td>535</td>\n",
              "    </tr>\n",
              "  </tbody>\n",
              "</table>\n",
              "</div>"
            ],
            "text/plain": [
              "     language  frequency\n",
              "0  javascript       1734\n",
              "1         sql       1617\n",
              "2        html       1314\n",
              "3        java       1105\n",
              "4      python       1057\n",
              "5         css        874\n",
              "6  bash/shell        735\n",
              "7         php        631\n",
              "8        .net        601\n",
              "9          c#        535"
            ]
          },
          "metadata": {
            "tags": []
          },
          "execution_count": 43
        }
      ]
    },
    {
      "cell_type": "code",
      "metadata": {
        "colab": {
          "base_uri": "https://localhost:8080/",
          "height": 424
        },
        "id": "LfKLsg18M4PH",
        "outputId": "ddafd99f-87b0-423e-9b02-df364eb16a1f"
      },
      "source": [
        "language_count.tail(100)"
      ],
      "execution_count": 44,
      "outputs": [
        {
          "output_type": "execute_result",
          "data": {
            "text/html": [
              "<div>\n",
              "<style scoped>\n",
              "    .dataframe tbody tr th:only-of-type {\n",
              "        vertical-align: middle;\n",
              "    }\n",
              "\n",
              "    .dataframe tbody tr th {\n",
              "        vertical-align: top;\n",
              "    }\n",
              "\n",
              "    .dataframe thead th {\n",
              "        text-align: right;\n",
              "    }\n",
              "</style>\n",
              "<table border=\"1\" class=\"dataframe\">\n",
              "  <thead>\n",
              "    <tr style=\"text-align: right;\">\n",
              "      <th></th>\n",
              "      <th>language</th>\n",
              "      <th>frequency</th>\n",
              "    </tr>\n",
              "  </thead>\n",
              "  <tbody>\n",
              "    <tr>\n",
              "      <th>71</th>\n",
              "      <td>xml</td>\n",
              "      <td>2</td>\n",
              "    </tr>\n",
              "    <tr>\n",
              "      <th>72</th>\n",
              "      <td>gosu</td>\n",
              "      <td>2</td>\n",
              "    </tr>\n",
              "    <tr>\n",
              "      <th>73</th>\n",
              "      <td>tal</td>\n",
              "      <td>1</td>\n",
              "    </tr>\n",
              "    <tr>\n",
              "      <th>74</th>\n",
              "      <td>yacc</td>\n",
              "      <td>1</td>\n",
              "    </tr>\n",
              "    <tr>\n",
              "      <th>75</th>\n",
              "      <td>nativescrip</td>\n",
              "      <td>1</td>\n",
              "    </tr>\n",
              "    <tr>\n",
              "      <th>...</th>\n",
              "      <td>...</td>\n",
              "      <td>...</td>\n",
              "    </tr>\n",
              "    <tr>\n",
              "      <th>166</th>\n",
              "      <td>asp</td>\n",
              "      <td>1</td>\n",
              "    </tr>\n",
              "    <tr>\n",
              "      <th>167</th>\n",
              "      <td>script</td>\n",
              "      <td>1</td>\n",
              "    </tr>\n",
              "    <tr>\n",
              "      <th>168</th>\n",
              "      <td>infobasic</td>\n",
              "      <td>1</td>\n",
              "    </tr>\n",
              "    <tr>\n",
              "      <th>169</th>\n",
              "      <td>bi</td>\n",
              "      <td>1</td>\n",
              "    </tr>\n",
              "    <tr>\n",
              "      <th>170</th>\n",
              "      <td>recruiter</td>\n",
              "      <td>1</td>\n",
              "    </tr>\n",
              "  </tbody>\n",
              "</table>\n",
              "<p>100 rows × 2 columns</p>\n",
              "</div>"
            ],
            "text/plain": [
              "        language  frequency\n",
              "71           xml          2\n",
              "72          gosu          2\n",
              "73           tal          1\n",
              "74          yacc          1\n",
              "75   nativescrip          1\n",
              "..           ...        ...\n",
              "166          asp          1\n",
              "167       script          1\n",
              "168    infobasic          1\n",
              "169           bi          1\n",
              "170    recruiter          1\n",
              "\n",
              "[100 rows x 2 columns]"
            ]
          },
          "metadata": {
            "tags": []
          },
          "execution_count": 44
        }
      ]
    },
    {
      "cell_type": "markdown",
      "metadata": {
        "id": "UW4kkxNiyHuK"
      },
      "source": [
        "En el split anterior, al separarse los lenguajes por espacio, crea una lista con datos erróneos, propios de datos ingresados por un usuario. Vemos que no afecta significativamente en el conteo."
      ]
    },
    {
      "cell_type": "markdown",
      "metadata": {
        "id": "9ssiNcqZG86Z"
      },
      "source": [
        "### Listado de lenguajes más populares"
      ]
    },
    {
      "cell_type": "code",
      "metadata": {
        "colab": {
          "base_uri": "https://localhost:8080/"
        },
        "id": "vjPGBdVwNcMe",
        "outputId": "9c345e9e-36f4-43a1-bb05-bd9bb3d73993"
      },
      "source": [
        "# % de lenguajes que quedan fuera por tener freq. <=10\n",
        "len(language_count[language_count['frequency'] <= 10])/len(language_count)*100"
      ],
      "execution_count": 45,
      "outputs": [
        {
          "output_type": "execute_result",
          "data": {
            "text/plain": [
              "80.11695906432749"
            ]
          },
          "metadata": {
            "tags": []
          },
          "execution_count": 45
        }
      ]
    },
    {
      "cell_type": "code",
      "metadata": {
        "colab": {
          "base_uri": "https://localhost:8080/"
        },
        "id": "okiB_hsWPSLo",
        "outputId": "738f44b5-1c2f-41bd-b167-217a0aaa76a0"
      },
      "source": [
        "# Ver cuántos registros (respuestas de lenguaje por persona) estamos perdiendo al eliminar éstos lenguajes pocos frecuentes.\n",
        "len(df_lang[df_lang[\"programming_language\"].isin(language_count[language_count[\"frequency\"] <= 10][\"language\"])])"
      ],
      "execution_count": 46,
      "outputs": [
        {
          "output_type": "execute_result",
          "data": {
            "text/plain": [
              "234"
            ]
          },
          "metadata": {
            "tags": []
          },
          "execution_count": 46
        }
      ]
    },
    {
      "cell_type": "code",
      "metadata": {
        "colab": {
          "base_uri": "https://localhost:8080/"
        },
        "id": "bcKIlTw8QUND",
        "outputId": "1206287a-b61b-4396-9ce7-c6bb8c534a65"
      },
      "source": [
        "# Lenguajes con freq >10\n",
        "len(language_count[language_count['frequency'] > 10])"
      ],
      "execution_count": 47,
      "outputs": [
        {
          "output_type": "execute_result",
          "data": {
            "text/plain": [
              "34"
            ]
          },
          "metadata": {
            "tags": []
          },
          "execution_count": 47
        }
      ]
    },
    {
      "cell_type": "code",
      "metadata": {
        "id": "sAqQ0Ovw01ZN",
        "colab": {
          "base_uri": "https://localhost:8080/",
          "height": 897
        },
        "outputId": "c46c0039-7cae-4a5b-cbc2-305cbf3dc03a"
      },
      "source": [
        "# Plot de fecuencia de lenguajes\n",
        "fig = plt.figure(figsize=(15, 15))\n",
        "g = seaborn.barplot(data=language_count[language_count['frequency'] > 10], x='frequency', y='language', color='salmon')\n",
        "# Log scale\n",
        "# g.set_xscale(\"log\")\n",
        "plt.title(\"Lenguajes más frecuentes (mayor a 10)\")\n",
        "seaborn.despine()"
      ],
      "execution_count": 48,
      "outputs": [
        {
          "output_type": "display_data",
          "data": {
            "image/png": "[encoded data removed]",
            "text/plain": [
              "<Figure size 1080x1080 with 1 Axes>"
            ]
          },
          "metadata": {
            "tags": [],
            "needs_background": "light"
          }
        }
      ]
    },
    {
      "cell_type": "markdown",
      "metadata": {
        "id": "uC_f-lQTHHuY"
      },
      "source": [
        "#### One hot encoding de la variable `tools_programming_languages`\n",
        "\n",
        "Podemos expandir nuestras posibilidades usando una tabla en la que asignemos valores binarios a las características categóricas.\n",
        "Por ejemplo, para el caso de los lenguajes, podemos usar una columna por cada lenguaje (o los N más frecuentes) y asignarle a cada persona un valor binario para cada columna. Entonces alguien que utiliza sólo Python va a tener un verdadero en esa columna (1) y un falso en Java (0), SQL (0), etc. De esta manera iremos construyendo una matriz."
      ]
    },
    {
      "cell_type": "code",
      "metadata": {
        "id": "NUB9ap2iHkiT",
        "colab": {
          "base_uri": "https://localhost:8080/",
          "height": 52
        },
        "outputId": "941dace2-ad22-4e91-86a5-810ac364b76f"
      },
      "source": [
        "# Casos donde la variable 'tools_programming_languages' tiene valores nulos\n",
        "display(len(df[df['tools_programming_languages'].isnull()])) # es un único caso, reemplazaremos el valor null por 'Ninguno'\n",
        "df.tools_programming_languages.replace(numpy.NaN, 'Ninguno', inplace=True)\n",
        "display(len(df[df['tools_programming_languages'].isnull()]))\n",
        "# Luego de eliminar los part time no tenemos valores nulos."
      ],
      "execution_count": 49,
      "outputs": [
        {
          "output_type": "display_data",
          "data": {
            "text/plain": [
              "0"
            ]
          },
          "metadata": {
            "tags": []
          }
        },
        {
          "output_type": "display_data",
          "data": {
            "text/plain": [
              "0"
            ]
          },
          "metadata": {
            "tags": []
          }
        }
      ]
    },
    {
      "cell_type": "code",
      "metadata": {
        "id": "UFE8H03iHr94",
        "colab": {
          "base_uri": "https://localhost:8080/",
          "height": 308
        },
        "outputId": "f7cae1c8-fadd-41b6-c23b-cb4c87b68230"
      },
      "source": [
        " # Convertimos cada lenguaje en una columna con 0 o 1. \n",
        " display(len(df))\n",
        " df_one_hot = df['tools_programming_languages'].str.replace(' ', '').str.lower().str.get_dummies(sep=',')\n",
        " df_one_hot.head()\n",
        " # Quedaron unos 144 lenguajes."
      ],
      "execution_count": 50,
      "outputs": [
        {
          "output_type": "display_data",
          "data": {
            "text/plain": [
              "4438"
            ]
          },
          "metadata": {
            "tags": []
          }
        },
        {
          "output_type": "execute_result",
          "data": {
            "text/html": [
              "<div>\n",
              "<style scoped>\n",
              "    .dataframe tbody tr th:only-of-type {\n",
              "        vertical-align: middle;\n",
              "    }\n",
              "\n",
              "    .dataframe tbody tr th {\n",
              "        vertical-align: top;\n",
              "    }\n",
              "\n",
              "    .dataframe thead th {\n",
              "        text-align: right;\n",
              "    }\n",
              "</style>\n",
              "<table border=\"1\" class=\"dataframe\">\n",
              "  <thead>\n",
              "    <tr style=\"text-align: right;\">\n",
              "      <th></th>\n",
              "      <th>-</th>\n",
              "      <th>.</th>\n",
              "      <th>.net</th>\n",
              "      <th>.netnoesunlenguaje!</th>\n",
              "      <th>4gl</th>\n",
              "      <th>abap</th>\n",
              "      <th>acl</th>\n",
              "      <th>actionscript</th>\n",
              "      <th>ansible</th>\n",
              "      <th>ansible|powershell</th>\n",
              "      <th>apex</th>\n",
              "      <th>apex/salesforce</th>\n",
              "      <th>appeonpowerbuilder</th>\n",
              "      <th>asp</th>\n",
              "      <th>assembler</th>\n",
              "      <th>bash</th>\n",
              "      <th>bash/shell</th>\n",
              "      <th>basic</th>\n",
              "      <th>biztalk</th>\n",
              "      <th>blueprism</th>\n",
              "      <th>c</th>\n",
              "      <th>c#</th>\n",
              "      <th>c++</th>\n",
              "      <th>cg/hlsl</th>\n",
              "      <th>clarion</th>\n",
              "      <th>clipper</th>\n",
              "      <th>clojure</th>\n",
              "      <th>cloudformation</th>\n",
              "      <th>cobol</th>\n",
              "      <th>coldfusion</th>\n",
              "      <th>css</th>\n",
              "      <th>dart</th>\n",
              "      <th>dax</th>\n",
              "      <th>dellboomi</th>\n",
              "      <th>delphi</th>\n",
              "      <th>deluge</th>\n",
              "      <th>elixir</th>\n",
              "      <th>erlang</th>\n",
              "      <th>esql</th>\n",
              "      <th>essbase/hyperion/powerbi/oac/oracledb</th>\n",
              "      <th>...</th>\n",
              "      <th>robin</th>\n",
              "      <th>rpa</th>\n",
              "      <th>ruby</th>\n",
              "      <th>rust</th>\n",
              "      <th>sas</th>\n",
              "      <th>sass</th>\n",
              "      <th>scala</th>\n",
              "      <th>scss</th>\n",
              "      <th>siebel</th>\n",
              "      <th>smalltalk</th>\n",
              "      <th>soap</th>\n",
              "      <th>solidity</th>\n",
              "      <th>soql</th>\n",
              "      <th>sql</th>\n",
              "      <th>swift</th>\n",
              "      <th>tal</th>\n",
              "      <th>terraform</th>\n",
              "      <th>tibco</th>\n",
              "      <th>twig</th>\n",
              "      <th>typescript</th>\n",
              "      <th>unity</th>\n",
              "      <th>vb5</th>\n",
              "      <th>vb6</th>\n",
              "      <th>vb6.0</th>\n",
              "      <th>vba</th>\n",
              "      <th>vbnetvb6</th>\n",
              "      <th>vbscript</th>\n",
              "      <th>vfp</th>\n",
              "      <th>vhdl</th>\n",
              "      <th>visual6</th>\n",
              "      <th>visualbasic</th>\n",
              "      <th>visualbasic6</th>\n",
              "      <th>visualfoxpro</th>\n",
              "      <th>windev</th>\n",
              "      <th>x++</th>\n",
              "      <th>xamarin</th>\n",
              "      <th>xml</th>\n",
              "      <th>xslt</th>\n",
              "      <th>yacc</th>\n",
              "      <th>yaml</th>\n",
              "    </tr>\n",
              "  </thead>\n",
              "  <tbody>\n",
              "    <tr>\n",
              "      <th>0</th>\n",
              "      <td>0</td>\n",
              "      <td>0</td>\n",
              "      <td>0</td>\n",
              "      <td>0</td>\n",
              "      <td>0</td>\n",
              "      <td>0</td>\n",
              "      <td>0</td>\n",
              "      <td>0</td>\n",
              "      <td>0</td>\n",
              "      <td>0</td>\n",
              "      <td>0</td>\n",
              "      <td>0</td>\n",
              "      <td>0</td>\n",
              "      <td>0</td>\n",
              "      <td>0</td>\n",
              "      <td>0</td>\n",
              "      <td>0</td>\n",
              "      <td>0</td>\n",
              "      <td>0</td>\n",
              "      <td>0</td>\n",
              "      <td>0</td>\n",
              "      <td>0</td>\n",
              "      <td>0</td>\n",
              "      <td>0</td>\n",
              "      <td>0</td>\n",
              "      <td>0</td>\n",
              "      <td>0</td>\n",
              "      <td>0</td>\n",
              "      <td>0</td>\n",
              "      <td>0</td>\n",
              "      <td>0</td>\n",
              "      <td>0</td>\n",
              "      <td>0</td>\n",
              "      <td>0</td>\n",
              "      <td>0</td>\n",
              "      <td>0</td>\n",
              "      <td>0</td>\n",
              "      <td>0</td>\n",
              "      <td>0</td>\n",
              "      <td>0</td>\n",
              "      <td>...</td>\n",
              "      <td>0</td>\n",
              "      <td>0</td>\n",
              "      <td>0</td>\n",
              "      <td>0</td>\n",
              "      <td>0</td>\n",
              "      <td>0</td>\n",
              "      <td>0</td>\n",
              "      <td>0</td>\n",
              "      <td>0</td>\n",
              "      <td>0</td>\n",
              "      <td>0</td>\n",
              "      <td>0</td>\n",
              "      <td>0</td>\n",
              "      <td>0</td>\n",
              "      <td>0</td>\n",
              "      <td>0</td>\n",
              "      <td>0</td>\n",
              "      <td>0</td>\n",
              "      <td>0</td>\n",
              "      <td>0</td>\n",
              "      <td>0</td>\n",
              "      <td>0</td>\n",
              "      <td>0</td>\n",
              "      <td>0</td>\n",
              "      <td>0</td>\n",
              "      <td>0</td>\n",
              "      <td>0</td>\n",
              "      <td>0</td>\n",
              "      <td>0</td>\n",
              "      <td>0</td>\n",
              "      <td>0</td>\n",
              "      <td>0</td>\n",
              "      <td>0</td>\n",
              "      <td>0</td>\n",
              "      <td>0</td>\n",
              "      <td>0</td>\n",
              "      <td>0</td>\n",
              "      <td>0</td>\n",
              "      <td>0</td>\n",
              "      <td>0</td>\n",
              "    </tr>\n",
              "    <tr>\n",
              "      <th>1</th>\n",
              "      <td>0</td>\n",
              "      <td>0</td>\n",
              "      <td>0</td>\n",
              "      <td>0</td>\n",
              "      <td>0</td>\n",
              "      <td>0</td>\n",
              "      <td>0</td>\n",
              "      <td>0</td>\n",
              "      <td>0</td>\n",
              "      <td>0</td>\n",
              "      <td>0</td>\n",
              "      <td>0</td>\n",
              "      <td>0</td>\n",
              "      <td>0</td>\n",
              "      <td>0</td>\n",
              "      <td>0</td>\n",
              "      <td>0</td>\n",
              "      <td>0</td>\n",
              "      <td>0</td>\n",
              "      <td>0</td>\n",
              "      <td>0</td>\n",
              "      <td>0</td>\n",
              "      <td>0</td>\n",
              "      <td>0</td>\n",
              "      <td>0</td>\n",
              "      <td>0</td>\n",
              "      <td>0</td>\n",
              "      <td>0</td>\n",
              "      <td>0</td>\n",
              "      <td>0</td>\n",
              "      <td>0</td>\n",
              "      <td>0</td>\n",
              "      <td>0</td>\n",
              "      <td>0</td>\n",
              "      <td>0</td>\n",
              "      <td>0</td>\n",
              "      <td>0</td>\n",
              "      <td>0</td>\n",
              "      <td>0</td>\n",
              "      <td>0</td>\n",
              "      <td>...</td>\n",
              "      <td>0</td>\n",
              "      <td>0</td>\n",
              "      <td>0</td>\n",
              "      <td>0</td>\n",
              "      <td>0</td>\n",
              "      <td>0</td>\n",
              "      <td>0</td>\n",
              "      <td>0</td>\n",
              "      <td>0</td>\n",
              "      <td>0</td>\n",
              "      <td>0</td>\n",
              "      <td>0</td>\n",
              "      <td>0</td>\n",
              "      <td>0</td>\n",
              "      <td>0</td>\n",
              "      <td>0</td>\n",
              "      <td>0</td>\n",
              "      <td>0</td>\n",
              "      <td>0</td>\n",
              "      <td>0</td>\n",
              "      <td>0</td>\n",
              "      <td>0</td>\n",
              "      <td>0</td>\n",
              "      <td>0</td>\n",
              "      <td>0</td>\n",
              "      <td>0</td>\n",
              "      <td>0</td>\n",
              "      <td>0</td>\n",
              "      <td>0</td>\n",
              "      <td>0</td>\n",
              "      <td>0</td>\n",
              "      <td>0</td>\n",
              "      <td>0</td>\n",
              "      <td>0</td>\n",
              "      <td>0</td>\n",
              "      <td>0</td>\n",
              "      <td>0</td>\n",
              "      <td>0</td>\n",
              "      <td>0</td>\n",
              "      <td>0</td>\n",
              "    </tr>\n",
              "    <tr>\n",
              "      <th>2</th>\n",
              "      <td>0</td>\n",
              "      <td>0</td>\n",
              "      <td>0</td>\n",
              "      <td>0</td>\n",
              "      <td>0</td>\n",
              "      <td>0</td>\n",
              "      <td>0</td>\n",
              "      <td>0</td>\n",
              "      <td>0</td>\n",
              "      <td>0</td>\n",
              "      <td>0</td>\n",
              "      <td>0</td>\n",
              "      <td>0</td>\n",
              "      <td>0</td>\n",
              "      <td>0</td>\n",
              "      <td>0</td>\n",
              "      <td>0</td>\n",
              "      <td>0</td>\n",
              "      <td>0</td>\n",
              "      <td>0</td>\n",
              "      <td>0</td>\n",
              "      <td>0</td>\n",
              "      <td>0</td>\n",
              "      <td>0</td>\n",
              "      <td>0</td>\n",
              "      <td>0</td>\n",
              "      <td>0</td>\n",
              "      <td>0</td>\n",
              "      <td>0</td>\n",
              "      <td>0</td>\n",
              "      <td>0</td>\n",
              "      <td>0</td>\n",
              "      <td>0</td>\n",
              "      <td>0</td>\n",
              "      <td>0</td>\n",
              "      <td>0</td>\n",
              "      <td>0</td>\n",
              "      <td>0</td>\n",
              "      <td>0</td>\n",
              "      <td>0</td>\n",
              "      <td>...</td>\n",
              "      <td>0</td>\n",
              "      <td>0</td>\n",
              "      <td>0</td>\n",
              "      <td>0</td>\n",
              "      <td>0</td>\n",
              "      <td>0</td>\n",
              "      <td>0</td>\n",
              "      <td>0</td>\n",
              "      <td>0</td>\n",
              "      <td>0</td>\n",
              "      <td>0</td>\n",
              "      <td>0</td>\n",
              "      <td>0</td>\n",
              "      <td>0</td>\n",
              "      <td>0</td>\n",
              "      <td>0</td>\n",
              "      <td>0</td>\n",
              "      <td>0</td>\n",
              "      <td>0</td>\n",
              "      <td>0</td>\n",
              "      <td>0</td>\n",
              "      <td>0</td>\n",
              "      <td>0</td>\n",
              "      <td>0</td>\n",
              "      <td>0</td>\n",
              "      <td>0</td>\n",
              "      <td>0</td>\n",
              "      <td>0</td>\n",
              "      <td>0</td>\n",
              "      <td>0</td>\n",
              "      <td>0</td>\n",
              "      <td>0</td>\n",
              "      <td>0</td>\n",
              "      <td>0</td>\n",
              "      <td>0</td>\n",
              "      <td>0</td>\n",
              "      <td>0</td>\n",
              "      <td>0</td>\n",
              "      <td>0</td>\n",
              "      <td>0</td>\n",
              "    </tr>\n",
              "    <tr>\n",
              "      <th>3</th>\n",
              "      <td>0</td>\n",
              "      <td>0</td>\n",
              "      <td>0</td>\n",
              "      <td>0</td>\n",
              "      <td>0</td>\n",
              "      <td>0</td>\n",
              "      <td>0</td>\n",
              "      <td>0</td>\n",
              "      <td>0</td>\n",
              "      <td>0</td>\n",
              "      <td>0</td>\n",
              "      <td>0</td>\n",
              "      <td>0</td>\n",
              "      <td>0</td>\n",
              "      <td>0</td>\n",
              "      <td>0</td>\n",
              "      <td>1</td>\n",
              "      <td>0</td>\n",
              "      <td>0</td>\n",
              "      <td>0</td>\n",
              "      <td>1</td>\n",
              "      <td>0</td>\n",
              "      <td>0</td>\n",
              "      <td>0</td>\n",
              "      <td>0</td>\n",
              "      <td>0</td>\n",
              "      <td>0</td>\n",
              "      <td>0</td>\n",
              "      <td>0</td>\n",
              "      <td>0</td>\n",
              "      <td>1</td>\n",
              "      <td>0</td>\n",
              "      <td>0</td>\n",
              "      <td>0</td>\n",
              "      <td>0</td>\n",
              "      <td>0</td>\n",
              "      <td>0</td>\n",
              "      <td>0</td>\n",
              "      <td>0</td>\n",
              "      <td>0</td>\n",
              "      <td>...</td>\n",
              "      <td>0</td>\n",
              "      <td>0</td>\n",
              "      <td>0</td>\n",
              "      <td>0</td>\n",
              "      <td>0</td>\n",
              "      <td>0</td>\n",
              "      <td>0</td>\n",
              "      <td>0</td>\n",
              "      <td>0</td>\n",
              "      <td>0</td>\n",
              "      <td>0</td>\n",
              "      <td>0</td>\n",
              "      <td>0</td>\n",
              "      <td>1</td>\n",
              "      <td>0</td>\n",
              "      <td>0</td>\n",
              "      <td>0</td>\n",
              "      <td>0</td>\n",
              "      <td>0</td>\n",
              "      <td>0</td>\n",
              "      <td>0</td>\n",
              "      <td>0</td>\n",
              "      <td>0</td>\n",
              "      <td>0</td>\n",
              "      <td>0</td>\n",
              "      <td>0</td>\n",
              "      <td>0</td>\n",
              "      <td>0</td>\n",
              "      <td>0</td>\n",
              "      <td>0</td>\n",
              "      <td>0</td>\n",
              "      <td>0</td>\n",
              "      <td>0</td>\n",
              "      <td>0</td>\n",
              "      <td>0</td>\n",
              "      <td>0</td>\n",
              "      <td>0</td>\n",
              "      <td>0</td>\n",
              "      <td>0</td>\n",
              "      <td>0</td>\n",
              "    </tr>\n",
              "    <tr>\n",
              "      <th>4</th>\n",
              "      <td>0</td>\n",
              "      <td>0</td>\n",
              "      <td>0</td>\n",
              "      <td>0</td>\n",
              "      <td>0</td>\n",
              "      <td>0</td>\n",
              "      <td>0</td>\n",
              "      <td>0</td>\n",
              "      <td>0</td>\n",
              "      <td>0</td>\n",
              "      <td>0</td>\n",
              "      <td>0</td>\n",
              "      <td>0</td>\n",
              "      <td>0</td>\n",
              "      <td>0</td>\n",
              "      <td>0</td>\n",
              "      <td>0</td>\n",
              "      <td>0</td>\n",
              "      <td>0</td>\n",
              "      <td>0</td>\n",
              "      <td>0</td>\n",
              "      <td>0</td>\n",
              "      <td>0</td>\n",
              "      <td>0</td>\n",
              "      <td>0</td>\n",
              "      <td>0</td>\n",
              "      <td>0</td>\n",
              "      <td>0</td>\n",
              "      <td>0</td>\n",
              "      <td>0</td>\n",
              "      <td>1</td>\n",
              "      <td>0</td>\n",
              "      <td>0</td>\n",
              "      <td>0</td>\n",
              "      <td>0</td>\n",
              "      <td>0</td>\n",
              "      <td>0</td>\n",
              "      <td>0</td>\n",
              "      <td>0</td>\n",
              "      <td>0</td>\n",
              "      <td>...</td>\n",
              "      <td>0</td>\n",
              "      <td>0</td>\n",
              "      <td>0</td>\n",
              "      <td>0</td>\n",
              "      <td>0</td>\n",
              "      <td>0</td>\n",
              "      <td>0</td>\n",
              "      <td>0</td>\n",
              "      <td>0</td>\n",
              "      <td>0</td>\n",
              "      <td>0</td>\n",
              "      <td>0</td>\n",
              "      <td>0</td>\n",
              "      <td>1</td>\n",
              "      <td>0</td>\n",
              "      <td>0</td>\n",
              "      <td>0</td>\n",
              "      <td>0</td>\n",
              "      <td>0</td>\n",
              "      <td>1</td>\n",
              "      <td>0</td>\n",
              "      <td>0</td>\n",
              "      <td>0</td>\n",
              "      <td>0</td>\n",
              "      <td>0</td>\n",
              "      <td>0</td>\n",
              "      <td>0</td>\n",
              "      <td>0</td>\n",
              "      <td>0</td>\n",
              "      <td>0</td>\n",
              "      <td>0</td>\n",
              "      <td>0</td>\n",
              "      <td>0</td>\n",
              "      <td>0</td>\n",
              "      <td>0</td>\n",
              "      <td>0</td>\n",
              "      <td>0</td>\n",
              "      <td>0</td>\n",
              "      <td>0</td>\n",
              "      <td>0</td>\n",
              "    </tr>\n",
              "  </tbody>\n",
              "</table>\n",
              "<p>5 rows × 144 columns</p>\n",
              "</div>"
            ],
            "text/plain": [
              "   -  .  .net  .netnoesunlenguaje!  4gl  ...  xamarin  xml  xslt  yacc  yaml\n",
              "0  0  0     0                    0    0  ...        0    0     0     0     0\n",
              "1  0  0     0                    0    0  ...        0    0     0     0     0\n",
              "2  0  0     0                    0    0  ...        0    0     0     0     0\n",
              "3  0  0     0                    0    0  ...        0    0     0     0     0\n",
              "4  0  0     0                    0    0  ...        0    0     0     0     0\n",
              "\n",
              "[5 rows x 144 columns]"
            ]
          },
          "metadata": {
            "tags": []
          },
          "execution_count": 50
        }
      ]
    },
    {
      "cell_type": "code",
      "metadata": {
        "id": "69PJAyEsHyWy",
        "colab": {
          "base_uri": "https://localhost:8080/",
          "height": 348
        },
        "outputId": "d7e8ab98-ff77-4ece-cc7a-218554a50db0"
      },
      "source": [
        "# Nos quedamos con las columnas cuya frecuencia sea mayor a 10\n",
        "for column in df_one_hot.columns:\n",
        "    if (df_one_hot[column].sum() <= 10):\n",
        "        df_one_hot.drop(column, inplace=True, axis=1)\n",
        "        df_one_hot.reset_index(drop=True, inplace=True)\n",
        "# Eliminamos las columnas 'ninguno' y 'ningunodelosanteriores'\n",
        "df_one_hot.drop(columns=['ninguno','ningunodelosanteriores'], axis=1, inplace=True)\n",
        "df_one_hot.reset_index(drop=True, inplace=True)\n",
        "print(len(df_one_hot.columns))\n",
        "print(df_one_hot.columns)\n",
        "df_one_hot.head()\n",
        "# Tenemos ahora 33 valores de \"lenguales de programación\", los que tenían frecuencia mayor a 10."
      ],
      "execution_count": 51,
      "outputs": [
        {
          "output_type": "stream",
          "text": [
            "33\n",
            "Index(['.net', 'abap', 'actionscript', 'apex', 'assembler', 'bash/shell', 'c',\n",
            "       'c#', 'c++', 'cobol', 'css', 'dart', 'delphi', 'go', 'groovy', 'html',\n",
            "       'java', 'javascript', 'kotlin', 'matlab', 'objective-c', 'perl', 'php',\n",
            "       'powershell', 'python', 'r', 'ruby', 'scala', 'smalltalk', 'sql',\n",
            "       'swift', 'typescript', 'vba'],\n",
            "      dtype='object')\n"
          ],
          "name": "stdout"
        },
        {
          "output_type": "execute_result",
          "data": {
            "text/html": [
              "<div>\n",
              "<style scoped>\n",
              "    .dataframe tbody tr th:only-of-type {\n",
              "        vertical-align: middle;\n",
              "    }\n",
              "\n",
              "    .dataframe tbody tr th {\n",
              "        vertical-align: top;\n",
              "    }\n",
              "\n",
              "    .dataframe thead th {\n",
              "        text-align: right;\n",
              "    }\n",
              "</style>\n",
              "<table border=\"1\" class=\"dataframe\">\n",
              "  <thead>\n",
              "    <tr style=\"text-align: right;\">\n",
              "      <th></th>\n",
              "      <th>.net</th>\n",
              "      <th>abap</th>\n",
              "      <th>actionscript</th>\n",
              "      <th>apex</th>\n",
              "      <th>assembler</th>\n",
              "      <th>bash/shell</th>\n",
              "      <th>c</th>\n",
              "      <th>c#</th>\n",
              "      <th>c++</th>\n",
              "      <th>cobol</th>\n",
              "      <th>css</th>\n",
              "      <th>dart</th>\n",
              "      <th>delphi</th>\n",
              "      <th>go</th>\n",
              "      <th>groovy</th>\n",
              "      <th>html</th>\n",
              "      <th>java</th>\n",
              "      <th>javascript</th>\n",
              "      <th>kotlin</th>\n",
              "      <th>matlab</th>\n",
              "      <th>objective-c</th>\n",
              "      <th>perl</th>\n",
              "      <th>php</th>\n",
              "      <th>powershell</th>\n",
              "      <th>python</th>\n",
              "      <th>r</th>\n",
              "      <th>ruby</th>\n",
              "      <th>scala</th>\n",
              "      <th>smalltalk</th>\n",
              "      <th>sql</th>\n",
              "      <th>swift</th>\n",
              "      <th>typescript</th>\n",
              "      <th>vba</th>\n",
              "    </tr>\n",
              "  </thead>\n",
              "  <tbody>\n",
              "    <tr>\n",
              "      <th>0</th>\n",
              "      <td>0</td>\n",
              "      <td>0</td>\n",
              "      <td>0</td>\n",
              "      <td>0</td>\n",
              "      <td>0</td>\n",
              "      <td>0</td>\n",
              "      <td>0</td>\n",
              "      <td>0</td>\n",
              "      <td>0</td>\n",
              "      <td>0</td>\n",
              "      <td>0</td>\n",
              "      <td>0</td>\n",
              "      <td>0</td>\n",
              "      <td>0</td>\n",
              "      <td>0</td>\n",
              "      <td>0</td>\n",
              "      <td>0</td>\n",
              "      <td>0</td>\n",
              "      <td>0</td>\n",
              "      <td>0</td>\n",
              "      <td>0</td>\n",
              "      <td>0</td>\n",
              "      <td>0</td>\n",
              "      <td>0</td>\n",
              "      <td>0</td>\n",
              "      <td>0</td>\n",
              "      <td>0</td>\n",
              "      <td>0</td>\n",
              "      <td>0</td>\n",
              "      <td>0</td>\n",
              "      <td>0</td>\n",
              "      <td>0</td>\n",
              "      <td>0</td>\n",
              "    </tr>\n",
              "    <tr>\n",
              "      <th>1</th>\n",
              "      <td>0</td>\n",
              "      <td>0</td>\n",
              "      <td>0</td>\n",
              "      <td>0</td>\n",
              "      <td>0</td>\n",
              "      <td>0</td>\n",
              "      <td>0</td>\n",
              "      <td>0</td>\n",
              "      <td>0</td>\n",
              "      <td>0</td>\n",
              "      <td>0</td>\n",
              "      <td>0</td>\n",
              "      <td>0</td>\n",
              "      <td>0</td>\n",
              "      <td>0</td>\n",
              "      <td>1</td>\n",
              "      <td>0</td>\n",
              "      <td>1</td>\n",
              "      <td>0</td>\n",
              "      <td>0</td>\n",
              "      <td>0</td>\n",
              "      <td>0</td>\n",
              "      <td>0</td>\n",
              "      <td>0</td>\n",
              "      <td>1</td>\n",
              "      <td>0</td>\n",
              "      <td>0</td>\n",
              "      <td>0</td>\n",
              "      <td>0</td>\n",
              "      <td>0</td>\n",
              "      <td>0</td>\n",
              "      <td>0</td>\n",
              "      <td>0</td>\n",
              "    </tr>\n",
              "    <tr>\n",
              "      <th>2</th>\n",
              "      <td>0</td>\n",
              "      <td>0</td>\n",
              "      <td>0</td>\n",
              "      <td>0</td>\n",
              "      <td>0</td>\n",
              "      <td>0</td>\n",
              "      <td>0</td>\n",
              "      <td>0</td>\n",
              "      <td>0</td>\n",
              "      <td>0</td>\n",
              "      <td>0</td>\n",
              "      <td>0</td>\n",
              "      <td>0</td>\n",
              "      <td>0</td>\n",
              "      <td>0</td>\n",
              "      <td>0</td>\n",
              "      <td>0</td>\n",
              "      <td>0</td>\n",
              "      <td>0</td>\n",
              "      <td>0</td>\n",
              "      <td>0</td>\n",
              "      <td>0</td>\n",
              "      <td>0</td>\n",
              "      <td>0</td>\n",
              "      <td>0</td>\n",
              "      <td>0</td>\n",
              "      <td>0</td>\n",
              "      <td>0</td>\n",
              "      <td>0</td>\n",
              "      <td>0</td>\n",
              "      <td>0</td>\n",
              "      <td>0</td>\n",
              "      <td>0</td>\n",
              "    </tr>\n",
              "    <tr>\n",
              "      <th>3</th>\n",
              "      <td>0</td>\n",
              "      <td>0</td>\n",
              "      <td>0</td>\n",
              "      <td>0</td>\n",
              "      <td>0</td>\n",
              "      <td>1</td>\n",
              "      <td>1</td>\n",
              "      <td>0</td>\n",
              "      <td>0</td>\n",
              "      <td>0</td>\n",
              "      <td>1</td>\n",
              "      <td>0</td>\n",
              "      <td>0</td>\n",
              "      <td>0</td>\n",
              "      <td>0</td>\n",
              "      <td>1</td>\n",
              "      <td>1</td>\n",
              "      <td>1</td>\n",
              "      <td>0</td>\n",
              "      <td>0</td>\n",
              "      <td>0</td>\n",
              "      <td>0</td>\n",
              "      <td>1</td>\n",
              "      <td>0</td>\n",
              "      <td>1</td>\n",
              "      <td>0</td>\n",
              "      <td>0</td>\n",
              "      <td>0</td>\n",
              "      <td>0</td>\n",
              "      <td>1</td>\n",
              "      <td>0</td>\n",
              "      <td>0</td>\n",
              "      <td>0</td>\n",
              "    </tr>\n",
              "    <tr>\n",
              "      <th>4</th>\n",
              "      <td>0</td>\n",
              "      <td>0</td>\n",
              "      <td>0</td>\n",
              "      <td>0</td>\n",
              "      <td>0</td>\n",
              "      <td>0</td>\n",
              "      <td>0</td>\n",
              "      <td>0</td>\n",
              "      <td>0</td>\n",
              "      <td>0</td>\n",
              "      <td>1</td>\n",
              "      <td>0</td>\n",
              "      <td>0</td>\n",
              "      <td>0</td>\n",
              "      <td>0</td>\n",
              "      <td>1</td>\n",
              "      <td>0</td>\n",
              "      <td>1</td>\n",
              "      <td>0</td>\n",
              "      <td>0</td>\n",
              "      <td>0</td>\n",
              "      <td>0</td>\n",
              "      <td>0</td>\n",
              "      <td>0</td>\n",
              "      <td>0</td>\n",
              "      <td>0</td>\n",
              "      <td>0</td>\n",
              "      <td>0</td>\n",
              "      <td>0</td>\n",
              "      <td>1</td>\n",
              "      <td>0</td>\n",
              "      <td>1</td>\n",
              "      <td>0</td>\n",
              "    </tr>\n",
              "  </tbody>\n",
              "</table>\n",
              "</div>"
            ],
            "text/plain": [
              "   .net  abap  actionscript  apex  ...  sql  swift  typescript  vba\n",
              "0     0     0             0     0  ...    0      0           0    0\n",
              "1     0     0             0     0  ...    0      0           0    0\n",
              "2     0     0             0     0  ...    0      0           0    0\n",
              "3     0     0             0     0  ...    1      0           0    0\n",
              "4     0     0             0     0  ...    1      0           1    0\n",
              "\n",
              "[5 rows x 33 columns]"
            ]
          },
          "metadata": {
            "tags": []
          },
          "execution_count": 51
        }
      ]
    },
    {
      "cell_type": "code",
      "metadata": {
        "id": "U3He4glHH4Mr",
        "colab": {
          "base_uri": "https://localhost:8080/",
          "height": 499
        },
        "outputId": "2760a045-feb3-4356-8aab-3c3a8476ad5b"
      },
      "source": [
        "# Concatenamos ambos dataframes para agregar las columnas de cada lenguaje\n",
        "df = pd.concat([df, df_one_hot], axis=1) #48+33=81 columnas\n",
        "display(df.shape)\n",
        "df.head()"
      ],
      "execution_count": 52,
      "outputs": [
        {
          "output_type": "display_data",
          "data": {
            "text/plain": [
              "(4438, 118)"
            ]
          },
          "metadata": {
            "tags": []
          }
        },
        {
          "output_type": "execute_result",
          "data": {
            "text/html": [
              "<div>\n",
              "<style scoped>\n",
              "    .dataframe tbody tr th:only-of-type {\n",
              "        vertical-align: middle;\n",
              "    }\n",
              "\n",
              "    .dataframe tbody tr th {\n",
              "        vertical-align: top;\n",
              "    }\n",
              "\n",
              "    .dataframe thead th {\n",
              "        text-align: right;\n",
              "    }\n",
              "</style>\n",
              "<table border=\"1\" class=\"dataframe\">\n",
              "  <thead>\n",
              "    <tr style=\"text-align: right;\">\n",
              "      <th></th>\n",
              "      <th>profile_gender</th>\n",
              "      <th>profile_age</th>\n",
              "      <th>work_country</th>\n",
              "      <th>work_province</th>\n",
              "      <th>profile_years_experience</th>\n",
              "      <th>work_years_in_company</th>\n",
              "      <th>work_years_in_current_position</th>\n",
              "      <th>work_people_in_charge_of</th>\n",
              "      <th>profile_studies_level</th>\n",
              "      <th>profile_studies_level_state</th>\n",
              "      <th>profile_career</th>\n",
              "      <th>profile_university</th>\n",
              "      <th>profile_specialization_courses</th>\n",
              "      <th>profile_open_source_contributions</th>\n",
              "      <th>profile_programming_as_hobby</th>\n",
              "      <th>work_role</th>\n",
              "      <th>tools_platform</th>\n",
              "      <th>tools_programming_languages</th>\n",
              "      <th>tools_frameworks</th>\n",
              "      <th>tools_data_bases</th>\n",
              "      <th>tools_qa_testing</th>\n",
              "      <th>tools_IDEs</th>\n",
              "      <th>tools_work_pc_os</th>\n",
              "      <th>tools_cellphone_os</th>\n",
              "      <th>work_on_call_duty</th>\n",
              "      <th>salary_on_call_duty_charge</th>\n",
              "      <th>work_on_call_duty_charge_type</th>\n",
              "      <th>work_contract_type</th>\n",
              "      <th>salary_monthly_BRUTO</th>\n",
              "      <th>salary_monthly_NETO</th>\n",
              "      <th>salary_in_usd</th>\n",
              "      <th>salary_satisfaction</th>\n",
              "      <th>salary_comparison_last_semester</th>\n",
              "      <th>salary_has_bonus</th>\n",
              "      <th>salary_bonus_tied_to</th>\n",
              "      <th>salary_inflation_adjustment_2020</th>\n",
              "      <th>salary_percentage_inflation_adjustment_2020</th>\n",
              "      <th>salary_month_last_inflation_adjustment</th>\n",
              "      <th>work_has_violence_situations</th>\n",
              "      <th>profile_sexual_orientation</th>\n",
              "      <th>...</th>\n",
              "      <th>scala</th>\n",
              "      <th>smalltalk</th>\n",
              "      <th>sql</th>\n",
              "      <th>swift</th>\n",
              "      <th>typescript</th>\n",
              "      <th>vba</th>\n",
              "      <th>cured_programming_languages</th>\n",
              "      <th>.net</th>\n",
              "      <th>abap</th>\n",
              "      <th>actionscript</th>\n",
              "      <th>apex</th>\n",
              "      <th>assembler</th>\n",
              "      <th>bash/shell</th>\n",
              "      <th>c</th>\n",
              "      <th>c#</th>\n",
              "      <th>c++</th>\n",
              "      <th>cobol</th>\n",
              "      <th>css</th>\n",
              "      <th>dart</th>\n",
              "      <th>delphi</th>\n",
              "      <th>go</th>\n",
              "      <th>groovy</th>\n",
              "      <th>html</th>\n",
              "      <th>java</th>\n",
              "      <th>javascript</th>\n",
              "      <th>kotlin</th>\n",
              "      <th>matlab</th>\n",
              "      <th>objective-c</th>\n",
              "      <th>perl</th>\n",
              "      <th>php</th>\n",
              "      <th>powershell</th>\n",
              "      <th>python</th>\n",
              "      <th>r</th>\n",
              "      <th>ruby</th>\n",
              "      <th>scala</th>\n",
              "      <th>smalltalk</th>\n",
              "      <th>sql</th>\n",
              "      <th>swift</th>\n",
              "      <th>typescript</th>\n",
              "      <th>vba</th>\n",
              "    </tr>\n",
              "  </thead>\n",
              "  <tbody>\n",
              "    <tr>\n",
              "      <th>0</th>\n",
              "      <td>Mujer</td>\n",
              "      <td>26.00</td>\n",
              "      <td>Argentina</td>\n",
              "      <td>Ciudad Autónoma de Buenos Aires</td>\n",
              "      <td>3.00</td>\n",
              "      <td>3.00</td>\n",
              "      <td>3.00</td>\n",
              "      <td>0.00</td>\n",
              "      <td>Universitario</td>\n",
              "      <td>En curso</td>\n",
              "      <td>Ingeniería en Sistemas de Información</td>\n",
              "      <td>UTN - Universidad Tecnológica Nacional</td>\n",
              "      <td>Sí, los pagó un empleador</td>\n",
              "      <td>No</td>\n",
              "      <td>Sí</td>\n",
              "      <td>Consultant</td>\n",
              "      <td>Ninguna</td>\n",
              "      <td>Ninguno</td>\n",
              "      <td>Ninguno</td>\n",
              "      <td>Ninguna</td>\n",
              "      <td>Ninguna</td>\n",
              "      <td>Ninguno</td>\n",
              "      <td>GNU/Linux</td>\n",
              "      <td>Android</td>\n",
              "      <td>No</td>\n",
              "      <td>0.00</td>\n",
              "      <td>Bruto</td>\n",
              "      <td>Full-Time</td>\n",
              "      <td>53000.00</td>\n",
              "      <td>43000.00</td>\n",
              "      <td>NaN</td>\n",
              "      <td>1.00</td>\n",
              "      <td>1.00</td>\n",
              "      <td>No</td>\n",
              "      <td>No recibo bono</td>\n",
              "      <td>No</td>\n",
              "      <td>0.00</td>\n",
              "      <td>0.00</td>\n",
              "      <td>En mi trabajo actual</td>\n",
              "      <td>Homosexual</td>\n",
              "      <td>...</td>\n",
              "      <td>0.00</td>\n",
              "      <td>0.00</td>\n",
              "      <td>0.00</td>\n",
              "      <td>0.00</td>\n",
              "      <td>0.00</td>\n",
              "      <td>0.00</td>\n",
              "      <td>[ninguno]</td>\n",
              "      <td>0</td>\n",
              "      <td>0</td>\n",
              "      <td>0</td>\n",
              "      <td>0</td>\n",
              "      <td>0</td>\n",
              "      <td>0</td>\n",
              "      <td>0</td>\n",
              "      <td>0</td>\n",
              "      <td>0</td>\n",
              "      <td>0</td>\n",
              "      <td>0</td>\n",
              "      <td>0</td>\n",
              "      <td>0</td>\n",
              "      <td>0</td>\n",
              "      <td>0</td>\n",
              "      <td>0</td>\n",
              "      <td>0</td>\n",
              "      <td>0</td>\n",
              "      <td>0</td>\n",
              "      <td>0</td>\n",
              "      <td>0</td>\n",
              "      <td>0</td>\n",
              "      <td>0</td>\n",
              "      <td>0</td>\n",
              "      <td>0</td>\n",
              "      <td>0</td>\n",
              "      <td>0</td>\n",
              "      <td>0</td>\n",
              "      <td>0</td>\n",
              "      <td>0</td>\n",
              "      <td>0</td>\n",
              "      <td>0</td>\n",
              "      <td>0</td>\n",
              "    </tr>\n",
              "    <tr>\n",
              "      <th>1</th>\n",
              "      <td>Hombre</td>\n",
              "      <td>29.00</td>\n",
              "      <td>Argentina</td>\n",
              "      <td>Corrientes</td>\n",
              "      <td>5.00</td>\n",
              "      <td>2.00</td>\n",
              "      <td>2.00</td>\n",
              "      <td>4.00</td>\n",
              "      <td>Universitario</td>\n",
              "      <td>En curso</td>\n",
              "      <td>Ingeniería en Sistemas de Información</td>\n",
              "      <td>UTN - Universidad Tecnológica Nacional</td>\n",
              "      <td>Sí, de forma particular, Sí, los pagó un emple...</td>\n",
              "      <td>No</td>\n",
              "      <td>Sí</td>\n",
              "      <td>Developer</td>\n",
              "      <td>Docker, Google Cloud Platform/App Engine</td>\n",
              "      <td>HTML, Javascript, Python</td>\n",
              "      <td>Django, jQuery</td>\n",
              "      <td>Informix, MySQL, PostgreSQL</td>\n",
              "      <td>Ninguna</td>\n",
              "      <td>IPython / Jupyter, Sublime Text, Visual Studio...</td>\n",
              "      <td>GNU/Linux</td>\n",
              "      <td>Android</td>\n",
              "      <td>No</td>\n",
              "      <td>0.00</td>\n",
              "      <td>Bruto</td>\n",
              "      <td>Full-Time</td>\n",
              "      <td>79000.00</td>\n",
              "      <td>63000.00</td>\n",
              "      <td>NaN</td>\n",
              "      <td>2.00</td>\n",
              "      <td>2.00</td>\n",
              "      <td>Menos de un sueldo</td>\n",
              "      <td>Performance de la compañía</td>\n",
              "      <td>Uno</td>\n",
              "      <td>10.00</td>\n",
              "      <td>1.00</td>\n",
              "      <td>Jamás</td>\n",
              "      <td>Heterosexual</td>\n",
              "      <td>...</td>\n",
              "      <td>0.00</td>\n",
              "      <td>0.00</td>\n",
              "      <td>0.00</td>\n",
              "      <td>0.00</td>\n",
              "      <td>0.00</td>\n",
              "      <td>0.00</td>\n",
              "      <td>[html, javascript, python]</td>\n",
              "      <td>0</td>\n",
              "      <td>0</td>\n",
              "      <td>0</td>\n",
              "      <td>0</td>\n",
              "      <td>0</td>\n",
              "      <td>0</td>\n",
              "      <td>0</td>\n",
              "      <td>0</td>\n",
              "      <td>0</td>\n",
              "      <td>0</td>\n",
              "      <td>0</td>\n",
              "      <td>0</td>\n",
              "      <td>0</td>\n",
              "      <td>0</td>\n",
              "      <td>0</td>\n",
              "      <td>1</td>\n",
              "      <td>0</td>\n",
              "      <td>1</td>\n",
              "      <td>0</td>\n",
              "      <td>0</td>\n",
              "      <td>0</td>\n",
              "      <td>0</td>\n",
              "      <td>0</td>\n",
              "      <td>0</td>\n",
              "      <td>1</td>\n",
              "      <td>0</td>\n",
              "      <td>0</td>\n",
              "      <td>0</td>\n",
              "      <td>0</td>\n",
              "      <td>0</td>\n",
              "      <td>0</td>\n",
              "      <td>0</td>\n",
              "      <td>0</td>\n",
              "    </tr>\n",
              "    <tr>\n",
              "      <th>2</th>\n",
              "      <td>Mujer</td>\n",
              "      <td>22.00</td>\n",
              "      <td>Argentina</td>\n",
              "      <td>Ciudad Autónoma de Buenos Aires</td>\n",
              "      <td>2.00</td>\n",
              "      <td>0.00</td>\n",
              "      <td>0.00</td>\n",
              "      <td>0.00</td>\n",
              "      <td>Secundario</td>\n",
              "      <td>Completado</td>\n",
              "      <td>NaN</td>\n",
              "      <td>NaN</td>\n",
              "      <td>Sí, de forma particular, Sí, los pagó un emple...</td>\n",
              "      <td>No</td>\n",
              "      <td>Sí</td>\n",
              "      <td>Infosec</td>\n",
              "      <td>Linux, VMWare</td>\n",
              "      <td>Ninguno</td>\n",
              "      <td>Ninguno</td>\n",
              "      <td>Ninguna</td>\n",
              "      <td>Ninguna</td>\n",
              "      <td>Ninguno</td>\n",
              "      <td>Windows</td>\n",
              "      <td>iOS</td>\n",
              "      <td>No</td>\n",
              "      <td>0.00</td>\n",
              "      <td>Porcentaje de mi sueldo</td>\n",
              "      <td>Full-Time</td>\n",
              "      <td>160000.00</td>\n",
              "      <td>127000.00</td>\n",
              "      <td>NaN</td>\n",
              "      <td>3.00</td>\n",
              "      <td>3.00</td>\n",
              "      <td>Un sueldo</td>\n",
              "      <td>Performance individual</td>\n",
              "      <td>No</td>\n",
              "      <td>0.00</td>\n",
              "      <td>0.00</td>\n",
              "      <td>En un trabajo anterior</td>\n",
              "      <td>Bisexual o queer</td>\n",
              "      <td>...</td>\n",
              "      <td>0.00</td>\n",
              "      <td>0.00</td>\n",
              "      <td>0.00</td>\n",
              "      <td>0.00</td>\n",
              "      <td>0.00</td>\n",
              "      <td>0.00</td>\n",
              "      <td>[ninguno]</td>\n",
              "      <td>0</td>\n",
              "      <td>0</td>\n",
              "      <td>0</td>\n",
              "      <td>0</td>\n",
              "      <td>0</td>\n",
              "      <td>0</td>\n",
              "      <td>0</td>\n",
              "      <td>0</td>\n",
              "      <td>0</td>\n",
              "      <td>0</td>\n",
              "      <td>0</td>\n",
              "      <td>0</td>\n",
              "      <td>0</td>\n",
              "      <td>0</td>\n",
              "      <td>0</td>\n",
              "      <td>0</td>\n",
              "      <td>0</td>\n",
              "      <td>0</td>\n",
              "      <td>0</td>\n",
              "      <td>0</td>\n",
              "      <td>0</td>\n",
              "      <td>0</td>\n",
              "      <td>0</td>\n",
              "      <td>0</td>\n",
              "      <td>0</td>\n",
              "      <td>0</td>\n",
              "      <td>0</td>\n",
              "      <td>0</td>\n",
              "      <td>0</td>\n",
              "      <td>0</td>\n",
              "      <td>0</td>\n",
              "      <td>0</td>\n",
              "      <td>0</td>\n",
              "    </tr>\n",
              "    <tr>\n",
              "      <th>3</th>\n",
              "      <td>Hombre</td>\n",
              "      <td>39.00</td>\n",
              "      <td>Argentina</td>\n",
              "      <td>Corrientes</td>\n",
              "      <td>15.00</td>\n",
              "      <td>15.00</td>\n",
              "      <td>13.00</td>\n",
              "      <td>5.00</td>\n",
              "      <td>Posgrado</td>\n",
              "      <td>Incompleto</td>\n",
              "      <td>Licenciatura en Sistemas</td>\n",
              "      <td>UNNE Universidad Nacional del Nordeste</td>\n",
              "      <td>Sí, de forma particular, Sí, los pagó un emple...</td>\n",
              "      <td>Sí</td>\n",
              "      <td>Sí</td>\n",
              "      <td>SysAdmin / DevOps / SRE</td>\n",
              "      <td>Docker, Linux, OpenStack, VMWare, Windows Server</td>\n",
              "      <td>Bash/Shell, C, CSS, HTML, Java, Javascript, PH...</td>\n",
              "      <td>jQuery, WordPress</td>\n",
              "      <td>Microsoft SQL Server, MySQL</td>\n",
              "      <td>PHPUnit</td>\n",
              "      <td>Eclipse, Visual Studio Code</td>\n",
              "      <td>GNU/Linux</td>\n",
              "      <td>Android</td>\n",
              "      <td>Sí, pasiva</td>\n",
              "      <td>0.00</td>\n",
              "      <td>Bruto</td>\n",
              "      <td>Full-Time</td>\n",
              "      <td>130000.00</td>\n",
              "      <td>102000.00</td>\n",
              "      <td>NaN</td>\n",
              "      <td>3.00</td>\n",
              "      <td>1.00</td>\n",
              "      <td>No</td>\n",
              "      <td>No recibo bono</td>\n",
              "      <td>No</td>\n",
              "      <td>0.00</td>\n",
              "      <td>0.00</td>\n",
              "      <td>En mi trabajo actual</td>\n",
              "      <td>Heterosexual</td>\n",
              "      <td>...</td>\n",
              "      <td>0.00</td>\n",
              "      <td>0.00</td>\n",
              "      <td>1.00</td>\n",
              "      <td>0.00</td>\n",
              "      <td>0.00</td>\n",
              "      <td>0.00</td>\n",
              "      <td>[bash/shell, c, css, html, java, javascript, p...</td>\n",
              "      <td>0</td>\n",
              "      <td>0</td>\n",
              "      <td>0</td>\n",
              "      <td>0</td>\n",
              "      <td>0</td>\n",
              "      <td>1</td>\n",
              "      <td>1</td>\n",
              "      <td>0</td>\n",
              "      <td>0</td>\n",
              "      <td>0</td>\n",
              "      <td>1</td>\n",
              "      <td>0</td>\n",
              "      <td>0</td>\n",
              "      <td>0</td>\n",
              "      <td>0</td>\n",
              "      <td>1</td>\n",
              "      <td>1</td>\n",
              "      <td>1</td>\n",
              "      <td>0</td>\n",
              "      <td>0</td>\n",
              "      <td>0</td>\n",
              "      <td>0</td>\n",
              "      <td>1</td>\n",
              "      <td>0</td>\n",
              "      <td>1</td>\n",
              "      <td>0</td>\n",
              "      <td>0</td>\n",
              "      <td>0</td>\n",
              "      <td>0</td>\n",
              "      <td>1</td>\n",
              "      <td>0</td>\n",
              "      <td>0</td>\n",
              "      <td>0</td>\n",
              "    </tr>\n",
              "    <tr>\n",
              "      <th>4</th>\n",
              "      <td>Hombre</td>\n",
              "      <td>32.00</td>\n",
              "      <td>Argentina</td>\n",
              "      <td>Ciudad Autónoma de Buenos Aires</td>\n",
              "      <td>9.00</td>\n",
              "      <td>6.00</td>\n",
              "      <td>6.00</td>\n",
              "      <td>0.00</td>\n",
              "      <td>Universitario</td>\n",
              "      <td>En curso</td>\n",
              "      <td>Licenciatura en Ciencias dela Computación</td>\n",
              "      <td>UBA - Universidad de Buenos Aires</td>\n",
              "      <td>No</td>\n",
              "      <td>No</td>\n",
              "      <td>Sí</td>\n",
              "      <td>Developer</td>\n",
              "      <td>Amazon Web Services</td>\n",
              "      <td>CSS, HTML, Javascript, SQL, TypeScript</td>\n",
              "      <td>Angular, Node.js</td>\n",
              "      <td>Amazon DynamoDB, MongoDB, MySQL</td>\n",
              "      <td>Jest</td>\n",
              "      <td>Vim</td>\n",
              "      <td>macOS</td>\n",
              "      <td>Android</td>\n",
              "      <td>No</td>\n",
              "      <td>0.00</td>\n",
              "      <td>Porcentaje de mi sueldo</td>\n",
              "      <td>Full-Time</td>\n",
              "      <td>140000.00</td>\n",
              "      <td>106000.00</td>\n",
              "      <td>NaN</td>\n",
              "      <td>1.00</td>\n",
              "      <td>1.00</td>\n",
              "      <td>Menos de un sueldo</td>\n",
              "      <td>Performance individual</td>\n",
              "      <td>No</td>\n",
              "      <td>0.00</td>\n",
              "      <td>0.00</td>\n",
              "      <td>Jamás</td>\n",
              "      <td>Heterosexual</td>\n",
              "      <td>...</td>\n",
              "      <td>0.00</td>\n",
              "      <td>0.00</td>\n",
              "      <td>1.00</td>\n",
              "      <td>0.00</td>\n",
              "      <td>1.00</td>\n",
              "      <td>0.00</td>\n",
              "      <td>[css, html, javascript, sql, typescript]</td>\n",
              "      <td>0</td>\n",
              "      <td>0</td>\n",
              "      <td>0</td>\n",
              "      <td>0</td>\n",
              "      <td>0</td>\n",
              "      <td>0</td>\n",
              "      <td>0</td>\n",
              "      <td>0</td>\n",
              "      <td>0</td>\n",
              "      <td>0</td>\n",
              "      <td>1</td>\n",
              "      <td>0</td>\n",
              "      <td>0</td>\n",
              "      <td>0</td>\n",
              "      <td>0</td>\n",
              "      <td>1</td>\n",
              "      <td>0</td>\n",
              "      <td>1</td>\n",
              "      <td>0</td>\n",
              "      <td>0</td>\n",
              "      <td>0</td>\n",
              "      <td>0</td>\n",
              "      <td>0</td>\n",
              "      <td>0</td>\n",
              "      <td>0</td>\n",
              "      <td>0</td>\n",
              "      <td>0</td>\n",
              "      <td>0</td>\n",
              "      <td>0</td>\n",
              "      <td>1</td>\n",
              "      <td>0</td>\n",
              "      <td>1</td>\n",
              "      <td>0</td>\n",
              "    </tr>\n",
              "  </tbody>\n",
              "</table>\n",
              "<p>5 rows × 118 columns</p>\n",
              "</div>"
            ],
            "text/plain": [
              "  profile_gender  profile_age work_country  ... swift  typescript  vba\n",
              "0          Mujer        26.00    Argentina  ...     0           0    0\n",
              "1         Hombre        29.00    Argentina  ...     0           0    0\n",
              "2          Mujer        22.00    Argentina  ...     0           0    0\n",
              "3         Hombre        39.00    Argentina  ...     0           0    0\n",
              "4         Hombre        32.00    Argentina  ...     0           1    0\n",
              "\n",
              "[5 rows x 118 columns]"
            ]
          },
          "metadata": {
            "tags": []
          },
          "execution_count": 52
        }
      ]
    },
    {
      "cell_type": "markdown",
      "metadata": {
        "id": "nThbJ1KeUgDo"
      },
      "source": [
        "### Filtrado de lenguajes relevantes\n",
        "\n",
        "El siguiente código permite seleccionar sólo las filas donde el valor de la columna `programming_language` se encuentre en la lista `interesting_languages`.\n",
        "\n",
        "[REVISAR] Porque ya estamos eligiendo los language_count[language_count['frequency'] > 10]"
      ]
    },
    {
      "cell_type": "markdown",
      "metadata": {
        "id": "Yb-foxf47dqi"
      },
      "source": [
        "#### Análisis 1: Lenguajes relacionados por área de desarrollo (work_role)\n",
        "Se plantea el análisis de lenguajes de programación agrupados por área de desarrollo, ya que consideramos que el salario no se asocia únicamente a un lenguaje, sino que se requiere un conjunto de ellos.\n",
        "\n",
        "Para esto nos replanteamos la pregunta a:\n",
        "\n",
        "> ¿Qué conjunto de lenguajes/áreas de desarrollo están asociados a los mejores salarios?\n",
        "i.e: Una vez que tenemos los roles mejores pagos (que cobran por encima de la media), ver cuáles son los lenguajes de esos roles.\n",
        "\n",
        ">  Vemos que los puestos de mayor jerarquía tienen mayor salario, aunque tienen una menor frequencia. Tal vez convenga analizarlos por separado.\n"
      ]
    },
    {
      "cell_type": "markdown",
      "metadata": {
        "id": "w4KXho00W-YF"
      },
      "source": [
        "Si orientamos la investigacion a que sea vista por aspirantes a programacion, es conveniente catalogar distintos roles segun el tipo de trabajo, para que se tenga una mejor idea de la variedad de puestos y posicionar el valor de cada uno segun el sueldo."
      ]
    },
    {
      "cell_type": "markdown",
      "metadata": {
        "id": "t9YsLXmsXdbw"
      },
      "source": [
        "## Como nos interesa clasificar los roles?\n",
        "\n",
        "En primer lugar, analizamos la columna 'work_role' que contiene la orientacion o el tipo de trabajo para cada caso. \n",
        "\n",
        "Similar al caso de los lenguajes, hay una variedad grande de respuestas dentro de los roles disponibles. "
      ]
    },
    {
      "cell_type": "code",
      "metadata": {
        "colab": {
          "base_uri": "https://localhost:8080/"
        },
        "id": "PZEEprrcbmjL",
        "outputId": "0e9ad3d2-0596-40a6-f79b-4ba88af523a0"
      },
      "source": [
        "# Casos distintos para 'work_role'\n",
        "len(df['work_role'].value_counts())"
      ],
      "execution_count": 53,
      "outputs": [
        {
          "output_type": "execute_result",
          "data": {
            "text/plain": [
              "263"
            ]
          },
          "metadata": {
            "tags": []
          },
          "execution_count": 53
        }
      ]
    },
    {
      "cell_type": "markdown",
      "metadata": {
        "id": "cBDUeQbDciO2"
      },
      "source": [
        "Para simplificar, y tomar solo los datos significativos, tomamos el subgrupo de roles que se repiten mas de 10 veces, similar al proceso hecho en los lenguajes. \n",
        "\n",
        "Existen muchas areas donde un programador puede trabajar. En esta encuesta la mayor cantidad de casos esta concentrada en roles de IT. En estos graficos separamos las distintas percepciones de salarios para grupos de roles bajo un mismo perfil. \n",
        "\n",
        "\n",
        "--------DISCUTIR UN POCO ESTOS PERFILES--------\n",
        "- Perfil de Desarrollo:\n",
        "    - Developer\n",
        "    - SysAdmin / DevOps / SRE\n",
        "    - QA / Tester\n",
        "    - Consultant\n",
        "    - Networking (revisar)\n",
        "    - Designer\n",
        "- Perfil de Liderazgo\n",
        "    - Manager / Director\n",
        "    - Architect\n",
        "    - Project Manager\n",
        "    - Technical leader\n",
        "    - Scrum Master\n",
        "- Perfil de Analisis de negocio\n",
        "    - BI Analyst / Data Analyst\n",
        "    - Data Scientist / Data Engineer\n",
        "- Perfil de soporte\n",
        "    - DBA\n",
        "    - HelpDesk"
      ]
    },
    {
      "cell_type": "code",
      "metadata": {
        "colab": {
          "base_uri": "https://localhost:8080/",
          "height": 897
        },
        "id": "C0Ml-Lh6X4bK",
        "outputId": "2922cbcc-ddc1-4743-e2eb-6c65cb687709"
      },
      "source": [
        "# Plot de frecuencia de roles\n",
        "df_roles_count=df['work_role'].value_counts().reset_index().rename(columns={'index':'work_role', 'work_role':'frequency'})\n",
        "fig = plt.figure(figsize=(15, 15))\n",
        "g = seaborn.barplot(data=df_roles_count[df_roles_count['frequency'] > 10], x='frequency', y='work_role', color='salmon')\n",
        "# Log scale\n",
        "# g.set_xscale(\"log\")\n",
        "plt.title(\"Roles más frecuentes (mayor a 10)\")\n",
        "seaborn.despine()"
      ],
      "execution_count": 54,
      "outputs": [
        {
          "output_type": "display_data",
          "data": {
            "image/png": "[encoded data removed]",
            "text/plain": [
              "<Figure size 1080x1080 with 1 Axes>"
            ]
          },
          "metadata": {
            "tags": [],
            "needs_background": "light"
          }
        }
      ]
    },
    {
      "cell_type": "code",
      "metadata": {
        "id": "O3dso2LQY4fB"
      },
      "source": [
        "# Renombro todos los business analyst a BI Analyst / Data Analyst porque son lo mismo\n",
        "df.loc[df['work_role'] == \"Business Analyst\", 'work_role'] = \"BI Analyst / Data Analyst\"\n",
        "\n",
        "roles={\n",
        "    \"roles_dev\" : [\n",
        "         \"Developer\",\n",
        "         \"SysAdmin / DevOps / SRE\",\n",
        "         \"QA / Tester\",\n",
        "         \"Consultant\",\n",
        "         \"Networking\",\n",
        "         \"Designer\"\n",
        "    ],\n",
        "    \"roles_lead\" : [\n",
        "        \"Manager / Director\",\n",
        "        \"Architect\",\n",
        "        \"Project Manager\",\n",
        "        \"Technical leader\",\n",
        "        \"Scrum Master\"\n",
        "    ],\n",
        "    \"roles_bi\" : [\n",
        "        \"BI Analyst / Data Analyst\",\n",
        "        \"Data Scientist / Data Engineer\"\n",
        "    ],\n",
        "    \"roles_supp\" : [\n",
        "        \"DBA\",\n",
        "        \"HelpDesk\"\n",
        "    ]\n",
        "}\n",
        "\n",
        "for index, row in df_lang.iterrows():\n",
        "    if row['work_role'] in roles['roles_dev']:\n",
        "        df_lang.at[index,'role_cat'] =  \"Desarrollo\"\n",
        "    elif row['work_role'] in roles['roles_lead']:\n",
        "        df_lang.at[index,'role_cat'] =   \"Liderazgo\"\n",
        "    elif row['work_role'] in roles['roles_bi']:\n",
        "        df_lang.at[index,'role_cat'] =   \"BI / Data Science\"\n",
        "    elif row['work_role'] in roles['roles_supp']:\n",
        "        df_lang.at[index,'role_cat'] =   \"Soporte\"\n",
        "    else: row['role_cat'] = \"none\""
      ],
      "execution_count": 55,
      "outputs": []
    },
    {
      "cell_type": "markdown",
      "metadata": {
        "id": "TC6j4MJrfbYW"
      },
      "source": [
        "Si visualizamos las diferencias en distribuciones de salarios para cada lenguaje teniendo en cuenta las 4 categorias de roles usadas, podemos empezar a ver si existen diferencias entre los lenguajes para cada rol. Si, por ejemplo, se gana distinto siendo senior en python que junior en swift. "
      ]
    },
    {
      "cell_type": "code",
      "metadata": {
        "id": "TqiuPCxBl502"
      },
      "source": [
        "popular_languages = language_count[language_count['frequency'] > 10].language\n",
        "df_lang_pop = df_lang[df_lang['programming_language'].isin(popular_languages)]\n"
      ],
      "execution_count": 56,
      "outputs": []
    },
    {
      "cell_type": "code",
      "metadata": {
        "colab": {
          "base_uri": "https://localhost:8080/",
          "height": 1000
        },
        "id": "uZFunJr3gOFS",
        "outputId": "42ef3da1-967f-4d11-a452-8da4469599e0"
      },
      "source": [
        "fig, axes = plt.subplots(nrows=1, figsize=(16, 40))\n",
        "g = seaborn.countplot(\n",
        "    data=df_lang_pop[df_lang_pop['role_cat'] != 'no'], \n",
        "    hue='role_cat',\n",
        "    y=\"programming_language\"\n",
        ")\n",
        "plt.ticklabel_format(style='plain', axis='x')\n",
        "g.set_xscale('log')\n",
        "seaborn.despine()"
      ],
      "execution_count": 57,
      "outputs": [
        {
          "output_type": "display_data",
          "data": {
            "image/png": "[encoded data removed]",
            "text/plain": [
              "<Figure size 1152x2880 with 1 Axes>"
            ]
          },
          "metadata": {
            "tags": [],
            "needs_background": "light"
          }
        }
      ]
    },
    {
      "cell_type": "markdown",
      "metadata": {
        "id": "7Lev_mTBU0YH"
      },
      "source": [
        "#### Análisis 2: Lenguajes desarrollados para Apple\n",
        "\n",
        "**Hipótesis:** Aquellas personas que utilizan lenguajes de programación desarrollados específicamente para plataformas Apple, tienen mayor probabilidad de tener mayores salarios.\n",
        "\n",
        "Para este caso también replanteamos la pregunta:\n",
        "> ¿Qué conjunto de lenguajes están asociados a los mejores salarios?"
      ]
    },
    {
      "cell_type": "code",
      "metadata": {
        "id": "DEpVptnLZUQU",
        "colab": {
          "base_uri": "https://localhost:8080/",
          "height": 243
        },
        "outputId": "3a1ea5a4-d6b7-4bde-bf2b-6ca8e88078f1"
      },
      "source": [
        "# Removemos aquellos que tengan una frecuencia < 10\n",
        "interesting_languages = language_count[language_count['frequency'] > 10]['language']\n",
        "filtered_df_lang = df_lang[df_lang.programming_language.isin(interesting_languages)]\n",
        "filtered_df_lang[:5]"
      ],
      "execution_count": 58,
      "outputs": [
        {
          "output_type": "execute_result",
          "data": {
            "text/html": [
              "<div>\n",
              "<style scoped>\n",
              "    .dataframe tbody tr th:only-of-type {\n",
              "        vertical-align: middle;\n",
              "    }\n",
              "\n",
              "    .dataframe tbody tr th {\n",
              "        vertical-align: top;\n",
              "    }\n",
              "\n",
              "    .dataframe thead th {\n",
              "        text-align: right;\n",
              "    }\n",
              "</style>\n",
              "<table border=\"1\" class=\"dataframe\">\n",
              "  <thead>\n",
              "    <tr style=\"text-align: right;\">\n",
              "      <th></th>\n",
              "      <th>programming_language</th>\n",
              "      <th>tools_programming_languages</th>\n",
              "      <th>salary_monthly_NETO</th>\n",
              "      <th>salary_monthly_BRUTO</th>\n",
              "      <th>tools_work_pc_os</th>\n",
              "      <th>work_contract_type</th>\n",
              "      <th>tools_frameworks</th>\n",
              "      <th>profile_years_experience</th>\n",
              "      <th>salary_satisfaction</th>\n",
              "      <th>company_main_activity</th>\n",
              "      <th>salary_in_usd</th>\n",
              "      <th>work_role</th>\n",
              "      <th>work_years_in_company</th>\n",
              "      <th>profile_gender</th>\n",
              "      <th>profile_age</th>\n",
              "      <th>cured_programming_languages</th>\n",
              "      <th>role_cat</th>\n",
              "    </tr>\n",
              "  </thead>\n",
              "  <tbody>\n",
              "    <tr>\n",
              "      <th>0</th>\n",
              "      <td>ninguno</td>\n",
              "      <td>Ninguno</td>\n",
              "      <td>43000.00</td>\n",
              "      <td>53000.00</td>\n",
              "      <td>GNU/Linux</td>\n",
              "      <td>Full-Time</td>\n",
              "      <td>Ninguno</td>\n",
              "      <td>3.00</td>\n",
              "      <td>1.00</td>\n",
              "      <td>Servicios / Consultoría de Software / Digital</td>\n",
              "      <td>NaN</td>\n",
              "      <td>Consultant</td>\n",
              "      <td>3.00</td>\n",
              "      <td>Mujer</td>\n",
              "      <td>26.00</td>\n",
              "      <td>[ninguno]</td>\n",
              "      <td>Desarrollo</td>\n",
              "    </tr>\n",
              "    <tr>\n",
              "      <th>1</th>\n",
              "      <td>html</td>\n",
              "      <td>HTML, Javascript, Python</td>\n",
              "      <td>63000.00</td>\n",
              "      <td>79000.00</td>\n",
              "      <td>GNU/Linux</td>\n",
              "      <td>Full-Time</td>\n",
              "      <td>Django, jQuery</td>\n",
              "      <td>5.00</td>\n",
              "      <td>2.00</td>\n",
              "      <td>Otras industrias</td>\n",
              "      <td>NaN</td>\n",
              "      <td>Developer</td>\n",
              "      <td>2.00</td>\n",
              "      <td>Hombre</td>\n",
              "      <td>29.00</td>\n",
              "      <td>[html, javascript, python]</td>\n",
              "      <td>Desarrollo</td>\n",
              "    </tr>\n",
              "    <tr>\n",
              "      <th>1</th>\n",
              "      <td>javascript</td>\n",
              "      <td>HTML, Javascript, Python</td>\n",
              "      <td>63000.00</td>\n",
              "      <td>79000.00</td>\n",
              "      <td>GNU/Linux</td>\n",
              "      <td>Full-Time</td>\n",
              "      <td>Django, jQuery</td>\n",
              "      <td>5.00</td>\n",
              "      <td>2.00</td>\n",
              "      <td>Otras industrias</td>\n",
              "      <td>NaN</td>\n",
              "      <td>Developer</td>\n",
              "      <td>2.00</td>\n",
              "      <td>Hombre</td>\n",
              "      <td>29.00</td>\n",
              "      <td>[html, javascript, python]</td>\n",
              "      <td>Desarrollo</td>\n",
              "    </tr>\n",
              "    <tr>\n",
              "      <th>1</th>\n",
              "      <td>python</td>\n",
              "      <td>HTML, Javascript, Python</td>\n",
              "      <td>63000.00</td>\n",
              "      <td>79000.00</td>\n",
              "      <td>GNU/Linux</td>\n",
              "      <td>Full-Time</td>\n",
              "      <td>Django, jQuery</td>\n",
              "      <td>5.00</td>\n",
              "      <td>2.00</td>\n",
              "      <td>Otras industrias</td>\n",
              "      <td>NaN</td>\n",
              "      <td>Developer</td>\n",
              "      <td>2.00</td>\n",
              "      <td>Hombre</td>\n",
              "      <td>29.00</td>\n",
              "      <td>[html, javascript, python]</td>\n",
              "      <td>Desarrollo</td>\n",
              "    </tr>\n",
              "    <tr>\n",
              "      <th>2</th>\n",
              "      <td>ninguno</td>\n",
              "      <td>Ninguno</td>\n",
              "      <td>127000.00</td>\n",
              "      <td>160000.00</td>\n",
              "      <td>Windows</td>\n",
              "      <td>Full-Time</td>\n",
              "      <td>Ninguno</td>\n",
              "      <td>2.00</td>\n",
              "      <td>3.00</td>\n",
              "      <td>Otras industrias</td>\n",
              "      <td>NaN</td>\n",
              "      <td>Infosec</td>\n",
              "      <td>0.00</td>\n",
              "      <td>Mujer</td>\n",
              "      <td>22.00</td>\n",
              "      <td>[ninguno]</td>\n",
              "      <td>NaN</td>\n",
              "    </tr>\n",
              "  </tbody>\n",
              "</table>\n",
              "</div>"
            ],
            "text/plain": [
              "  programming_language  ...    role_cat\n",
              "0              ninguno  ...  Desarrollo\n",
              "1                 html  ...  Desarrollo\n",
              "1           javascript  ...  Desarrollo\n",
              "1               python  ...  Desarrollo\n",
              "2              ninguno  ...         NaN\n",
              "\n",
              "[5 rows x 17 columns]"
            ]
          },
          "metadata": {
            "tags": []
          },
          "execution_count": 58
        }
      ]
    },
    {
      "cell_type": "code",
      "metadata": {
        "id": "si2Th9SDWJly",
        "colab": {
          "base_uri": "https://localhost:8080/"
        },
        "outputId": "f3a84e04-dad7-40d1-f2a5-9d5f0f365d48"
      },
      "source": [
        "# Cantidad de lenguajes a analizar\n",
        "len(filtered_df_lang['programming_language'].unique())"
      ],
      "execution_count": 59,
      "outputs": [
        {
          "output_type": "execute_result",
          "data": {
            "text/plain": [
              "34"
            ]
          },
          "metadata": {
            "tags": []
          },
          "execution_count": 59
        }
      ]
    },
    {
      "cell_type": "code",
      "metadata": {
        "id": "eJU2QPwpbOQ7",
        "colab": {
          "base_uri": "https://localhost:8080/"
        },
        "outputId": "430bf54a-293d-478d-d729-f1429128f414"
      },
      "source": [
        "filtered_df_lang['programming_language'].unique()"
      ],
      "execution_count": 60,
      "outputs": [
        {
          "output_type": "execute_result",
          "data": {
            "text/plain": [
              "array(['ninguno', 'html', 'javascript', 'python', 'bash/shell', 'c',\n",
              "       'css', 'java', 'php', 'sql', 'typescript', 'assembler', 'c#', 'r',\n",
              "       '.net', 'scala', 'c++', 'objective-c', 'abap', 'go', 'perl', 'vba',\n",
              "       'swift', 'kotlin', 'powershell', 'delphi', 'matlab', 'ruby',\n",
              "       'apex', 'groovy', 'dart', 'cobol', 'actionscript', 'smalltalk'],\n",
              "      dtype=object)"
            ]
          },
          "metadata": {
            "tags": []
          },
          "execution_count": 60
        }
      ]
    },
    {
      "cell_type": "code",
      "metadata": {
        "id": "eCu3NucDlr6Q"
      },
      "source": [
        "# Con conocimiento de dominio asociamos los lenguajes de programación\n",
        "# con el entorno para el cual se desarrolla. Aquellos sin asociación \n",
        "# corresponden a multiplataforma.\n",
        "is_lang_for_apple = {\n",
        "  'html': 'no Apple', \n",
        "  'javascript': 'no Apple', \n",
        "  'python': 'no Apple', \n",
        "  'bash/shell': 'no Apple', \n",
        "  'c': 'no Apple',\n",
        "  'css': 'no Apple', \n",
        "  'java': 'no Apple', \n",
        "  'php': 'no Apple', \n",
        "  'sql': 'no Apple', \n",
        "  'typescript': 'no Apple', \n",
        "  'assembler': 'no Apple', \n",
        "  'c#': 'no Apple', \n",
        "  'r': 'no Apple',\n",
        "  '.net': 'no Apple', \n",
        "  'delphi': 'no Apple', \n",
        "  'vba': 'no Apple', \n",
        "  'scala': 'no Apple', \n",
        "  'c++': 'no Apple', \n",
        "  'objective-c': 'Apple', \n",
        "  'abap': 'no Apple',\n",
        "  'go': 'no Apple', \n",
        "  'perl': 'no Apple', \n",
        "  'ruby': 'no Apple', \n",
        "  'elixir': 'no Apple', \n",
        "  'groovy': 'no Apple', \n",
        "  'swift': 'Apple', \n",
        "  'kotlin': 'no Apple',\n",
        "  'powershell': 'no Apple', \n",
        "  'matlab': 'no Apple', \n",
        "  'apex': 'no Apple', \n",
        "  'no': 'no Apple', \n",
        "  'genexus': 'no Apple', \n",
        "  'pl/sql': 'no Apple', \n",
        "  'dart': 'no Apple',\n",
        "  'rust': 'no Apple', \n",
        "  'cobol': 'no Apple', \n",
        "  'actionscript': 'no Apple', \n",
        "  'smalltalk': 'no Apple'\n",
        "}\n",
        "plat_df = pd.DataFrame.from_dict(is_lang_for_apple, orient='index').reset_index()\n",
        "plat_df.columns = ['programming_language', 'is_lang_for_apple']"
      ],
      "execution_count": 61,
      "outputs": []
    },
    {
      "cell_type": "code",
      "metadata": {
        "id": "8VXN9rIXyZHH",
        "colab": {
          "base_uri": "https://localhost:8080/",
          "height": 330
        },
        "outputId": "20cf1b01-ab9e-4daa-fcb7-7f3154074593"
      },
      "source": [
        "df_by_platform = pd.merge(filtered_df_lang, plat_df, on=['programming_language'])\n",
        "df_by_platform[:5]"
      ],
      "execution_count": 62,
      "outputs": [
        {
          "output_type": "execute_result",
          "data": {
            "text/html": [
              "<div>\n",
              "<style scoped>\n",
              "    .dataframe tbody tr th:only-of-type {\n",
              "        vertical-align: middle;\n",
              "    }\n",
              "\n",
              "    .dataframe tbody tr th {\n",
              "        vertical-align: top;\n",
              "    }\n",
              "\n",
              "    .dataframe thead th {\n",
              "        text-align: right;\n",
              "    }\n",
              "</style>\n",
              "<table border=\"1\" class=\"dataframe\">\n",
              "  <thead>\n",
              "    <tr style=\"text-align: right;\">\n",
              "      <th></th>\n",
              "      <th>programming_language</th>\n",
              "      <th>tools_programming_languages</th>\n",
              "      <th>salary_monthly_NETO</th>\n",
              "      <th>salary_monthly_BRUTO</th>\n",
              "      <th>tools_work_pc_os</th>\n",
              "      <th>work_contract_type</th>\n",
              "      <th>tools_frameworks</th>\n",
              "      <th>profile_years_experience</th>\n",
              "      <th>salary_satisfaction</th>\n",
              "      <th>company_main_activity</th>\n",
              "      <th>salary_in_usd</th>\n",
              "      <th>work_role</th>\n",
              "      <th>work_years_in_company</th>\n",
              "      <th>profile_gender</th>\n",
              "      <th>profile_age</th>\n",
              "      <th>cured_programming_languages</th>\n",
              "      <th>role_cat</th>\n",
              "      <th>is_lang_for_apple</th>\n",
              "    </tr>\n",
              "  </thead>\n",
              "  <tbody>\n",
              "    <tr>\n",
              "      <th>0</th>\n",
              "      <td>html</td>\n",
              "      <td>HTML, Javascript, Python</td>\n",
              "      <td>63000.00</td>\n",
              "      <td>79000.00</td>\n",
              "      <td>GNU/Linux</td>\n",
              "      <td>Full-Time</td>\n",
              "      <td>Django, jQuery</td>\n",
              "      <td>5.00</td>\n",
              "      <td>2.00</td>\n",
              "      <td>Otras industrias</td>\n",
              "      <td>NaN</td>\n",
              "      <td>Developer</td>\n",
              "      <td>2.00</td>\n",
              "      <td>Hombre</td>\n",
              "      <td>29.00</td>\n",
              "      <td>[html, javascript, python]</td>\n",
              "      <td>Desarrollo</td>\n",
              "      <td>no Apple</td>\n",
              "    </tr>\n",
              "    <tr>\n",
              "      <th>1</th>\n",
              "      <td>html</td>\n",
              "      <td>Bash/Shell, C, CSS, HTML, Java, Javascript, PH...</td>\n",
              "      <td>102000.00</td>\n",
              "      <td>130000.00</td>\n",
              "      <td>GNU/Linux</td>\n",
              "      <td>Full-Time</td>\n",
              "      <td>jQuery, WordPress</td>\n",
              "      <td>15.00</td>\n",
              "      <td>3.00</td>\n",
              "      <td>Otras industrias</td>\n",
              "      <td>NaN</td>\n",
              "      <td>SysAdmin / DevOps / SRE</td>\n",
              "      <td>15.00</td>\n",
              "      <td>Hombre</td>\n",
              "      <td>39.00</td>\n",
              "      <td>[bash/shell, c, css, html, java, javascript, p...</td>\n",
              "      <td>Desarrollo</td>\n",
              "      <td>no Apple</td>\n",
              "    </tr>\n",
              "    <tr>\n",
              "      <th>2</th>\n",
              "      <td>html</td>\n",
              "      <td>CSS, HTML, Javascript, SQL, TypeScript</td>\n",
              "      <td>106000.00</td>\n",
              "      <td>140000.00</td>\n",
              "      <td>macOS</td>\n",
              "      <td>Full-Time</td>\n",
              "      <td>Angular, Node.js</td>\n",
              "      <td>9.00</td>\n",
              "      <td>1.00</td>\n",
              "      <td>Servicios / Consultoría de Software / Digital</td>\n",
              "      <td>NaN</td>\n",
              "      <td>Developer</td>\n",
              "      <td>6.00</td>\n",
              "      <td>Hombre</td>\n",
              "      <td>32.00</td>\n",
              "      <td>[css, html, javascript, sql, typescript]</td>\n",
              "      <td>Desarrollo</td>\n",
              "      <td>no Apple</td>\n",
              "    </tr>\n",
              "    <tr>\n",
              "      <th>3</th>\n",
              "      <td>html</td>\n",
              "      <td>CSS, HTML, Javascript, PHP, SQL</td>\n",
              "      <td>63000.00</td>\n",
              "      <td>70000.00</td>\n",
              "      <td>Windows</td>\n",
              "      <td>Full-Time</td>\n",
              "      <td>Angular, Bootstrap, Flutter, jQuery, Laravel, ...</td>\n",
              "      <td>10.00</td>\n",
              "      <td>2.00</td>\n",
              "      <td>Otras industrias</td>\n",
              "      <td>NaN</td>\n",
              "      <td>Developer</td>\n",
              "      <td>1.00</td>\n",
              "      <td>Hombre</td>\n",
              "      <td>34.00</td>\n",
              "      <td>[css, html, javascript, php, sql]</td>\n",
              "      <td>Desarrollo</td>\n",
              "      <td>no Apple</td>\n",
              "    </tr>\n",
              "    <tr>\n",
              "      <th>4</th>\n",
              "      <td>html</td>\n",
              "      <td>HTML, Javascript, PHP, SQL</td>\n",
              "      <td>92000.00</td>\n",
              "      <td>102000.00</td>\n",
              "      <td>Windows</td>\n",
              "      <td>Full-Time</td>\n",
              "      <td>WordPress</td>\n",
              "      <td>20.00</td>\n",
              "      <td>3.00</td>\n",
              "      <td>Producto basado en Software</td>\n",
              "      <td>NaN</td>\n",
              "      <td>Manager / Director</td>\n",
              "      <td>21.00</td>\n",
              "      <td>Hombre</td>\n",
              "      <td>45.00</td>\n",
              "      <td>[html, javascript, php, sql]</td>\n",
              "      <td>Liderazgo</td>\n",
              "      <td>no Apple</td>\n",
              "    </tr>\n",
              "  </tbody>\n",
              "</table>\n",
              "</div>"
            ],
            "text/plain": [
              "  programming_language  ... is_lang_for_apple\n",
              "0                 html  ...          no Apple\n",
              "1                 html  ...          no Apple\n",
              "2                 html  ...          no Apple\n",
              "3                 html  ...          no Apple\n",
              "4                 html  ...          no Apple\n",
              "\n",
              "[5 rows x 18 columns]"
            ]
          },
          "metadata": {
            "tags": []
          },
          "execution_count": 62
        }
      ]
    },
    {
      "cell_type": "code",
      "metadata": {
        "colab": {
          "base_uri": "https://localhost:8080/"
        },
        "id": "iIuDEexKX6xM",
        "outputId": "3bb72dcd-8941-4355-f3a5-0829eb71ef4f"
      },
      "source": [
        "df_by_platform['is_lang_for_apple'].value_counts()"
      ],
      "execution_count": 63,
      "outputs": [
        {
          "output_type": "execute_result",
          "data": {
            "text/plain": [
              "no Apple    12322\n",
              "Apple         101\n",
              "Name: is_lang_for_apple, dtype: int64"
            ]
          },
          "metadata": {
            "tags": []
          },
          "execution_count": 63
        }
      ]
    },
    {
      "cell_type": "code",
      "metadata": {
        "id": "lgd5Vs-V0EzK",
        "colab": {
          "base_uri": "https://localhost:8080/",
          "height": 516
        },
        "outputId": "6d55e978-6a81-46f2-9842-5f3f4cf4cbea"
      },
      "source": [
        "fig = plt.figure(figsize=(10, 8))\n",
        "g = seaborn.boxenplot(\n",
        "    data=df_by_platform, \n",
        "    x='is_lang_for_apple', \n",
        "    y='salary_monthly_NETO',\n",
        "    color='salmon'\n",
        ")\n",
        "plt.ticklabel_format(style='plain', axis='y')\n",
        "plt.xlabel(\"Lenguaje\")\n",
        "plt.ylabel(\"Salario mensual NETO ($)\")\n",
        "plt.title(\"Lenguaje desarrollado exclusivamente para Apple\")\n",
        "seaborn.despine()"
      ],
      "execution_count": 64,
      "outputs": [
        {
          "output_type": "display_data",
          "data": {
            "image/png": "[encoded data removed]",
            "text/plain": [
              "<Figure size 720x576 with 1 Axes>"
            ]
          },
          "metadata": {
            "tags": [],
            "needs_background": "light"
          }
        }
      ]
    },
    {
      "cell_type": "markdown",
      "metadata": {
        "id": "X5T2ry_7X8n-"
      },
      "source": [
        "##### Conclusión\n",
        "Podemos ver que:\n",
        "- La mediana de salarios de aquellas personas que programan en lenguajes específicos para Apple es mayor a la mediana del resto de aquellos que programan en el resto de los lenguajes.\n",
        "\n",
        "Entonces, respondiendo a la pregunta:  \n",
        "\n",
        "> Los lenguajes asociados a los mejores salarios son los desarrollados para Apple, es decir: **Swift y Objective-c**."
      ]
    },
    {
      "cell_type": "markdown",
      "metadata": {
        "id": "KatD6VEEcPT5"
      },
      "source": [
        "#### Análisis 3: Lenguajes relacionados al desarrollo web\n",
        "\n"
      ]
    },
    {
      "cell_type": "code",
      "metadata": {
        "id": "RIeo953yca02",
        "outputId": "c20dc3f9-d967-4b8b-9027-096a9acaa298",
        "colab": {
          "base_uri": "https://localhost:8080/"
        }
      },
      "source": [
        "interesting_languages = [\"python\", \"javascript\", \"sql\", \"html\",\"java\", \"css\", \"bash/shell\", \"php\", \".net\", \"typescript\", \"c#\"]\n",
        "filtered_df_lang = df_lang[df_lang.programming_language.isin(interesting_languages)]\n",
        "filter_of_null_values= (filtered_df_lang.salary_monthly_NETO.isnull() == False)\n",
        "filter_quantile= (filtered_df_lang.salary_monthly_NETO > filtered_df_lang.salary_monthly_NETO.quantile(0.04)) & (filtered_df_lang.salary_monthly_NETO < filtered_df_lang.salary_monthly_NETO.quantile(0.96))\n",
        "df_filtered = filtered_df_lang[ (filter_of_null_values) & (filter_quantile) ]\n",
        "\n",
        "len(filtered_df_lang), len(df_filtered)"
      ],
      "execution_count": 65,
      "outputs": [
        {
          "output_type": "execute_result",
          "data": {
            "text/plain": [
              "(10727, 9803)"
            ]
          },
          "metadata": {
            "tags": []
          },
          "execution_count": 65
        }
      ]
    },
    {
      "cell_type": "code",
      "metadata": {
        "id": "EFhrn7ZEcp7n",
        "outputId": "b140ba44-4761-4205-a552-d3bd074d5ea0",
        "colab": {
          "base_uri": "https://localhost:8080/"
        }
      },
      "source": [
        "filtered_df_lang['salary_monthly_NETO'].describe().round()"
      ],
      "execution_count": 66,
      "outputs": [
        {
          "output_type": "execute_result",
          "data": {
            "text/plain": [
              "count    10727.00\n",
              "mean     85695.00\n",
              "std      39979.00\n",
              "min      18000.00\n",
              "25%      57000.00\n",
              "50%      80000.00\n",
              "75%     105000.00\n",
              "max     290000.00\n",
              "Name: salary_monthly_NETO, dtype: float64"
            ]
          },
          "metadata": {
            "tags": []
          },
          "execution_count": 66
        }
      ]
    },
    {
      "cell_type": "code",
      "metadata": {
        "id": "UbNzyZeuctAt",
        "outputId": "9cd89f93-286f-4d90-d2ba-742ae31bb769",
        "colab": {
          "base_uri": "https://localhost:8080/"
        }
      },
      "source": [
        "df_filtered['salary_monthly_NETO'].describe().round()"
      ],
      "execution_count": 67,
      "outputs": [
        {
          "output_type": "execute_result",
          "data": {
            "text/plain": [
              "count     9803.00\n",
              "mean     82632.00\n",
              "std      29934.00\n",
              "min      36200.00\n",
              "25%      59000.00\n",
              "50%      80000.00\n",
              "75%     101000.00\n",
              "max     168300.00\n",
              "Name: salary_monthly_NETO, dtype: float64"
            ]
          },
          "metadata": {
            "tags": []
          },
          "execution_count": 67
        }
      ]
    },
    {
      "cell_type": "code",
      "metadata": {
        "id": "0k4ViJucc2_n",
        "outputId": "d56a79c7-9f74-4c3f-e3c4-9b7519305472",
        "colab": {
          "base_uri": "https://localhost:8080/",
          "height": 1000
        }
      },
      "source": [
        "fig, axes = plt.subplots(figsize=(12, 18), nrows=3)\n",
        "seaborn.histplot(x=df_filtered['salary_monthly_NETO'], ax=axes[0])\n",
        "seaborn.boxplot(x=df_filtered['salary_monthly_NETO'], ax=axes[1])\n",
        "seaborn.boxenplot(x=df_filtered['salary_monthly_NETO'], ax=axes[2])"
      ],
      "execution_count": 68,
      "outputs": [
        {
          "output_type": "execute_result",
          "data": {
            "text/plain": [
              "<matplotlib.axes._subplots.AxesSubplot at 0x7f838eecec50>"
            ]
          },
          "metadata": {
            "tags": []
          },
          "execution_count": 68
        },
        {
          "output_type": "display_data",
          "data": {
            "image/png": "[encoded data removed]",
            "text/plain": [
              "<Figure size 864x1296 with 3 Axes>"
            ]
          },
          "metadata": {
            "tags": [],
            "needs_background": "light"
          }
        }
      ]
    },
    {
      "cell_type": "code",
      "metadata": {
        "id": "5w-WKZPnc6vN",
        "outputId": "45822934-cfe1-4b07-e5be-f86310b879ee",
        "colab": {
          "base_uri": "https://localhost:8080/",
          "height": 391
        }
      },
      "source": [
        "plt.figure(figsize=(12, 6))\n",
        "seaborn.boxplot(data=df_filtered, x='salary_monthly_NETO', y='programming_language',\n",
        "                color='orangered')\n",
        "plt.ticklabel_format(style='plain', axis='x')"
      ],
      "execution_count": 69,
      "outputs": [
        {
          "output_type": "display_data",
          "data": {
            "image/png": "[encoded data removed]",
            "text/plain": [
              "<Figure size 864x432 with 1 Axes>"
            ]
          },
          "metadata": {
            "tags": [],
            "needs_background": "light"
          }
        }
      ]
    },
    {
      "cell_type": "markdown",
      "metadata": {
        "id": "Cc8mqCkkc8Od"
      },
      "source": [
        "Por conocimiento de campo, html y css suelen estar juntos - es muy raro tocar solo html o solo css, y la distribucion de ambas es muy parecida."
      ]
    },
    {
      "cell_type": "code",
      "metadata": {
        "id": "9y3B_JM6dCvD",
        "outputId": "6008f4a3-fdc3-4ae2-8b5c-13be40489f69",
        "colab": {
          "base_uri": "https://localhost:8080/"
        }
      },
      "source": [
        "html_css_filter_list=[\"html\", \"css\", \"HTML\", \"CSS\", \"Html\", \"Css\"]\n",
        "cured_test=[\"html\", \"javascript\", \"python\", \"php\"]\n",
        "# funcion que, dado un array original y un array de filtrado, devuelve el array nuevo, \n",
        "# eliminando los elementos que estan incluidos en el array de filtrado\n",
        "#para cured_programming_languages --> array\n",
        "\n",
        "def cured_lang_html_css( array_lang, list_filters):\n",
        "  if any (x in array_lang for x in list_filters):\n",
        "    filtered_array = [x for x in array_lang if x not in list_filters]\n",
        "    filtered_array.append(\"html/css\")\n",
        "    array_lang=filtered_array\n",
        "  return array_lang\n",
        "\n",
        "cured_lang_html_css(cured_test, html_css_filter_list)"
      ],
      "execution_count": 70,
      "outputs": [
        {
          "output_type": "execute_result",
          "data": {
            "text/plain": [
              "['javascript', 'python', 'php', 'html/css']"
            ]
          },
          "metadata": {
            "tags": []
          },
          "execution_count": 70
        }
      ]
    },
    {
      "cell_type": "code",
      "metadata": {
        "id": "sgXGOoNRdFKu"
      },
      "source": [
        "# funcion que, dado un string y un array, devuelve el string filtrado, \n",
        "# eliminando los elementos que estan incluidos en el array\n",
        "\n",
        "# para tools_programming_languages --> string\n",
        "def filtered_lang_html_or_css(string_of_lang, list_filters):\n",
        "  if any (x in string_of_lang for x in list_filters):\n",
        "    array_of_lang_from_string = [x.strip() for x in string_of_lang.split(\",\")]\n",
        "    filtered_array_from_array_of_lang = [x for x in array_of_lang_from_string if x not in list_filters]\n",
        "    string_of_lang=' '.join(filtered_array_from_array_of_lang)+\" HTML/CSS\"\n",
        "\n",
        "  return string_of_lang\n",
        "\n",
        "# test filtered_lang_html_or_css(example_lang_test, html_css_filter_list)"
      ],
      "execution_count": 71,
      "outputs": []
    },
    {
      "cell_type": "code",
      "metadata": {
        "id": "K97twFhMdJqn"
      },
      "source": [
        "#filtramos valores nullos and so on\n",
        "df_filter_of_null_values= (df.salary_monthly_NETO.isnull() == False)\n",
        "df_filter_quantile= (df.salary_monthly_NETO > df.salary_monthly_NETO.quantile(0.04)) & (df.salary_monthly_NETO < df.salary_monthly_NETO.quantile(0.96))\n",
        "df= df[ (df_filter_of_null_values) & (df_filter_quantile) ]"
      ],
      "execution_count": 72,
      "outputs": []
    },
    {
      "cell_type": "markdown",
      "metadata": {
        "id": "Ovcy4AT9dO6m"
      },
      "source": [
        "TODO: Completar con lo de Nati"
      ]
    },
    {
      "cell_type": "markdown",
      "metadata": {
        "id": "tWo8SmmC9FAk"
      },
      "source": [
        "# Ejercicio 2 - Densidades y varias varialbes\n",
        "\n",
        "Responder a la pregunta general: **¿Que herramientas (prácticas y teóricas) són útiles para explorar la base, descubrir patrones, asociaciones?**\n",
        "\n",
        "Para ello considere (igual al ejercicio Anterior):\n",
        "1. Seleccionar las columnas relevantes para analizar.\n",
        "2. Seleccionar las filas relevantes para analizar. Esto incluye la eliminación de valores extremos y erróneos, pero también puede enfocar el análisis en sub-poblaciones. "
      ]
    },
    {
      "cell_type": "markdown",
      "metadata": {
        "id": "FEMlli1Vn4g4"
      },
      "source": [
        "Lo que hemos hecho a lo largo de los diferentes ejercicios y entregables, como una primera manera de familiarizarse con el dataset e ir teniendo algo de información al respecto, es utilizar el método `.describe()`\n",
        "\n",
        "Este método nos da varios valores impotantes por columna: \n",
        "\n",
        "*   `count`: cantidad de datos\n",
        "*   `mean` : media de la columna\n",
        "*   `std`: varianza de la columna\n",
        "*   `min` y `max` : valores  mínimos y máximos\n",
        "*   valores de percentiles del `25%`, `50%` y `75%`\n"
      ]
    },
    {
      "cell_type": "code",
      "metadata": {
        "id": "WRd5j6X4VHgu"
      },
      "source": [
        "df_seg=pd.read_csv(url)"
      ],
      "execution_count": 77,
      "outputs": []
    },
    {
      "cell_type": "code",
      "metadata": {
        "id": "MoFIi2sirQe5",
        "outputId": "7c16f8b3-7755-4a97-e032-36f2370e550f",
        "colab": {
          "base_uri": "https://localhost:8080/",
          "height": 449
        }
      },
      "source": [
        "df_seg.describe(include= \"all\")"
      ],
      "execution_count": 78,
      "outputs": [
        {
          "output_type": "execute_result",
          "data": {
            "text/html": [
              "<div>\n",
              "<style scoped>\n",
              "    .dataframe tbody tr th:only-of-type {\n",
              "        vertical-align: middle;\n",
              "    }\n",
              "\n",
              "    .dataframe tbody tr th {\n",
              "        vertical-align: top;\n",
              "    }\n",
              "\n",
              "    .dataframe thead th {\n",
              "        text-align: right;\n",
              "    }\n",
              "</style>\n",
              "<table border=\"1\" class=\"dataframe\">\n",
              "  <thead>\n",
              "    <tr style=\"text-align: right;\">\n",
              "      <th></th>\n",
              "      <th>profile_gender</th>\n",
              "      <th>profile_age</th>\n",
              "      <th>work_country</th>\n",
              "      <th>work_province</th>\n",
              "      <th>profile_years_experience</th>\n",
              "      <th>work_years_in_company</th>\n",
              "      <th>work_years_in_current_position</th>\n",
              "      <th>work_people_in_charge_of</th>\n",
              "      <th>profile_studies_level</th>\n",
              "      <th>profile_studies_level_state</th>\n",
              "      <th>profile_career</th>\n",
              "      <th>profile_university</th>\n",
              "      <th>profile_specialization_courses</th>\n",
              "      <th>profile_open_source_contributions</th>\n",
              "      <th>profile_programming_as_hobby</th>\n",
              "      <th>work_role</th>\n",
              "      <th>tools_platform</th>\n",
              "      <th>tools_programming_languages</th>\n",
              "      <th>tools_frameworks</th>\n",
              "      <th>tools_data_bases</th>\n",
              "      <th>tools_qa_testing</th>\n",
              "      <th>tools_IDEs</th>\n",
              "      <th>tools_work_pc_os</th>\n",
              "      <th>tools_cellphone_os</th>\n",
              "      <th>work_on_call_duty</th>\n",
              "      <th>salary_on_call_duty_charge</th>\n",
              "      <th>work_on_call_duty_charge_type</th>\n",
              "      <th>work_contract_type</th>\n",
              "      <th>salary_monthly_BRUTO</th>\n",
              "      <th>salary_monthly_NETO</th>\n",
              "      <th>salary_in_usd</th>\n",
              "      <th>salary_satisfaction</th>\n",
              "      <th>salary_comparison_last_semester</th>\n",
              "      <th>salary_has_bonus</th>\n",
              "      <th>salary_bonus_tied_to</th>\n",
              "      <th>salary_inflation_adjustment_2020</th>\n",
              "      <th>salary_percentage_inflation_adjustment_2020</th>\n",
              "      <th>salary_month_last_inflation_adjustment</th>\n",
              "      <th>work_has_violence_situations</th>\n",
              "      <th>profile_sexual_orientation</th>\n",
              "      <th>profile_has_disabilities</th>\n",
              "      <th>profile_has_disabilities_hiring_difficulties</th>\n",
              "      <th>company_employee_number</th>\n",
              "      <th>company_main_activity</th>\n",
              "      <th>company_recommended</th>\n",
              "      <th>company_diversity_policies</th>\n",
              "      <th>company_extra_benefits</th>\n",
              "      <th>company_best_companies_city</th>\n",
              "    </tr>\n",
              "  </thead>\n",
              "  <tbody>\n",
              "    <tr>\n",
              "      <th>count</th>\n",
              "      <td>6095</td>\n",
              "      <td>6095.00</td>\n",
              "      <td>6095</td>\n",
              "      <td>6095</td>\n",
              "      <td>6095.00</td>\n",
              "      <td>6095.00</td>\n",
              "      <td>6095.00</td>\n",
              "      <td>6095.00</td>\n",
              "      <td>6095</td>\n",
              "      <td>6095</td>\n",
              "      <td>5796</td>\n",
              "      <td>5561</td>\n",
              "      <td>6095</td>\n",
              "      <td>6095</td>\n",
              "      <td>6095</td>\n",
              "      <td>6095</td>\n",
              "      <td>6093</td>\n",
              "      <td>6094</td>\n",
              "      <td>6094</td>\n",
              "      <td>6093</td>\n",
              "      <td>6089</td>\n",
              "      <td>6094</td>\n",
              "      <td>6095</td>\n",
              "      <td>6095</td>\n",
              "      <td>6095</td>\n",
              "      <td>6095.00</td>\n",
              "      <td>6095</td>\n",
              "      <td>6095</td>\n",
              "      <td>6095.00</td>\n",
              "      <td>5883.00</td>\n",
              "      <td>676</td>\n",
              "      <td>6095.00</td>\n",
              "      <td>6095.00</td>\n",
              "      <td>6095</td>\n",
              "      <td>6095</td>\n",
              "      <td>6095</td>\n",
              "      <td>6095.00</td>\n",
              "      <td>6095.00</td>\n",
              "      <td>5954</td>\n",
              "      <td>5912</td>\n",
              "      <td>600</td>\n",
              "      <td>2207</td>\n",
              "      <td>6095</td>\n",
              "      <td>6095</td>\n",
              "      <td>6095.00</td>\n",
              "      <td>6095.00</td>\n",
              "      <td>6094</td>\n",
              "      <td>1692</td>\n",
              "    </tr>\n",
              "    <tr>\n",
              "      <th>unique</th>\n",
              "      <td>3</td>\n",
              "      <td>nan</td>\n",
              "      <td>1</td>\n",
              "      <td>25</td>\n",
              "      <td>nan</td>\n",
              "      <td>nan</td>\n",
              "      <td>nan</td>\n",
              "      <td>nan</td>\n",
              "      <td>7</td>\n",
              "      <td>3</td>\n",
              "      <td>495</td>\n",
              "      <td>799</td>\n",
              "      <td>7</td>\n",
              "      <td>2</td>\n",
              "      <td>2</td>\n",
              "      <td>334</td>\n",
              "      <td>1183</td>\n",
              "      <td>1637</td>\n",
              "      <td>1371</td>\n",
              "      <td>1271</td>\n",
              "      <td>717</td>\n",
              "      <td>1097</td>\n",
              "      <td>4</td>\n",
              "      <td>4</td>\n",
              "      <td>3</td>\n",
              "      <td>nan</td>\n",
              "      <td>3</td>\n",
              "      <td>5</td>\n",
              "      <td>nan</td>\n",
              "      <td>nan</td>\n",
              "      <td>1</td>\n",
              "      <td>nan</td>\n",
              "      <td>nan</td>\n",
              "      <td>5</td>\n",
              "      <td>192</td>\n",
              "      <td>5</td>\n",
              "      <td>nan</td>\n",
              "      <td>nan</td>\n",
              "      <td>3</td>\n",
              "      <td>42</td>\n",
              "      <td>89</td>\n",
              "      <td>2</td>\n",
              "      <td>10</td>\n",
              "      <td>3</td>\n",
              "      <td>nan</td>\n",
              "      <td>nan</td>\n",
              "      <td>1916</td>\n",
              "      <td>1293</td>\n",
              "    </tr>\n",
              "    <tr>\n",
              "      <th>top</th>\n",
              "      <td>Hombre</td>\n",
              "      <td>nan</td>\n",
              "      <td>Argentina</td>\n",
              "      <td>Ciudad Autónoma de Buenos Aires</td>\n",
              "      <td>nan</td>\n",
              "      <td>nan</td>\n",
              "      <td>nan</td>\n",
              "      <td>nan</td>\n",
              "      <td>Universitario</td>\n",
              "      <td>Completado</td>\n",
              "      <td>Ingeniería en Sistemas de Información</td>\n",
              "      <td>UTN - Universidad Tecnológica Nacional</td>\n",
              "      <td>Sí, de forma particular</td>\n",
              "      <td>No</td>\n",
              "      <td>Sí</td>\n",
              "      <td>Developer</td>\n",
              "      <td>Ninguna de las anteriores</td>\n",
              "      <td>Ninguno de los anteriores</td>\n",
              "      <td>Ninguno de los anteriores</td>\n",
              "      <td>Ninguna de las anteriores</td>\n",
              "      <td>Ninguna de las anteriores</td>\n",
              "      <td>Ninguno de los anteriores</td>\n",
              "      <td>Windows</td>\n",
              "      <td>Android</td>\n",
              "      <td>No</td>\n",
              "      <td>nan</td>\n",
              "      <td>Porcentaje de mi sueldo</td>\n",
              "      <td>Full-Time</td>\n",
              "      <td>nan</td>\n",
              "      <td>nan</td>\n",
              "      <td>Mi sueldo está dolarizado</td>\n",
              "      <td>nan</td>\n",
              "      <td>nan</td>\n",
              "      <td>No</td>\n",
              "      <td>No recibo bono</td>\n",
              "      <td>No</td>\n",
              "      <td>nan</td>\n",
              "      <td>nan</td>\n",
              "      <td>Jamás</td>\n",
              "      <td>Heterosexual</td>\n",
              "      <td>Visual</td>\n",
              "      <td>No</td>\n",
              "      <td>11-50</td>\n",
              "      <td>Producto basado en Software</td>\n",
              "      <td>nan</td>\n",
              "      <td>nan</td>\n",
              "      <td>Ninguna de las anteriores</td>\n",
              "      <td>Mercado Libre</td>\n",
              "    </tr>\n",
              "    <tr>\n",
              "      <th>freq</th>\n",
              "      <td>5122</td>\n",
              "      <td>nan</td>\n",
              "      <td>6095</td>\n",
              "      <td>3764</td>\n",
              "      <td>nan</td>\n",
              "      <td>nan</td>\n",
              "      <td>nan</td>\n",
              "      <td>nan</td>\n",
              "      <td>4133</td>\n",
              "      <td>2907</td>\n",
              "      <td>1194</td>\n",
              "      <td>1378</td>\n",
              "      <td>2650</td>\n",
              "      <td>5211</td>\n",
              "      <td>3268</td>\n",
              "      <td>2402</td>\n",
              "      <td>744</td>\n",
              "      <td>661</td>\n",
              "      <td>1379</td>\n",
              "      <td>871</td>\n",
              "      <td>2173</td>\n",
              "      <td>903</td>\n",
              "      <td>3442</td>\n",
              "      <td>4868</td>\n",
              "      <td>4640</td>\n",
              "      <td>nan</td>\n",
              "      <td>3183</td>\n",
              "      <td>5166</td>\n",
              "      <td>nan</td>\n",
              "      <td>nan</td>\n",
              "      <td>676</td>\n",
              "      <td>nan</td>\n",
              "      <td>nan</td>\n",
              "      <td>3782</td>\n",
              "      <td>3673</td>\n",
              "      <td>2671</td>\n",
              "      <td>nan</td>\n",
              "      <td>nan</td>\n",
              "      <td>4096</td>\n",
              "      <td>4905</td>\n",
              "      <td>319</td>\n",
              "      <td>2064</td>\n",
              "      <td>1065</td>\n",
              "      <td>2200</td>\n",
              "      <td>nan</td>\n",
              "      <td>nan</td>\n",
              "      <td>828</td>\n",
              "      <td>72</td>\n",
              "    </tr>\n",
              "    <tr>\n",
              "      <th>mean</th>\n",
              "      <td>NaN</td>\n",
              "      <td>41.18</td>\n",
              "      <td>NaN</td>\n",
              "      <td>NaN</td>\n",
              "      <td>8.93</td>\n",
              "      <td>3.31</td>\n",
              "      <td>2.89</td>\n",
              "      <td>2.21</td>\n",
              "      <td>NaN</td>\n",
              "      <td>NaN</td>\n",
              "      <td>NaN</td>\n",
              "      <td>NaN</td>\n",
              "      <td>NaN</td>\n",
              "      <td>NaN</td>\n",
              "      <td>NaN</td>\n",
              "      <td>NaN</td>\n",
              "      <td>NaN</td>\n",
              "      <td>NaN</td>\n",
              "      <td>NaN</td>\n",
              "      <td>NaN</td>\n",
              "      <td>NaN</td>\n",
              "      <td>NaN</td>\n",
              "      <td>NaN</td>\n",
              "      <td>NaN</td>\n",
              "      <td>NaN</td>\n",
              "      <td>664.04</td>\n",
              "      <td>NaN</td>\n",
              "      <td>NaN</td>\n",
              "      <td>124058.55</td>\n",
              "      <td>94907.95</td>\n",
              "      <td>NaN</td>\n",
              "      <td>2.62</td>\n",
              "      <td>2.36</td>\n",
              "      <td>NaN</td>\n",
              "      <td>NaN</td>\n",
              "      <td>NaN</td>\n",
              "      <td>10.44</td>\n",
              "      <td>2.79</td>\n",
              "      <td>NaN</td>\n",
              "      <td>NaN</td>\n",
              "      <td>NaN</td>\n",
              "      <td>NaN</td>\n",
              "      <td>NaN</td>\n",
              "      <td>NaN</td>\n",
              "      <td>7.34</td>\n",
              "      <td>7.62</td>\n",
              "      <td>NaN</td>\n",
              "      <td>NaN</td>\n",
              "    </tr>\n",
              "    <tr>\n",
              "      <th>std</th>\n",
              "      <td>NaN</td>\n",
              "      <td>665.72</td>\n",
              "      <td>NaN</td>\n",
              "      <td>NaN</td>\n",
              "      <td>7.16</td>\n",
              "      <td>4.37</td>\n",
              "      <td>3.42</td>\n",
              "      <td>32.98</td>\n",
              "      <td>NaN</td>\n",
              "      <td>NaN</td>\n",
              "      <td>NaN</td>\n",
              "      <td>NaN</td>\n",
              "      <td>NaN</td>\n",
              "      <td>NaN</td>\n",
              "      <td>NaN</td>\n",
              "      <td>NaN</td>\n",
              "      <td>NaN</td>\n",
              "      <td>NaN</td>\n",
              "      <td>NaN</td>\n",
              "      <td>NaN</td>\n",
              "      <td>NaN</td>\n",
              "      <td>NaN</td>\n",
              "      <td>NaN</td>\n",
              "      <td>NaN</td>\n",
              "      <td>NaN</td>\n",
              "      <td>10540.52</td>\n",
              "      <td>NaN</td>\n",
              "      <td>NaN</td>\n",
              "      <td>122912.35</td>\n",
              "      <td>96862.26</td>\n",
              "      <td>NaN</td>\n",
              "      <td>0.86</td>\n",
              "      <td>0.95</td>\n",
              "      <td>NaN</td>\n",
              "      <td>NaN</td>\n",
              "      <td>NaN</td>\n",
              "      <td>12.86</td>\n",
              "      <td>2.84</td>\n",
              "      <td>NaN</td>\n",
              "      <td>NaN</td>\n",
              "      <td>NaN</td>\n",
              "      <td>NaN</td>\n",
              "      <td>NaN</td>\n",
              "      <td>NaN</td>\n",
              "      <td>2.02</td>\n",
              "      <td>2.32</td>\n",
              "      <td>NaN</td>\n",
              "      <td>NaN</td>\n",
              "    </tr>\n",
              "    <tr>\n",
              "      <th>min</th>\n",
              "      <td>NaN</td>\n",
              "      <td>18.00</td>\n",
              "      <td>NaN</td>\n",
              "      <td>NaN</td>\n",
              "      <td>0.00</td>\n",
              "      <td>0.00</td>\n",
              "      <td>0.00</td>\n",
              "      <td>0.00</td>\n",
              "      <td>NaN</td>\n",
              "      <td>NaN</td>\n",
              "      <td>NaN</td>\n",
              "      <td>NaN</td>\n",
              "      <td>NaN</td>\n",
              "      <td>NaN</td>\n",
              "      <td>NaN</td>\n",
              "      <td>NaN</td>\n",
              "      <td>NaN</td>\n",
              "      <td>NaN</td>\n",
              "      <td>NaN</td>\n",
              "      <td>NaN</td>\n",
              "      <td>NaN</td>\n",
              "      <td>NaN</td>\n",
              "      <td>NaN</td>\n",
              "      <td>NaN</td>\n",
              "      <td>NaN</td>\n",
              "      <td>0.00</td>\n",
              "      <td>NaN</td>\n",
              "      <td>NaN</td>\n",
              "      <td>1.00</td>\n",
              "      <td>1.00</td>\n",
              "      <td>NaN</td>\n",
              "      <td>1.00</td>\n",
              "      <td>1.00</td>\n",
              "      <td>NaN</td>\n",
              "      <td>NaN</td>\n",
              "      <td>NaN</td>\n",
              "      <td>0.00</td>\n",
              "      <td>0.00</td>\n",
              "      <td>NaN</td>\n",
              "      <td>NaN</td>\n",
              "      <td>NaN</td>\n",
              "      <td>NaN</td>\n",
              "      <td>NaN</td>\n",
              "      <td>NaN</td>\n",
              "      <td>1.00</td>\n",
              "      <td>1.00</td>\n",
              "      <td>NaN</td>\n",
              "      <td>NaN</td>\n",
              "    </tr>\n",
              "    <tr>\n",
              "      <th>25%</th>\n",
              "      <td>NaN</td>\n",
              "      <td>27.00</td>\n",
              "      <td>NaN</td>\n",
              "      <td>NaN</td>\n",
              "      <td>3.00</td>\n",
              "      <td>0.00</td>\n",
              "      <td>1.00</td>\n",
              "      <td>0.00</td>\n",
              "      <td>NaN</td>\n",
              "      <td>NaN</td>\n",
              "      <td>NaN</td>\n",
              "      <td>NaN</td>\n",
              "      <td>NaN</td>\n",
              "      <td>NaN</td>\n",
              "      <td>NaN</td>\n",
              "      <td>NaN</td>\n",
              "      <td>NaN</td>\n",
              "      <td>NaN</td>\n",
              "      <td>NaN</td>\n",
              "      <td>NaN</td>\n",
              "      <td>NaN</td>\n",
              "      <td>NaN</td>\n",
              "      <td>NaN</td>\n",
              "      <td>NaN</td>\n",
              "      <td>NaN</td>\n",
              "      <td>0.00</td>\n",
              "      <td>NaN</td>\n",
              "      <td>NaN</td>\n",
              "      <td>61595.00</td>\n",
              "      <td>51480.00</td>\n",
              "      <td>NaN</td>\n",
              "      <td>2.00</td>\n",
              "      <td>2.00</td>\n",
              "      <td>NaN</td>\n",
              "      <td>NaN</td>\n",
              "      <td>NaN</td>\n",
              "      <td>0.00</td>\n",
              "      <td>0.00</td>\n",
              "      <td>NaN</td>\n",
              "      <td>NaN</td>\n",
              "      <td>NaN</td>\n",
              "      <td>NaN</td>\n",
              "      <td>NaN</td>\n",
              "      <td>NaN</td>\n",
              "      <td>6.00</td>\n",
              "      <td>6.00</td>\n",
              "      <td>NaN</td>\n",
              "      <td>NaN</td>\n",
              "    </tr>\n",
              "    <tr>\n",
              "      <th>50%</th>\n",
              "      <td>NaN</td>\n",
              "      <td>31.00</td>\n",
              "      <td>NaN</td>\n",
              "      <td>NaN</td>\n",
              "      <td>7.00</td>\n",
              "      <td>2.00</td>\n",
              "      <td>2.00</td>\n",
              "      <td>0.00</td>\n",
              "      <td>NaN</td>\n",
              "      <td>NaN</td>\n",
              "      <td>NaN</td>\n",
              "      <td>NaN</td>\n",
              "      <td>NaN</td>\n",
              "      <td>NaN</td>\n",
              "      <td>NaN</td>\n",
              "      <td>NaN</td>\n",
              "      <td>NaN</td>\n",
              "      <td>NaN</td>\n",
              "      <td>NaN</td>\n",
              "      <td>NaN</td>\n",
              "      <td>NaN</td>\n",
              "      <td>NaN</td>\n",
              "      <td>NaN</td>\n",
              "      <td>NaN</td>\n",
              "      <td>NaN</td>\n",
              "      <td>0.00</td>\n",
              "      <td>NaN</td>\n",
              "      <td>NaN</td>\n",
              "      <td>96000.00</td>\n",
              "      <td>78000.00</td>\n",
              "      <td>NaN</td>\n",
              "      <td>3.00</td>\n",
              "      <td>2.00</td>\n",
              "      <td>NaN</td>\n",
              "      <td>NaN</td>\n",
              "      <td>NaN</td>\n",
              "      <td>7.00</td>\n",
              "      <td>2.00</td>\n",
              "      <td>NaN</td>\n",
              "      <td>NaN</td>\n",
              "      <td>NaN</td>\n",
              "      <td>NaN</td>\n",
              "      <td>NaN</td>\n",
              "      <td>NaN</td>\n",
              "      <td>8.00</td>\n",
              "      <td>8.00</td>\n",
              "      <td>NaN</td>\n",
              "      <td>NaN</td>\n",
              "    </tr>\n",
              "    <tr>\n",
              "      <th>75%</th>\n",
              "      <td>NaN</td>\n",
              "      <td>37.00</td>\n",
              "      <td>NaN</td>\n",
              "      <td>NaN</td>\n",
              "      <td>13.00</td>\n",
              "      <td>4.00</td>\n",
              "      <td>4.00</td>\n",
              "      <td>0.00</td>\n",
              "      <td>NaN</td>\n",
              "      <td>NaN</td>\n",
              "      <td>NaN</td>\n",
              "      <td>NaN</td>\n",
              "      <td>NaN</td>\n",
              "      <td>NaN</td>\n",
              "      <td>NaN</td>\n",
              "      <td>NaN</td>\n",
              "      <td>NaN</td>\n",
              "      <td>NaN</td>\n",
              "      <td>NaN</td>\n",
              "      <td>NaN</td>\n",
              "      <td>NaN</td>\n",
              "      <td>NaN</td>\n",
              "      <td>NaN</td>\n",
              "      <td>NaN</td>\n",
              "      <td>NaN</td>\n",
              "      <td>0.00</td>\n",
              "      <td>NaN</td>\n",
              "      <td>NaN</td>\n",
              "      <td>145000.00</td>\n",
              "      <td>106000.00</td>\n",
              "      <td>NaN</td>\n",
              "      <td>3.00</td>\n",
              "      <td>3.00</td>\n",
              "      <td>NaN</td>\n",
              "      <td>NaN</td>\n",
              "      <td>NaN</td>\n",
              "      <td>18.00</td>\n",
              "      <td>6.00</td>\n",
              "      <td>NaN</td>\n",
              "      <td>NaN</td>\n",
              "      <td>NaN</td>\n",
              "      <td>NaN</td>\n",
              "      <td>NaN</td>\n",
              "      <td>NaN</td>\n",
              "      <td>9.00</td>\n",
              "      <td>10.00</td>\n",
              "      <td>NaN</td>\n",
              "      <td>NaN</td>\n",
              "    </tr>\n",
              "    <tr>\n",
              "      <th>max</th>\n",
              "      <td>NaN</td>\n",
              "      <td>52000.00</td>\n",
              "      <td>NaN</td>\n",
              "      <td>NaN</td>\n",
              "      <td>115.00</td>\n",
              "      <td>43.00</td>\n",
              "      <td>34.00</td>\n",
              "      <td>2500.00</td>\n",
              "      <td>NaN</td>\n",
              "      <td>NaN</td>\n",
              "      <td>NaN</td>\n",
              "      <td>NaN</td>\n",
              "      <td>NaN</td>\n",
              "      <td>NaN</td>\n",
              "      <td>NaN</td>\n",
              "      <td>NaN</td>\n",
              "      <td>NaN</td>\n",
              "      <td>NaN</td>\n",
              "      <td>NaN</td>\n",
              "      <td>NaN</td>\n",
              "      <td>NaN</td>\n",
              "      <td>NaN</td>\n",
              "      <td>NaN</td>\n",
              "      <td>NaN</td>\n",
              "      <td>NaN</td>\n",
              "      <td>650000.00</td>\n",
              "      <td>NaN</td>\n",
              "      <td>NaN</td>\n",
              "      <td>2180000.00</td>\n",
              "      <td>2080000.00</td>\n",
              "      <td>NaN</td>\n",
              "      <td>4.00</td>\n",
              "      <td>4.00</td>\n",
              "      <td>NaN</td>\n",
              "      <td>NaN</td>\n",
              "      <td>NaN</td>\n",
              "      <td>100.00</td>\n",
              "      <td>8.00</td>\n",
              "      <td>NaN</td>\n",
              "      <td>NaN</td>\n",
              "      <td>NaN</td>\n",
              "      <td>NaN</td>\n",
              "      <td>NaN</td>\n",
              "      <td>NaN</td>\n",
              "      <td>10.00</td>\n",
              "      <td>10.00</td>\n",
              "      <td>NaN</td>\n",
              "      <td>NaN</td>\n",
              "    </tr>\n",
              "  </tbody>\n",
              "</table>\n",
              "</div>"
            ],
            "text/plain": [
              "       profile_gender  ...  company_best_companies_city\n",
              "count            6095  ...                         1692\n",
              "unique              3  ...                         1293\n",
              "top            Hombre  ...                Mercado Libre\n",
              "freq             5122  ...                           72\n",
              "mean              NaN  ...                          NaN\n",
              "std               NaN  ...                          NaN\n",
              "min               NaN  ...                          NaN\n",
              "25%               NaN  ...                          NaN\n",
              "50%               NaN  ...                          NaN\n",
              "75%               NaN  ...                          NaN\n",
              "max               NaN  ...                          NaN\n",
              "\n",
              "[11 rows x 48 columns]"
            ]
          },
          "metadata": {
            "tags": []
          },
          "execution_count": 78
        }
      ]
    },
    {
      "cell_type": "markdown",
      "metadata": {
        "id": "ZuGf6TIKrH7k"
      },
      "source": [
        "Aqui ya vemos ciertas cosas de primera en la columna profile_age. La media es 45,6 años, pero la varianza 665.72 años? Esto es extraño, hasta ahora no conocemos de una persona humana de 800 años. Si vemos el valor máximo, es de 52mil años, seguro vio a Jesús, la construcción de las pirámides y la creación de la rueda. Esta columna debera ser analizada por valores erróneos.\n",
        "\n",
        "Tambien tenemos ya un acercamiento para empezar a interpretar el tipo de variable: si es numérica o categórica (aunque hay excepciones, por ejemplo la satisfación con tu salario `salary_satisfaction`, son números, pero corresponden a una escala de más a menos satisfacción.\n"
      ]
    },
    {
      "cell_type": "markdown",
      "metadata": {
        "id": "s4j05x2q66dT"
      },
      "source": [
        "Para encontrar asociaciones y relaciones debemos acercarnos más al dataset y hacernos preguntas. Para seguir con el ejercicio nos preguntamos, ***existe relacion entre el salario y el genero de la persona encuestada?***"
      ]
    },
    {
      "cell_type": "markdown",
      "metadata": {
        "id": "B6XQsZfbNXui"
      },
      "source": [
        "Las columnas que relevantes para responder serán: `profile_gender` y `salary_monthly_NETO`"
      ]
    },
    {
      "cell_type": "markdown",
      "metadata": {
        "id": "MPYqZO8nSgkT"
      },
      "source": [
        "Procedemos a analizar las filas relevantes, prestando atencion en valores mínimos, máximos o erróneos. Para esto, vamos a graficar las variables para ver su distribución; `profile_gender` es categórica, por lo que podemos usar la moda y un histograma para `salary_monthly_NETO`, que es una variable numérica."
      ]
    },
    {
      "cell_type": "code",
      "metadata": {
        "id": "HVi_GouNYzby"
      },
      "source": [
        ""
      ],
      "execution_count": null,
      "outputs": []
    },
    {
      "cell_type": "code",
      "metadata": {
        "id": "pvUz9OPMU6OR",
        "outputId": "5aac3927-07fc-417e-8763-fc21299cf31b",
        "colab": {
          "base_uri": "https://localhost:8080/",
          "height": 394
        }
      },
      "source": [
        "df_seg[['profile_gender','salary_monthly_NETO']].describe(include= \"all\")"
      ],
      "execution_count": 79,
      "outputs": [
        {
          "output_type": "execute_result",
          "data": {
            "text/html": [
              "<div>\n",
              "<style scoped>\n",
              "    .dataframe tbody tr th:only-of-type {\n",
              "        vertical-align: middle;\n",
              "    }\n",
              "\n",
              "    .dataframe tbody tr th {\n",
              "        vertical-align: top;\n",
              "    }\n",
              "\n",
              "    .dataframe thead th {\n",
              "        text-align: right;\n",
              "    }\n",
              "</style>\n",
              "<table border=\"1\" class=\"dataframe\">\n",
              "  <thead>\n",
              "    <tr style=\"text-align: right;\">\n",
              "      <th></th>\n",
              "      <th>profile_gender</th>\n",
              "      <th>salary_monthly_NETO</th>\n",
              "    </tr>\n",
              "  </thead>\n",
              "  <tbody>\n",
              "    <tr>\n",
              "      <th>count</th>\n",
              "      <td>6095</td>\n",
              "      <td>5883.00</td>\n",
              "    </tr>\n",
              "    <tr>\n",
              "      <th>unique</th>\n",
              "      <td>3</td>\n",
              "      <td>nan</td>\n",
              "    </tr>\n",
              "    <tr>\n",
              "      <th>top</th>\n",
              "      <td>Hombre</td>\n",
              "      <td>nan</td>\n",
              "    </tr>\n",
              "    <tr>\n",
              "      <th>freq</th>\n",
              "      <td>5122</td>\n",
              "      <td>nan</td>\n",
              "    </tr>\n",
              "    <tr>\n",
              "      <th>mean</th>\n",
              "      <td>NaN</td>\n",
              "      <td>94907.95</td>\n",
              "    </tr>\n",
              "    <tr>\n",
              "      <th>std</th>\n",
              "      <td>NaN</td>\n",
              "      <td>96862.26</td>\n",
              "    </tr>\n",
              "    <tr>\n",
              "      <th>min</th>\n",
              "      <td>NaN</td>\n",
              "      <td>1.00</td>\n",
              "    </tr>\n",
              "    <tr>\n",
              "      <th>25%</th>\n",
              "      <td>NaN</td>\n",
              "      <td>51480.00</td>\n",
              "    </tr>\n",
              "    <tr>\n",
              "      <th>50%</th>\n",
              "      <td>NaN</td>\n",
              "      <td>78000.00</td>\n",
              "    </tr>\n",
              "    <tr>\n",
              "      <th>75%</th>\n",
              "      <td>NaN</td>\n",
              "      <td>106000.00</td>\n",
              "    </tr>\n",
              "    <tr>\n",
              "      <th>max</th>\n",
              "      <td>NaN</td>\n",
              "      <td>2080000.00</td>\n",
              "    </tr>\n",
              "  </tbody>\n",
              "</table>\n",
              "</div>"
            ],
            "text/plain": [
              "       profile_gender  salary_monthly_NETO\n",
              "count            6095              5883.00\n",
              "unique              3                  nan\n",
              "top            Hombre                  nan\n",
              "freq             5122                  nan\n",
              "mean              NaN             94907.95\n",
              "std               NaN             96862.26\n",
              "min               NaN                 1.00\n",
              "25%               NaN             51480.00\n",
              "50%               NaN             78000.00\n",
              "75%               NaN            106000.00\n",
              "max               NaN           2080000.00"
            ]
          },
          "metadata": {
            "tags": []
          },
          "execution_count": 79
        }
      ]
    },
    {
      "cell_type": "markdown",
      "metadata": {
        "id": "XFYYow1gNvo7"
      },
      "source": [
        "Lo que nos ayuda mucho es tener herramientas visuales para ver el comportamiento de cada una de estas variables. \n",
        "\n",
        "Para esto, identificamos el tipo de variable de cada una: `salary_monthly_NETO` es una variable numérica y `profile_gender` es categórica. \n",
        "\n",
        "Se realizo el analisis de outliers en el punto anterior del entregable\n",
        "\n",
        "Para analizar la relación entre una variable categórica y una variable numérica utilizamos un grafico boxplot"
      ]
    },
    {
      "cell_type": "code",
      "metadata": {
        "id": "P4RYN5Z2cLeI",
        "outputId": "e51ff2fb-b9be-443d-f5a8-ae29afea8fbd",
        "colab": {
          "base_uri": "https://localhost:8080/",
          "height": 394
        }
      },
      "source": [
        "df_inliers[['profile_gender', 'salary_monthly_NETO']].describe(include= \"all\")"
      ],
      "execution_count": 85,
      "outputs": [
        {
          "output_type": "execute_result",
          "data": {
            "text/html": [
              "<div>\n",
              "<style scoped>\n",
              "    .dataframe tbody tr th:only-of-type {\n",
              "        vertical-align: middle;\n",
              "    }\n",
              "\n",
              "    .dataframe tbody tr th {\n",
              "        vertical-align: top;\n",
              "    }\n",
              "\n",
              "    .dataframe thead th {\n",
              "        text-align: right;\n",
              "    }\n",
              "</style>\n",
              "<table border=\"1\" class=\"dataframe\">\n",
              "  <thead>\n",
              "    <tr style=\"text-align: right;\">\n",
              "      <th></th>\n",
              "      <th>profile_gender</th>\n",
              "      <th>salary_monthly_NETO</th>\n",
              "    </tr>\n",
              "  </thead>\n",
              "  <tbody>\n",
              "    <tr>\n",
              "      <th>count</th>\n",
              "      <td>5700</td>\n",
              "      <td>5700.00</td>\n",
              "    </tr>\n",
              "    <tr>\n",
              "      <th>unique</th>\n",
              "      <td>3</td>\n",
              "      <td>nan</td>\n",
              "    </tr>\n",
              "    <tr>\n",
              "      <th>top</th>\n",
              "      <td>Hombre</td>\n",
              "      <td>nan</td>\n",
              "    </tr>\n",
              "    <tr>\n",
              "      <th>freq</th>\n",
              "      <td>4770</td>\n",
              "      <td>nan</td>\n",
              "    </tr>\n",
              "    <tr>\n",
              "      <th>mean</th>\n",
              "      <td>NaN</td>\n",
              "      <td>81995.65</td>\n",
              "    </tr>\n",
              "    <tr>\n",
              "      <th>std</th>\n",
              "      <td>NaN</td>\n",
              "      <td>46605.21</td>\n",
              "    </tr>\n",
              "    <tr>\n",
              "      <th>min</th>\n",
              "      <td>NaN</td>\n",
              "      <td>1.00</td>\n",
              "    </tr>\n",
              "    <tr>\n",
              "      <th>25%</th>\n",
              "      <td>NaN</td>\n",
              "      <td>50000.00</td>\n",
              "    </tr>\n",
              "    <tr>\n",
              "      <th>50%</th>\n",
              "      <td>NaN</td>\n",
              "      <td>75000.00</td>\n",
              "    </tr>\n",
              "    <tr>\n",
              "      <th>75%</th>\n",
              "      <td>NaN</td>\n",
              "      <td>102000.00</td>\n",
              "    </tr>\n",
              "    <tr>\n",
              "      <th>max</th>\n",
              "      <td>NaN</td>\n",
              "      <td>290000.00</td>\n",
              "    </tr>\n",
              "  </tbody>\n",
              "</table>\n",
              "</div>"
            ],
            "text/plain": [
              "       profile_gender  salary_monthly_NETO\n",
              "count            5700              5700.00\n",
              "unique              3                  nan\n",
              "top            Hombre                  nan\n",
              "freq             4770                  nan\n",
              "mean              NaN             81995.65\n",
              "std               NaN             46605.21\n",
              "min               NaN                 1.00\n",
              "25%               NaN             50000.00\n",
              "50%               NaN             75000.00\n",
              "75%               NaN            102000.00\n",
              "max               NaN            290000.00"
            ]
          },
          "metadata": {
            "tags": []
          },
          "execution_count": 85
        }
      ]
    },
    {
      "cell_type": "code",
      "metadata": {
        "id": "mFFFlDixgjFW",
        "outputId": "e9afe784-0ee0-4ceb-e9a4-9a095bf95fb7",
        "colab": {
          "base_uri": "https://localhost:8080/",
          "height": 500
        }
      },
      "source": [
        "fig, axes = plt.subplots(figsize=(12, 8))\n",
        "\n",
        "seaborn.boxplot(data=df_inliers, x='salary_monthly_NETO', y='profile_gender',\n",
        "                color='orangered')\n",
        "plt.ticklabel_format(style='plain', axis='x')"
      ],
      "execution_count": 87,
      "outputs": [
        {
          "output_type": "display_data",
          "data": {
            "image/png": "[encoded data removed]",
            "text/plain": [
              "<Figure size 864x576 with 1 Axes>"
            ]
          },
          "metadata": {
            "tags": [],
            "needs_background": "light"
          }
        }
      ]
    },
    {
      "cell_type": "markdown",
      "metadata": {
        "id": "Fjy5g6Hax2hU"
      },
      "source": [
        "Si me centro en la diferencia entre las subpoblaciones que se autoperciben con genero hombre y genero mujer, vemos que el box donde empieza el percentil 50% en el caso de los hombres, empieza con un sueldo superior a las mujeres, y vemos que su mediana esta más a la derecha - es decir tiene salarios mas alto en promedio."
      ]
    },
    {
      "cell_type": "markdown",
      "metadata": {
        "id": "5baYhH0XHM3S"
      },
      "source": [
        "## a) Densidad conjunta\n",
        "\n",
        "Que herramientas visuales y modelos puede utilizar para estudiar la distribución y comportamiento de sus datos? \n",
        "\n",
        "Elija tres variables numéricas y 2 variables categóricas. Visualice la base según varias de las variables elegidas. Puede describir de alguna forma el comportamiento de sus datos? Que herramientas utilizaría? Describa\n",
        "\n",
        "\n"
      ]
    },
    {
      "cell_type": "markdown",
      "metadata": {
        "id": "xf3TFuKQy1ps"
      },
      "source": [
        "\n",
        "Variables numéricas\n",
        "\n",
        "*   `profile_age`\n",
        "*   `profile_years_experience`\n",
        "*   `salary_monthly_NETO`\n",
        "\n",
        "Variables categóricas\n",
        "\n",
        "*   `profile_university`\n",
        "*   `company_main_activity`\n",
        "\n"
      ]
    },
    {
      "cell_type": "markdown",
      "metadata": {
        "id": "9ZEga1Q61Naf"
      },
      "source": [
        "Con una variable categorica y una numerica podemos estudiar su distribucion usando un boxplot\n",
        "\n"
      ]
    },
    {
      "cell_type": "code",
      "metadata": {
        "id": "jD6Ld1Dv2Rmj"
      },
      "source": [
        "interested_universities=df_inliers['profile_university'].value_counts()[:10].index.tolist()"
      ],
      "execution_count": 119,
      "outputs": []
    },
    {
      "cell_type": "code",
      "metadata": {
        "id": "dR9Cci-23IQp"
      },
      "source": [
        "uni_filter= df_inliers.profile_university.isin(interested_universities)\n"
      ],
      "execution_count": 124,
      "outputs": []
    },
    {
      "cell_type": "code",
      "metadata": {
        "id": "DaLLVe-v1koc",
        "outputId": "53dfb1d4-893b-45de-b130-496ab21989ac",
        "colab": {
          "base_uri": "https://localhost:8080/",
          "height": 500
        }
      },
      "source": [
        "fig, axes = plt.subplots(figsize=(12, 8))\n",
        "\n",
        "seaborn.boxplot(data=df_inliers[uni_filter], x='salary_monthly_NETO', y='profile_university',\n",
        "                color='orangered')\n",
        "plt.ticklabel_format(style='plain', axis='x')"
      ],
      "execution_count": 126,
      "outputs": [
        {
          "output_type": "display_data",
          "data": {
            "image/png": "[encoded data removed]",
            "text/plain": [
              "<Figure size 864x576 with 1 Axes>"
            ]
          },
          "metadata": {
            "tags": [],
            "needs_background": "light"
          }
        }
      ]
    },
    {
      "cell_type": "markdown",
      "metadata": {
        "id": "RLogZpuk6YC7"
      },
      "source": [
        "La UNC tiene la mediana mas chica, en promedio ganamos menos que otras universidades :(\n",
        "\n",
        "Si son dos numéricas, experiencia y salario, un scatterplot"
      ]
    },
    {
      "cell_type": "code",
      "metadata": {
        "id": "fsOJRsCH9Z07"
      },
      "source": [
        "#df_inliers[df_inliers['profile_years_experience']<40]"
      ],
      "execution_count": 132,
      "outputs": []
    },
    {
      "cell_type": "code",
      "metadata": {
        "id": "WxIqz6yX6bH6",
        "outputId": "402727ad-8fee-45d0-b20f-4d3bcb1126c5",
        "colab": {
          "base_uri": "https://localhost:8080/",
          "height": 517
        }
      },
      "source": [
        "fig, axes = plt.subplots(figsize=(12, 8))\n",
        "\n",
        "seaborn.scatterplot(data=df_inliers[df_inliers['profile_years_experience']<40], x='salary_monthly_NETO', y='profile_years_experience')"
      ],
      "execution_count": 133,
      "outputs": [
        {
          "output_type": "execute_result",
          "data": {
            "text/plain": [
              "<matplotlib.axes._subplots.AxesSubplot at 0x7f8389c8bbd0>"
            ]
          },
          "metadata": {
            "tags": []
          },
          "execution_count": 133
        },
        {
          "output_type": "display_data",
          "data": {
            "image/png": "[encoded data removed]",
            "text/plain": [
              "<Figure size 864x576 with 1 Axes>"
            ]
          },
          "metadata": {
            "tags": [],
            "needs_background": "light"
          }
        }
      ]
    },
    {
      "cell_type": "markdown",
      "metadata": {
        "id": "rAsGyuMp-DUb"
      },
      "source": [
        "A medida que aumentan los años de experiencia, la concentracion de puntos se mueve hacia la derecha"
      ]
    },
    {
      "cell_type": "code",
      "metadata": {
        "id": "UsdomTMDzo2E"
      },
      "source": [
        ""
      ],
      "execution_count": 126,
      "outputs": []
    },
    {
      "cell_type": "markdown",
      "metadata": {
        "id": "lkuHE2aZGHMO"
      },
      "source": [
        "## b) Asociación\n",
        "\n",
        "* Necesitamos decidir si sacar o no la columna de salario bruto. Para hacer la encuesta más simple.\n",
        "¿Existe una correlación entre el salario bruto y el neto? Que abordaje y medidas usaría\n",
        "\n"
      ]
    },
    {
      "cell_type": "markdown",
      "metadata": {
        "id": "7MZrbRJCm-ae"
      },
      "source": [
        "## c) Densidad condicional \n",
        "\n",
        "Estudie la distribución del salario según el nivel de estudio.\n",
        "\n",
        "Separe la población según el nivel de estudio (elija dos subpoblaciones numerosas) y grafique de manera comparativa ambos histogramas de la variable `'salary_monthly_NETO'`\n",
        "¿Considera que ambas variables son independientes?\n",
        "¿Qué analizaría al respecto?\n",
        "\n",
        "Calcule medidas de centralización y dispersión para cada subpoblación\n",
        "\n",
        "\n",
        "\n",
        "\n"
      ]
    },
    {
      "cell_type": "markdown",
      "metadata": {
        "id": "u8wgYxNiqVpE"
      },
      "source": [
        "## d) Densidad Conjunta condicional\n",
        "\n",
        "Elija dos variables numéricas y una categórica. \n",
        "Estudie la dispersión (scatterplot) de las dos variables discriminando en color por la variable categórica (ayuda: hue en seaborn)\n"
      ]
    }
  ]
}