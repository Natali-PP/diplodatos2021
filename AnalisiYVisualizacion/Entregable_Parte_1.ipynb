{
  "nbformat": 4,
  "nbformat_minor": 0,
  "metadata": {
    "colab": {
      "name": "Entregable - Parte 1.ipynb",
      "provenance": [],
      "collapsed_sections": [],
      "include_colab_link": true
    },
    "kernelspec": {
      "name": "python3",
      "display_name": "Python 3"
    }
  },
  "cells": [
    {
      "cell_type": "markdown",
      "metadata": {
        "id": "view-in-github",
        "colab_type": "text"
      },
      "source": [
        "<a href=\"https://colab.research.google.com/github/Natali-PP/diplodatos2021/blob/main/AnalisiYVisualizacion/Entregable_Parte_1.ipynb\" target=\"_parent\"><img src=\"https://colab.research.google.com/assets/colab-badge.svg\" alt=\"Open In Colab\"/></a>"
      ]
    },
    {
      "cell_type": "markdown",
      "metadata": {
        "id": "LYvAOR2VzHmW"
      },
      "source": [
        "\n",
        "**Diplomatura en Ciencia de Datos, Aprendizaje Automático y sus Aplicaciones**\n",
        "\n",
        "**Edición 2021**\n",
        "\n",
        "---\n",
        "## Trabajo práctico entregable - Parte 1"
      ]
    },
    {
      "cell_type": "code",
      "metadata": {
        "id": "Xwdfo7z20TUK"
      },
      "source": [
        "import io\n",
        "import matplotlib\n",
        "import matplotlib.pyplot as plt\n",
        "import numpy\n",
        "import pandas as pd\n",
        "import seaborn\n",
        "from matplotlib.ticker import PercentFormatter"
      ],
      "execution_count": 1,
      "outputs": []
    },
    {
      "cell_type": "markdown",
      "metadata": {
        "id": "XY2Hl-Ma07Nn"
      },
      "source": [
        "## Lectura del dataset\n",
        "\n",
        "En la notebook 00 se explican los detalles de la siguiente sección."
      ]
    },
    {
      "cell_type": "code",
      "metadata": {
        "id": "Vviv_sqXdR5W"
      },
      "source": [
        "url = 'https://cs.famaf.unc.edu.ar/~mteruel/datasets/diplodatos/sysarmy_survey_2020_processed.csv'\n",
        "df = pd.read_csv(url)"
      ],
      "execution_count": 2,
      "outputs": []
    },
    {
      "cell_type": "code",
      "metadata": {
        "id": "gckNHXXLktJ4",
        "colab": {
          "base_uri": "https://localhost:8080/",
          "height": 302
        },
        "outputId": "505659a0-8d68-4491-b624-0fa7e9f079eb"
      },
      "source": [
        "df[:3]"
      ],
      "execution_count": 3,
      "outputs": [
        {
          "output_type": "execute_result",
          "data": {
            "text/html": [
              "<div>\n",
              "<style scoped>\n",
              "    .dataframe tbody tr th:only-of-type {\n",
              "        vertical-align: middle;\n",
              "    }\n",
              "\n",
              "    .dataframe tbody tr th {\n",
              "        vertical-align: top;\n",
              "    }\n",
              "\n",
              "    .dataframe thead th {\n",
              "        text-align: right;\n",
              "    }\n",
              "</style>\n",
              "<table border=\"1\" class=\"dataframe\">\n",
              "  <thead>\n",
              "    <tr style=\"text-align: right;\">\n",
              "      <th></th>\n",
              "      <th>profile_gender</th>\n",
              "      <th>profile_age</th>\n",
              "      <th>work_country</th>\n",
              "      <th>work_province</th>\n",
              "      <th>profile_years_experience</th>\n",
              "      <th>work_years_in_company</th>\n",
              "      <th>work_years_in_current_position</th>\n",
              "      <th>work_people_in_charge_of</th>\n",
              "      <th>profile_studies_level</th>\n",
              "      <th>profile_studies_level_state</th>\n",
              "      <th>profile_career</th>\n",
              "      <th>profile_university</th>\n",
              "      <th>profile_specialization_courses</th>\n",
              "      <th>profile_open_source_contributions</th>\n",
              "      <th>profile_programming_as_hobby</th>\n",
              "      <th>work_role</th>\n",
              "      <th>tools_platform</th>\n",
              "      <th>tools_programming_languages</th>\n",
              "      <th>tools_frameworks</th>\n",
              "      <th>tools_data_bases</th>\n",
              "      <th>tools_qa_testing</th>\n",
              "      <th>tools_IDEs</th>\n",
              "      <th>tools_work_pc_os</th>\n",
              "      <th>tools_cellphone_os</th>\n",
              "      <th>work_on_call_duty</th>\n",
              "      <th>salary_on_call_duty_charge</th>\n",
              "      <th>work_on_call_duty_charge_type</th>\n",
              "      <th>work_contract_type</th>\n",
              "      <th>salary_monthly_BRUTO</th>\n",
              "      <th>salary_monthly_NETO</th>\n",
              "      <th>salary_in_usd</th>\n",
              "      <th>salary_satisfaction</th>\n",
              "      <th>salary_comparison_last_semester</th>\n",
              "      <th>salary_has_bonus</th>\n",
              "      <th>salary_bonus_tied_to</th>\n",
              "      <th>salary_inflation_adjustment_2020</th>\n",
              "      <th>salary_percentage_inflation_adjustment_2020</th>\n",
              "      <th>salary_month_last_inflation_adjustment</th>\n",
              "      <th>work_has_violence_situations</th>\n",
              "      <th>profile_sexual_orientation</th>\n",
              "      <th>profile_has_disabilities</th>\n",
              "      <th>profile_has_disabilities_hiring_difficulties</th>\n",
              "      <th>company_employee_number</th>\n",
              "      <th>company_main_activity</th>\n",
              "      <th>company_recommended</th>\n",
              "      <th>company_diversity_policies</th>\n",
              "      <th>company_extra_benefits</th>\n",
              "      <th>company_best_companies_city</th>\n",
              "    </tr>\n",
              "  </thead>\n",
              "  <tbody>\n",
              "    <tr>\n",
              "      <th>0</th>\n",
              "      <td>Mujer</td>\n",
              "      <td>26</td>\n",
              "      <td>Argentina</td>\n",
              "      <td>Ciudad Autónoma de Buenos Aires</td>\n",
              "      <td>3.0</td>\n",
              "      <td>3.0</td>\n",
              "      <td>3.0</td>\n",
              "      <td>0</td>\n",
              "      <td>Universitario</td>\n",
              "      <td>En curso</td>\n",
              "      <td>Ingeniería en Sistemas de Información</td>\n",
              "      <td>UTN - Universidad Tecnológica Nacional</td>\n",
              "      <td>Sí, los pagó un empleador</td>\n",
              "      <td>No</td>\n",
              "      <td>Sí</td>\n",
              "      <td>Consultant</td>\n",
              "      <td>Ninguna</td>\n",
              "      <td>Ninguno</td>\n",
              "      <td>Ninguno</td>\n",
              "      <td>Ninguna</td>\n",
              "      <td>Ninguna</td>\n",
              "      <td>Ninguno</td>\n",
              "      <td>GNU/Linux</td>\n",
              "      <td>Android</td>\n",
              "      <td>No</td>\n",
              "      <td>0.0</td>\n",
              "      <td>Bruto</td>\n",
              "      <td>Full-Time</td>\n",
              "      <td>53000.0</td>\n",
              "      <td>43000.0</td>\n",
              "      <td>NaN</td>\n",
              "      <td>1</td>\n",
              "      <td>1</td>\n",
              "      <td>No</td>\n",
              "      <td>No recibo bono</td>\n",
              "      <td>No</td>\n",
              "      <td>0.0</td>\n",
              "      <td>0</td>\n",
              "      <td>En mi trabajo actual</td>\n",
              "      <td>Homosexual</td>\n",
              "      <td>NaN</td>\n",
              "      <td>NaN</td>\n",
              "      <td>501-1000</td>\n",
              "      <td>Servicios / Consultoría de Software / Digital</td>\n",
              "      <td>7</td>\n",
              "      <td>2</td>\n",
              "      <td>Capacitaciones y/o cursos, Comidas pagas / sub...</td>\n",
              "      <td>NaN</td>\n",
              "    </tr>\n",
              "    <tr>\n",
              "      <th>1</th>\n",
              "      <td>Hombre</td>\n",
              "      <td>29</td>\n",
              "      <td>Argentina</td>\n",
              "      <td>Corrientes</td>\n",
              "      <td>5.0</td>\n",
              "      <td>2.0</td>\n",
              "      <td>2.0</td>\n",
              "      <td>4</td>\n",
              "      <td>Universitario</td>\n",
              "      <td>En curso</td>\n",
              "      <td>Ingeniería en Sistemas de Información</td>\n",
              "      <td>UTN - Universidad Tecnológica Nacional</td>\n",
              "      <td>Sí, de forma particular, Sí, los pagó un emple...</td>\n",
              "      <td>No</td>\n",
              "      <td>Sí</td>\n",
              "      <td>Developer</td>\n",
              "      <td>Docker, Google Cloud Platform/App Engine</td>\n",
              "      <td>HTML, Javascript, Python</td>\n",
              "      <td>Django, jQuery</td>\n",
              "      <td>Informix, MySQL, PostgreSQL</td>\n",
              "      <td>Ninguna</td>\n",
              "      <td>IPython / Jupyter, Sublime Text, Visual Studio...</td>\n",
              "      <td>GNU/Linux</td>\n",
              "      <td>Android</td>\n",
              "      <td>No</td>\n",
              "      <td>0.0</td>\n",
              "      <td>Bruto</td>\n",
              "      <td>Full-Time</td>\n",
              "      <td>79000.0</td>\n",
              "      <td>63000.0</td>\n",
              "      <td>NaN</td>\n",
              "      <td>2</td>\n",
              "      <td>2</td>\n",
              "      <td>Menos de un sueldo</td>\n",
              "      <td>Performance de la compañía</td>\n",
              "      <td>Uno</td>\n",
              "      <td>10.0</td>\n",
              "      <td>1</td>\n",
              "      <td>Jamás</td>\n",
              "      <td>Heterosexual</td>\n",
              "      <td>Visual</td>\n",
              "      <td>No</td>\n",
              "      <td>201-500</td>\n",
              "      <td>Otras industrias</td>\n",
              "      <td>8</td>\n",
              "      <td>9</td>\n",
              "      <td>Horarios flexibles, Stock options / RSUs, Viát...</td>\n",
              "      <td>NaN</td>\n",
              "    </tr>\n",
              "    <tr>\n",
              "      <th>2</th>\n",
              "      <td>Mujer</td>\n",
              "      <td>22</td>\n",
              "      <td>Argentina</td>\n",
              "      <td>Ciudad Autónoma de Buenos Aires</td>\n",
              "      <td>2.0</td>\n",
              "      <td>0.0</td>\n",
              "      <td>0.0</td>\n",
              "      <td>0</td>\n",
              "      <td>Secundario</td>\n",
              "      <td>Completado</td>\n",
              "      <td>NaN</td>\n",
              "      <td>NaN</td>\n",
              "      <td>Sí, de forma particular, Sí, los pagó un emple...</td>\n",
              "      <td>No</td>\n",
              "      <td>Sí</td>\n",
              "      <td>Infosec</td>\n",
              "      <td>Linux, VMWare</td>\n",
              "      <td>Ninguno</td>\n",
              "      <td>Ninguno</td>\n",
              "      <td>Ninguna</td>\n",
              "      <td>Ninguna</td>\n",
              "      <td>Ninguno</td>\n",
              "      <td>Windows</td>\n",
              "      <td>iOS</td>\n",
              "      <td>No</td>\n",
              "      <td>0.0</td>\n",
              "      <td>Porcentaje de mi sueldo</td>\n",
              "      <td>Full-Time</td>\n",
              "      <td>160000.0</td>\n",
              "      <td>127000.0</td>\n",
              "      <td>NaN</td>\n",
              "      <td>3</td>\n",
              "      <td>3</td>\n",
              "      <td>Un sueldo</td>\n",
              "      <td>Performance individual</td>\n",
              "      <td>No</td>\n",
              "      <td>0.0</td>\n",
              "      <td>0</td>\n",
              "      <td>En un trabajo anterior</td>\n",
              "      <td>Bisexual o queer</td>\n",
              "      <td>NaN</td>\n",
              "      <td>No</td>\n",
              "      <td>2001-5000</td>\n",
              "      <td>Otras industrias</td>\n",
              "      <td>6</td>\n",
              "      <td>9</td>\n",
              "      <td>Clases de gimnasia online, Comidas pagas / sub...</td>\n",
              "      <td>NaN</td>\n",
              "    </tr>\n",
              "  </tbody>\n",
              "</table>\n",
              "</div>"
            ],
            "text/plain": [
              "  profile_gender  ...  company_best_companies_city\n",
              "0          Mujer  ...                          NaN\n",
              "1         Hombre  ...                          NaN\n",
              "2          Mujer  ...                          NaN\n",
              "\n",
              "[3 rows x 48 columns]"
            ]
          },
          "metadata": {
            "tags": []
          },
          "execution_count": 3
        }
      ]
    },
    {
      "cell_type": "markdown",
      "metadata": {
        "id": "-ZSQYANFHHgV"
      },
      "source": [
        "# Ejercicio 1 - Análisis descriptivo\n",
        "\n",
        "Responder a la pregunta: **¿Cuáles son los lenguajes de programación asociados a los mejores salarios?**\n",
        "\n",
        "Para ello:\n",
        "1. Seleccionar las columnas relevantes para analizar.\n",
        "2. Seleccionar las filas relevantes para analizar. Esto incluye la eliminación de valores extremos y erróneos, pero también puede enfocar el análisis en una sub-población. Por ejemplo, se pueden limitar a personas con un salario mayor que 10000 pesos, o a las personas que trabajan sólo en \"Data Science\", pero deben justificar su elección y reformular la pregunta inicial de ser necesario.\n",
        "  * Obtener una lista de los lenguajes de programación más populares. Decidir cuántos y cuáles seleccionan para incluir en el análisis.\n",
        "  * Para cada una de las otras columnas del punto anterior, elegir los rangos o valores seleccionan para incluir en el análisis.\n",
        "3. Seleccionar métricas que ayuden a responder la pregunta, y los métodos para analizarlas. Elegir UNA de las siguientes opciones:\n",
        "  * Comparar las distribuciones de salario para cada lenguaje utilizando visualizaciones. Como la visualización es el producto final, debe ser clara y mostrar información relevante.\n",
        "  * Comparar medidas de estadística descriptiva sobre la distribución de salario para cada lenguaje. Sean creativos, la estadística descriptiva nos permite decir cosas como: \"el 10% de los mejores sueldos los ganan, en su mayoría, programadores que saben kotlin!\" (donde *mayoría* es un término medio engañoso que sólo significa más del 50%). Para comparar múltiples lenguajes, les recomendamos usar también visualizaciones.\n",
        "  * Comparar probabilidades. Por ejemplo: \"Si sabés Python o Java, tenés un 30% más de chances de ganar arriba de 100K\".\n",
        "\n",
        "Si lo consideran necesario, realicen varias iteraciones. Es decir, si encuentran que las distribuciones de los lenguajes de programación que seleccionaron inicialmente no son muy diferentes, pueden re-hacer el análisis usando sólo los lenguajes de programación que son diferentes."
      ]
    },
    {
      "cell_type": "code",
      "metadata": {
        "id": "6dqTEr7cZgvl"
      },
      "source": [
        "# complete here if you want to include more columns\n",
        "relevant_columns = ['tools_programming_languages', 'salary_monthly_NETO', 'profile_gender']"
      ],
      "execution_count": 4,
      "outputs": []
    },
    {
      "cell_type": "markdown",
      "metadata": {
        "id": "OoGgzMvuEocM"
      },
      "source": [
        "### Conteo de frecuencias de los lenguajes de programación\n",
        "\n",
        "La columna que contiene información sobre los lenguajes de programación utilizados es `tools_programming_languages`. Sus valores son strings con los lenguajes seleccionados separados por comas.\n",
        "\n"
      ]
    },
    {
      "cell_type": "code",
      "metadata": {
        "colab": {
          "base_uri": "https://localhost:8080/"
        },
        "id": "J7AB2Ty8SvNl",
        "outputId": "f3c03b75-b34a-421d-c3cc-07a4bfd07d60"
      },
      "source": [
        "df.tools_programming_languages.value_counts()"
      ],
      "execution_count": 5,
      "outputs": [
        {
          "output_type": "execute_result",
          "data": {
            "text/plain": [
              "Ninguno de los anteriores                              661\n",
              "Ninguno                                                326\n",
              "Python                                                 167\n",
              "SQL                                                    161\n",
              "Java                                                   155\n",
              "                                                      ... \n",
              "ActionScript, Java, Javascript, SQL, TypeScript          1\n",
              ".NET, C#, HTML, Javascript, Python, SQL, PowerShell      1\n",
              "Bash/Shell, CSS, HTML, Javascript, R, SQL                1\n",
              "CSS, HTML, Javascript, Perl, PHP, Python                 1\n",
              "Javascript, Python, Scala                                1\n",
              "Name: tools_programming_languages, Length: 1637, dtype: int64"
            ]
          },
          "metadata": {
            "tags": []
          },
          "execution_count": 5
        }
      ]
    },
    {
      "cell_type": "markdown",
      "metadata": {
        "id": "l8bYmvMhSroH"
      },
      "source": [
        "Las siguientes celdas de código separan estos lenguajes de programación y cuentan la frecuencia con la que aparecen.\n",
        "\n",
        "No es necesario entender este código en profundidad, aunque sí es un buen ejercicio."
      ]
    },
    {
      "cell_type": "code",
      "metadata": {
        "colab": {
          "base_uri": "https://localhost:8080/",
          "height": 206
        },
        "id": "PAQ81x3iUP_N",
        "outputId": "f9e7c217-e913-4929-e2cc-92f237df7c99"
      },
      "source": [
        "# Convert the comma-separated string of languages to a list of string.\n",
        "# Remove 'ninguno de los anteriores' option, spaces and training commas.\n",
        "def split_languages(languages_str):\n",
        "  if not isinstance(languages_str, str):\n",
        "    return []\n",
        "  # Remove 'other' option\n",
        "  languages_str = languages_str.lower()\\\n",
        "    .replace('ninguno de los anteriores', '')\n",
        "  # Split string into list of items\n",
        "  # Remove spaces and commas for each item\n",
        "  return [lang.strip().replace(',', '')\n",
        "          for lang in languages_str.split()]\n",
        "\n",
        "# Create a new column with the list of languages\n",
        "df.loc[:, 'cured_programming_languages'] = df.tools_programming_languages\\\n",
        "    .apply(split_languages)\n",
        "if 'cured_programming_languages' not in relevant_columns:\n",
        "    relevant_columns.append('cured_programming_languages') \n",
        "\n",
        "# Duplicate each row of df for each programming language\n",
        "# mentioned in the response.\n",
        "# We only include in df_lang the columns we are going to analyze later, so we\n",
        "# don't duplicate innecesary information.\n",
        "df_lang = df.cured_programming_languages\\\n",
        "    .apply(pd.Series).stack()\\\n",
        "    .reset_index(level=-1, drop=True).to_frame()\\\n",
        "    .join(df[relevant_columns])\\\n",
        "    .rename(columns={0: 'programming_language'})\n",
        "# Horrible programming style! But a lot of data science code can be written with\n",
        "# as concatenations of functions (pipelines), and there's no elegant way of\n",
        "# doing that on Python.\n",
        "df_lang[:5]"
      ],
      "execution_count": 6,
      "outputs": [
        {
          "output_type": "execute_result",
          "data": {
            "text/html": [
              "<div>\n",
              "<style scoped>\n",
              "    .dataframe tbody tr th:only-of-type {\n",
              "        vertical-align: middle;\n",
              "    }\n",
              "\n",
              "    .dataframe tbody tr th {\n",
              "        vertical-align: top;\n",
              "    }\n",
              "\n",
              "    .dataframe thead th {\n",
              "        text-align: right;\n",
              "    }\n",
              "</style>\n",
              "<table border=\"1\" class=\"dataframe\">\n",
              "  <thead>\n",
              "    <tr style=\"text-align: right;\">\n",
              "      <th></th>\n",
              "      <th>programming_language</th>\n",
              "      <th>tools_programming_languages</th>\n",
              "      <th>salary_monthly_NETO</th>\n",
              "      <th>profile_gender</th>\n",
              "      <th>cured_programming_languages</th>\n",
              "    </tr>\n",
              "  </thead>\n",
              "  <tbody>\n",
              "    <tr>\n",
              "      <th>0</th>\n",
              "      <td>ninguno</td>\n",
              "      <td>Ninguno</td>\n",
              "      <td>43000.0</td>\n",
              "      <td>Mujer</td>\n",
              "      <td>[ninguno]</td>\n",
              "    </tr>\n",
              "    <tr>\n",
              "      <th>1</th>\n",
              "      <td>html</td>\n",
              "      <td>HTML, Javascript, Python</td>\n",
              "      <td>63000.0</td>\n",
              "      <td>Hombre</td>\n",
              "      <td>[html, javascript, python]</td>\n",
              "    </tr>\n",
              "    <tr>\n",
              "      <th>1</th>\n",
              "      <td>javascript</td>\n",
              "      <td>HTML, Javascript, Python</td>\n",
              "      <td>63000.0</td>\n",
              "      <td>Hombre</td>\n",
              "      <td>[html, javascript, python]</td>\n",
              "    </tr>\n",
              "    <tr>\n",
              "      <th>1</th>\n",
              "      <td>python</td>\n",
              "      <td>HTML, Javascript, Python</td>\n",
              "      <td>63000.0</td>\n",
              "      <td>Hombre</td>\n",
              "      <td>[html, javascript, python]</td>\n",
              "    </tr>\n",
              "    <tr>\n",
              "      <th>2</th>\n",
              "      <td>ninguno</td>\n",
              "      <td>Ninguno</td>\n",
              "      <td>127000.0</td>\n",
              "      <td>Mujer</td>\n",
              "      <td>[ninguno]</td>\n",
              "    </tr>\n",
              "  </tbody>\n",
              "</table>\n",
              "</div>"
            ],
            "text/plain": [
              "  programming_language  ... cured_programming_languages\n",
              "0              ninguno  ...                   [ninguno]\n",
              "1                 html  ...  [html, javascript, python]\n",
              "1           javascript  ...  [html, javascript, python]\n",
              "1               python  ...  [html, javascript, python]\n",
              "2              ninguno  ...                   [ninguno]\n",
              "\n",
              "[5 rows x 5 columns]"
            ]
          },
          "metadata": {
            "tags": []
          },
          "execution_count": 6
        }
      ]
    },
    {
      "cell_type": "markdown",
      "metadata": {
        "id": "qm8NUg-7UEue"
      },
      "source": [
        "En la columna `programming_language` se encuentra cada lenguaje por separado. Notar que si una respuesta contenía 3 lenguajes, como `\"HTML, Javascript, Python\"`, la fila ha sido replicada 3 veces. Por ello, hay tres filas con índice 1."
      ]
    },
    {
      "cell_type": "code",
      "metadata": {
        "colab": {
          "base_uri": "https://localhost:8080/",
          "height": 363
        },
        "id": "lNPb4tTvWCwv",
        "outputId": "a62eb041-7648-4429-ffb1-6b594349532f"
      },
      "source": [
        "language_count = df_lang.programming_language.value_counts()\\\n",
        "    .reset_index()\\\n",
        "    .rename(columns={'index': 'language', 'programming_language': 'frequency'})\n",
        "language_count[:10]\n"
      ],
      "execution_count": 7,
      "outputs": [
        {
          "output_type": "execute_result",
          "data": {
            "text/html": [
              "<div>\n",
              "<style scoped>\n",
              "    .dataframe tbody tr th:only-of-type {\n",
              "        vertical-align: middle;\n",
              "    }\n",
              "\n",
              "    .dataframe tbody tr th {\n",
              "        vertical-align: top;\n",
              "    }\n",
              "\n",
              "    .dataframe thead th {\n",
              "        text-align: right;\n",
              "    }\n",
              "</style>\n",
              "<table border=\"1\" class=\"dataframe\">\n",
              "  <thead>\n",
              "    <tr style=\"text-align: right;\">\n",
              "      <th></th>\n",
              "      <th>language</th>\n",
              "      <th>frequency</th>\n",
              "    </tr>\n",
              "  </thead>\n",
              "  <tbody>\n",
              "    <tr>\n",
              "      <th>0</th>\n",
              "      <td>javascript</td>\n",
              "      <td>2513</td>\n",
              "    </tr>\n",
              "    <tr>\n",
              "      <th>1</th>\n",
              "      <td>sql</td>\n",
              "      <td>2154</td>\n",
              "    </tr>\n",
              "    <tr>\n",
              "      <th>2</th>\n",
              "      <td>html</td>\n",
              "      <td>1861</td>\n",
              "    </tr>\n",
              "    <tr>\n",
              "      <th>3</th>\n",
              "      <td>python</td>\n",
              "      <td>1475</td>\n",
              "    </tr>\n",
              "    <tr>\n",
              "      <th>4</th>\n",
              "      <td>java</td>\n",
              "      <td>1453</td>\n",
              "    </tr>\n",
              "    <tr>\n",
              "      <th>5</th>\n",
              "      <td>css</td>\n",
              "      <td>1247</td>\n",
              "    </tr>\n",
              "    <tr>\n",
              "      <th>6</th>\n",
              "      <td>bash/shell</td>\n",
              "      <td>993</td>\n",
              "    </tr>\n",
              "    <tr>\n",
              "      <th>7</th>\n",
              "      <td>php</td>\n",
              "      <td>891</td>\n",
              "    </tr>\n",
              "    <tr>\n",
              "      <th>8</th>\n",
              "      <td>.net</td>\n",
              "      <td>823</td>\n",
              "    </tr>\n",
              "    <tr>\n",
              "      <th>9</th>\n",
              "      <td>typescript</td>\n",
              "      <td>779</td>\n",
              "    </tr>\n",
              "  </tbody>\n",
              "</table>\n",
              "</div>"
            ],
            "text/plain": [
              "     language  frequency\n",
              "0  javascript       2513\n",
              "1         sql       2154\n",
              "2        html       1861\n",
              "3      python       1475\n",
              "4        java       1453\n",
              "5         css       1247\n",
              "6  bash/shell        993\n",
              "7         php        891\n",
              "8        .net        823\n",
              "9  typescript        779"
            ]
          },
          "metadata": {
            "tags": []
          },
          "execution_count": 7
        }
      ]
    },
    {
      "cell_type": "markdown",
      "metadata": {
        "id": "nThbJ1KeUgDo"
      },
      "source": [
        "## Filtrado de lenguajes relevantes\n",
        "\n",
        "El siguiente código permite seleccionar sólo las filas donde el valor de la columna `programming_language` se encuentre en la lista `interesting_languages`."
      ]
    },
    {
      "cell_type": "markdown",
      "metadata": {
        "id": "YIgcxy7ZNHb2"
      },
      "source": [
        "Eleji 5 lenguajes populares, juntando html, css y javascript"
      ]
    },
    {
      "cell_type": "code",
      "metadata": {
        "colab": {
          "base_uri": "https://localhost:8080/"
        },
        "id": "DEpVptnLZUQU",
        "outputId": "9c73d91f-0fa4-4026-d3da-3fb6314edd4a"
      },
      "source": [
        "# Filter out languages that we want to exclude\n",
        "# Complete here with your selected list.\n",
        "#front_lang=\"java\"\n",
        "interesting_languages = [\"python\", \"javascript\", \"sql\", \"html\",\"java\", \"css\", \"bash/shell\", \"php\", \".net\", \"typescript\", \"c#\"]\n",
        "filtered_df_lang = df_lang[df_lang.programming_language.isin(interesting_languages)]\n",
        "filter_of_null_values= (filtered_df_lang.salary_monthly_NETO.isnull() == False)\n",
        "filter_quantile= (filtered_df_lang.salary_monthly_NETO > filtered_df_lang.salary_monthly_NETO.quantile(0.04)) & (filtered_df_lang.salary_monthly_NETO < filtered_df_lang.salary_monthly_NETO.quantile(0.96))\n",
        "df_filtered = filtered_df_lang[ (filter_of_null_values) & (filter_quantile) ]\n",
        "\n",
        "len(filtered_df_lang), len(df_filtered)"
      ],
      "execution_count": 8,
      "outputs": [
        {
          "output_type": "execute_result",
          "data": {
            "text/plain": [
              "(14923, 13231)"
            ]
          },
          "metadata": {
            "tags": []
          },
          "execution_count": 8
        }
      ]
    },
    {
      "cell_type": "code",
      "metadata": {
        "colab": {
          "base_uri": "https://localhost:8080/"
        },
        "id": "nh6hFhhs7RMV",
        "outputId": "ce214c2a-b321-4e8b-e523-7baf95c5bdcf"
      },
      "source": [
        "filtered_df_lang['salary_monthly_NETO'].describe().round()"
      ],
      "execution_count": 9,
      "outputs": [
        {
          "output_type": "execute_result",
          "data": {
            "text/plain": [
              "count      14384.0\n",
              "mean       98277.0\n",
              "std       101653.0\n",
              "min            1.0\n",
              "25%        53200.0\n",
              "50%        80000.0\n",
              "75%       110000.0\n",
              "max      2080000.0\n",
              "Name: salary_monthly_NETO, dtype: float64"
            ]
          },
          "metadata": {
            "tags": []
          },
          "execution_count": 9
        }
      ]
    },
    {
      "cell_type": "code",
      "metadata": {
        "colab": {
          "base_uri": "https://localhost:8080/"
        },
        "id": "jVTSZ7_I7y_C",
        "outputId": "abf24b36-ef65-4221-a590-d417f2401dec"
      },
      "source": [
        "df_filtered['salary_monthly_NETO'].describe().round()"
      ],
      "execution_count": 10,
      "outputs": [
        {
          "output_type": "execute_result",
          "data": {
            "text/plain": [
              "count     13231.0\n",
              "mean      86628.0\n",
              "std       43447.0\n",
              "min       18665.0\n",
              "25%       55000.0\n",
              "50%       80000.0\n",
              "75%      105000.0\n",
              "max      279000.0\n",
              "Name: salary_monthly_NETO, dtype: float64"
            ]
          },
          "metadata": {
            "tags": []
          },
          "execution_count": 10
        }
      ]
    },
    {
      "cell_type": "code",
      "metadata": {
        "id": "ZFYc2hjl9aIG"
      },
      "source": [
        "#df_filtered.cured_programming_languages"
      ],
      "execution_count": 11,
      "outputs": []
    },
    {
      "cell_type": "code",
      "metadata": {
        "colab": {
          "base_uri": "https://localhost:8080/",
          "height": 52
        },
        "id": "oKbQKAGR8qqX",
        "outputId": "75d29a1b-a162-42a7-8def-7f442b8852b3"
      },
      "source": [
        "'''fig, axes = plt.subplots(figsize=(12, 18), nrows=3)\n",
        "seaborn.histplot(x=df_filtered['salary_monthly_NETO'], ax=axes[0])\n",
        "seaborn.boxplot(x=df_filtered['salary_monthly_NETO'], ax=axes[1])\n",
        "seaborn.boxenplot(x=df_filtered['salary_monthly_NETO'], ax=axes[2])\n",
        "'''"
      ],
      "execution_count": 12,
      "outputs": [
        {
          "output_type": "execute_result",
          "data": {
            "application/vnd.google.colaboratory.intrinsic+json": {
              "type": "string"
            },
            "text/plain": [
              "\"fig, axes = plt.subplots(figsize=(12, 18), nrows=3)\\nseaborn.histplot(x=df_filtered['salary_monthly_NETO'], ax=axes[0])\\nseaborn.boxplot(x=df_filtered['salary_monthly_NETO'], ax=axes[1])\\nseaborn.boxenplot(x=df_filtered['salary_monthly_NETO'], ax=axes[2])\\n\""
            ]
          },
          "metadata": {
            "tags": []
          },
          "execution_count": 12
        }
      ]
    },
    {
      "cell_type": "code",
      "metadata": {
        "colab": {
          "base_uri": "https://localhost:8080/",
          "height": 52
        },
        "id": "Bk8v7G3t9QkH",
        "outputId": "8f18f4bc-130b-4bd4-933b-13b1f53b1c93"
      },
      "source": [
        "'''plt.figure(figsize=(12, 6))\n",
        "seaborn.boxplot(data=df_filtered, x='salary_monthly_NETO', y='programming_language',\n",
        "                color='orangered')\n",
        "plt.ticklabel_format(style='plain', axis='x')\n",
        "'''"
      ],
      "execution_count": 13,
      "outputs": [
        {
          "output_type": "execute_result",
          "data": {
            "application/vnd.google.colaboratory.intrinsic+json": {
              "type": "string"
            },
            "text/plain": [
              "\"plt.figure(figsize=(12, 6))\\nseaborn.boxplot(data=df_filtered, x='salary_monthly_NETO', y='programming_language',\\n                color='orangered')\\nplt.ticklabel_format(style='plain', axis='x')\\n\""
            ]
          },
          "metadata": {
            "tags": []
          },
          "execution_count": 13
        }
      ]
    },
    {
      "cell_type": "markdown",
      "metadata": {
        "id": "96sOYlcSD4n6"
      },
      "source": [
        "Por conocimeinto de campo, html y css suelen estar juntos - es muy raro tocar solo html o solo css, y la distribucion de ambas es muy parecida. Busco"
      ]
    },
    {
      "cell_type": "code",
      "metadata": {
        "colab": {
          "base_uri": "https://localhost:8080/"
        },
        "id": "TXn8Y48yEMzd",
        "outputId": "57178ed1-173a-45a8-937a-f20e9b869097"
      },
      "source": [
        "html_css_filter_list=[\"html\", \"css\", \"HTML\", \"CSS\", \"Html\", \"Css\"]\n",
        "cured_test=[\"html\", \"javascript\", \"python\", \"php\"]\n",
        "# funcion que, dado un array original y un array de filtrado, devuelve el array nuevo, \n",
        "# eliminando los elementos que estan incluidos en el array de filtrado\n",
        "#para cured_programming_languages --> array\n",
        "\n",
        "def cured_lang_html_css( array_lang, list_filters):\n",
        "  if any (x in array_lang for x in list_filters):\n",
        "    filtered_array = [x for x in array_lang if x not in list_filters]\n",
        "    filtered_array.append(\"html/css\")\n",
        "    array_lang=filtered_array\n",
        "  return array_lang\n",
        "\n",
        "cured_lang_html_css(cured_test, html_css_filter_list)"
      ],
      "execution_count": 14,
      "outputs": [
        {
          "output_type": "execute_result",
          "data": {
            "text/plain": [
              "['javascript', 'python', 'php', 'html/css']"
            ]
          },
          "metadata": {
            "tags": []
          },
          "execution_count": 14
        }
      ]
    },
    {
      "cell_type": "code",
      "metadata": {
        "id": "8u7tf6ri6-16"
      },
      "source": [
        "# funcion que, dado un string y un array, devuelve el string filtrado, \n",
        "# eliminando los elementos que estan incluidos en el array\n",
        "\n",
        "# para tools_programming_languages --> string\n",
        "def filtered_lang_html_or_css(string_of_lang, list_filters):\n",
        "  if any (x in string_of_lang for x in list_filters):\n",
        "    array_of_lang_from_string = [x.strip() for x in string_of_lang.split(\",\")]\n",
        "    filtered_array_from_array_of_lang = [x for x in array_of_lang_from_string if x not in list_filters]\n",
        "    string_of_lang=' '.join(filtered_array_from_array_of_lang)+\" HTML/CSS\"\n",
        "\n",
        "  return string_of_lang\n",
        "\n",
        "# test filtered_lang_html_or_css(example_lang_test, html_css_filter_list)"
      ],
      "execution_count": 15,
      "outputs": []
    },
    {
      "cell_type": "code",
      "metadata": {
        "id": "EyMgDbDH6yrJ"
      },
      "source": [
        "#filtramos valores nullos and so on\n",
        "df_filter_of_null_values= (df.salary_monthly_NETO.isnull() == False)\n",
        "df_filter_quantile= (df.salary_monthly_NETO > df.salary_monthly_NETO.quantile(0.04)) & (df.salary_monthly_NETO < df.salary_monthly_NETO.quantile(0.96))\n",
        "df= df[ (df_filter_of_null_values) & (df_filter_quantile) ]"
      ],
      "execution_count": 16,
      "outputs": []
    },
    {
      "cell_type": "code",
      "metadata": {
        "id": "cJke3M3TbfOJ"
      },
      "source": [
        "df[\"tools_programming_languages\"]=[filtered_lang_html_or_css(str(x),html_css_filter_list) for x in df[\"tools_programming_languages\"]]"
      ],
      "execution_count": 17,
      "outputs": []
    },
    {
      "cell_type": "code",
      "metadata": {
        "id": "Yjn_hQ-8RRhv"
      },
      "source": [
        "df[\"cured_programming_languages\"]=[cured_lang_html_css(x,html_css_filter_list) for x in df[\"cured_programming_languages\"]]\n",
        "#df[\"cured_programming_languages\"]=[cured_lang_html_css(x,html_css_filter_list) for x in df[\"cured_programming_languages\"]]\n"
      ],
      "execution_count": 18,
      "outputs": []
    },
    {
      "cell_type": "code",
      "metadata": {
        "id": "atX2gI0yM0Sf",
        "colab": {
          "base_uri": "https://localhost:8080/",
          "height": 206
        },
        "outputId": "20e6d3bf-13c9-4961-98a4-5ea0828164af"
      },
      "source": [
        "df_lang = df.cured_programming_languages\\\n",
        "    .apply(pd.Series).stack()\\\n",
        "    .reset_index(level=-1, drop=True).to_frame()\\\n",
        "    .join(df[relevant_columns])\\\n",
        "    .rename(columns={0: 'programming_language'})\n",
        "df_lang[:5]"
      ],
      "execution_count": 19,
      "outputs": [
        {
          "output_type": "execute_result",
          "data": {
            "text/html": [
              "<div>\n",
              "<style scoped>\n",
              "    .dataframe tbody tr th:only-of-type {\n",
              "        vertical-align: middle;\n",
              "    }\n",
              "\n",
              "    .dataframe tbody tr th {\n",
              "        vertical-align: top;\n",
              "    }\n",
              "\n",
              "    .dataframe thead th {\n",
              "        text-align: right;\n",
              "    }\n",
              "</style>\n",
              "<table border=\"1\" class=\"dataframe\">\n",
              "  <thead>\n",
              "    <tr style=\"text-align: right;\">\n",
              "      <th></th>\n",
              "      <th>programming_language</th>\n",
              "      <th>tools_programming_languages</th>\n",
              "      <th>salary_monthly_NETO</th>\n",
              "      <th>profile_gender</th>\n",
              "      <th>cured_programming_languages</th>\n",
              "    </tr>\n",
              "  </thead>\n",
              "  <tbody>\n",
              "    <tr>\n",
              "      <th>0</th>\n",
              "      <td>ninguno</td>\n",
              "      <td>Ninguno</td>\n",
              "      <td>43000.0</td>\n",
              "      <td>Mujer</td>\n",
              "      <td>[ninguno]</td>\n",
              "    </tr>\n",
              "    <tr>\n",
              "      <th>1</th>\n",
              "      <td>javascript</td>\n",
              "      <td>Javascript Python HTML/CSS</td>\n",
              "      <td>63000.0</td>\n",
              "      <td>Hombre</td>\n",
              "      <td>[javascript, python, html/css]</td>\n",
              "    </tr>\n",
              "    <tr>\n",
              "      <th>1</th>\n",
              "      <td>python</td>\n",
              "      <td>Javascript Python HTML/CSS</td>\n",
              "      <td>63000.0</td>\n",
              "      <td>Hombre</td>\n",
              "      <td>[javascript, python, html/css]</td>\n",
              "    </tr>\n",
              "    <tr>\n",
              "      <th>1</th>\n",
              "      <td>html/css</td>\n",
              "      <td>Javascript Python HTML/CSS</td>\n",
              "      <td>63000.0</td>\n",
              "      <td>Hombre</td>\n",
              "      <td>[javascript, python, html/css]</td>\n",
              "    </tr>\n",
              "    <tr>\n",
              "      <th>2</th>\n",
              "      <td>ninguno</td>\n",
              "      <td>Ninguno</td>\n",
              "      <td>127000.0</td>\n",
              "      <td>Mujer</td>\n",
              "      <td>[ninguno]</td>\n",
              "    </tr>\n",
              "  </tbody>\n",
              "</table>\n",
              "</div>"
            ],
            "text/plain": [
              "  programming_language  ...     cured_programming_languages\n",
              "0              ninguno  ...                       [ninguno]\n",
              "1           javascript  ...  [javascript, python, html/css]\n",
              "1               python  ...  [javascript, python, html/css]\n",
              "1             html/css  ...  [javascript, python, html/css]\n",
              "2              ninguno  ...                       [ninguno]\n",
              "\n",
              "[5 rows x 5 columns]"
            ]
          },
          "metadata": {
            "tags": []
          },
          "execution_count": 19
        }
      ]
    },
    {
      "cell_type": "code",
      "metadata": {
        "id": "bsUfALh9NTtE",
        "colab": {
          "base_uri": "https://localhost:8080/",
          "height": 363
        },
        "outputId": "dd3d8cb8-46b4-49f4-ea2a-4635bf2fbd28"
      },
      "source": [
        "language_count = df_lang.programming_language.value_counts()\\\n",
        "    .reset_index()\\\n",
        "    .rename(columns={'index': 'language', 'programming_language': 'frequency'})\n",
        "language_count[:10]"
      ],
      "execution_count": 20,
      "outputs": [
        {
          "output_type": "execute_result",
          "data": {
            "text/html": [
              "<div>\n",
              "<style scoped>\n",
              "    .dataframe tbody tr th:only-of-type {\n",
              "        vertical-align: middle;\n",
              "    }\n",
              "\n",
              "    .dataframe tbody tr th {\n",
              "        vertical-align: top;\n",
              "    }\n",
              "\n",
              "    .dataframe thead th {\n",
              "        text-align: right;\n",
              "    }\n",
              "</style>\n",
              "<table border=\"1\" class=\"dataframe\">\n",
              "  <thead>\n",
              "    <tr style=\"text-align: right;\">\n",
              "      <th></th>\n",
              "      <th>language</th>\n",
              "      <th>frequency</th>\n",
              "    </tr>\n",
              "  </thead>\n",
              "  <tbody>\n",
              "    <tr>\n",
              "      <th>0</th>\n",
              "      <td>javascript</td>\n",
              "      <td>2185</td>\n",
              "    </tr>\n",
              "    <tr>\n",
              "      <th>1</th>\n",
              "      <td>sql</td>\n",
              "      <td>1932</td>\n",
              "    </tr>\n",
              "    <tr>\n",
              "      <th>2</th>\n",
              "      <td>html/css</td>\n",
              "      <td>1698</td>\n",
              "    </tr>\n",
              "    <tr>\n",
              "      <th>3</th>\n",
              "      <td>java</td>\n",
              "      <td>1309</td>\n",
              "    </tr>\n",
              "    <tr>\n",
              "      <th>4</th>\n",
              "      <td>python</td>\n",
              "      <td>1294</td>\n",
              "    </tr>\n",
              "    <tr>\n",
              "      <th>5</th>\n",
              "      <td>bash/shell</td>\n",
              "      <td>896</td>\n",
              "    </tr>\n",
              "    <tr>\n",
              "      <th>6</th>\n",
              "      <td>php</td>\n",
              "      <td>786</td>\n",
              "    </tr>\n",
              "    <tr>\n",
              "      <th>7</th>\n",
              "      <td>.net</td>\n",
              "      <td>732</td>\n",
              "    </tr>\n",
              "    <tr>\n",
              "      <th>8</th>\n",
              "      <td>typescript</td>\n",
              "      <td>672</td>\n",
              "    </tr>\n",
              "    <tr>\n",
              "      <th>9</th>\n",
              "      <td>c#</td>\n",
              "      <td>651</td>\n",
              "    </tr>\n",
              "  </tbody>\n",
              "</table>\n",
              "</div>"
            ],
            "text/plain": [
              "     language  frequency\n",
              "0  javascript       2185\n",
              "1         sql       1932\n",
              "2    html/css       1698\n",
              "3        java       1309\n",
              "4      python       1294\n",
              "5  bash/shell        896\n",
              "6         php        786\n",
              "7        .net        732\n",
              "8  typescript        672\n",
              "9          c#        651"
            ]
          },
          "metadata": {
            "tags": []
          },
          "execution_count": 20
        }
      ]
    },
    {
      "cell_type": "code",
      "metadata": {
        "id": "a_eCi0nvNi7h"
      },
      "source": [
        "interesting_languages = [\"python\", \"javascript\", \"sql\", \"html/css\",\"java\", \"bash/shell\", \"php\", \".net\", \"typescript\", \"c#\"]\n",
        "filtered_df_lang = df_lang[df_lang.programming_language.isin(interesting_languages)]\n",
        "filter_of_null_values= (filtered_df_lang.salary_monthly_NETO.isnull() == False)\n",
        "filter_quantile= (filtered_df_lang.salary_monthly_NETO > filtered_df_lang.salary_monthly_NETO.quantile(0.04))\n",
        "df_filtered = filtered_df_lang[ (filter_of_null_values) & (filter_quantile) ]\n",
        "\n",
        "#len(filtered_df_lang), len(df_filtered)"
      ],
      "execution_count": 21,
      "outputs": []
    },
    {
      "cell_type": "code",
      "metadata": {
        "id": "_aNOWwuXfhwi"
      },
      "source": [
        "#df_filtered['salary_monthly_NETO'].describe().round()"
      ],
      "execution_count": 22,
      "outputs": []
    },
    {
      "cell_type": "code",
      "metadata": {
        "id": "KbsRoa93fPG5",
        "colab": {
          "base_uri": "https://localhost:8080/",
          "height": 69
        },
        "outputId": "66f00e6c-2e13-4991-8d6d-474a6072629b"
      },
      "source": [
        "'''fig, axes = plt.subplots(figsize=(12, 18), nrows=3)\n",
        "seaborn.histplot(x=df_filtered['salary_monthly_NETO'], ax=axes[0],kde=True)\n",
        "seaborn.boxplot(x=df_filtered['salary_monthly_NETO'], ax=axes[1])\n",
        "seaborn.boxenplot(x=df_filtered['salary_monthly_NETO'], ax=axes[2])\n",
        "'''"
      ],
      "execution_count": 23,
      "outputs": [
        {
          "output_type": "execute_result",
          "data": {
            "application/vnd.google.colaboratory.intrinsic+json": {
              "type": "string"
            },
            "text/plain": [
              "\"fig, axes = plt.subplots(figsize=(12, 18), nrows=3)\\nseaborn.histplot(x=df_filtered['salary_monthly_NETO'], ax=axes[0],kde=True)\\nseaborn.boxplot(x=df_filtered['salary_monthly_NETO'], ax=axes[1])\\nseaborn.boxenplot(x=df_filtered['salary_monthly_NETO'], ax=axes[2])\\n\""
            ]
          },
          "metadata": {
            "tags": []
          },
          "execution_count": 23
        }
      ]
    },
    {
      "cell_type": "code",
      "metadata": {
        "id": "B142XCAmfYqz",
        "colab": {
          "base_uri": "https://localhost:8080/",
          "height": 498
        },
        "outputId": "d18ef086-e3fd-4072-85ef-f5a161daadda"
      },
      "source": [
        "fig, axes = plt.subplots(figsize=(12, 8))\n",
        "\n",
        "seaborn.boxplot(data=df_filtered, x='salary_monthly_NETO', y='programming_language',\n",
        "                color='orangered')\n",
        "plt.ticklabel_format(style='plain', axis='x')\n"
      ],
      "execution_count": 24,
      "outputs": [
        {
          "output_type": "display_data",
          "data": {
            "image/png": "[encoded data removed]",
            "text/plain": [
              "<Figure size 864x576 with 1 Axes>"
            ]
          },
          "metadata": {
            "tags": [],
            "needs_background": "light"
          }
        }
      ]
    },
    {
      "cell_type": "code",
      "metadata": {
        "id": "fSpWvNwF-2dn",
        "colab": {
          "base_uri": "https://localhost:8080/",
          "height": 52
        },
        "outputId": "56f14e31-67b1-4b5e-b9b4-7815922a8752"
      },
      "source": [
        "'''\n",
        "fig, axes = plt.subplots(figsize=(16, 10))\n",
        "seaborn.histplot(x=df_filtered['salary_monthly_NETO'], y=df_filtered[\"programming_language\"],cbar=True, cbar_kws=dict(shrink=.75))\n",
        "#seaborn.heatmap(data=df_filtered[\"programming_language\"], annot=True, fmt=\"d\",)\n",
        "'''"
      ],
      "execution_count": 25,
      "outputs": [
        {
          "output_type": "execute_result",
          "data": {
            "application/vnd.google.colaboratory.intrinsic+json": {
              "type": "string"
            },
            "text/plain": [
              "'\\nfig, axes = plt.subplots(figsize=(16, 10))\\nseaborn.histplot(x=df_filtered[\\'salary_monthly_NETO\\'], y=df_filtered[\"programming_language\"],cbar=True, cbar_kws=dict(shrink=.75))\\n#seaborn.heatmap(data=df_filtered[\"programming_language\"], annot=True, fmt=\"d\",)\\n'"
            ]
          },
          "metadata": {
            "tags": []
          },
          "execution_count": 25
        }
      ]
    },
    {
      "cell_type": "code",
      "metadata": {
        "id": "hazYqwiE-Bbd",
        "colab": {
          "base_uri": "https://localhost:8080/",
          "height": 87
        },
        "outputId": "328b379c-ceb9-4f0e-fb83-40e3ed31d646"
      },
      "source": [
        "\n",
        "\n",
        "def get_sub_df_for_lang(lang):\n",
        "  return df_filtered[ df_filtered[\"programming_language\"]== lang]\n",
        "\n",
        "temp_list_lang = []\n",
        "for lang in interesting_languages:\n",
        "  temp_list_lang.append((lang,get_sub_df_for_lang(lang)))\n",
        "\n",
        "#get_sub_df_for_lang('java').describe()\n",
        "\"\"\"\n",
        "java_cols=get_sub_df_for_lang('java')\n",
        "js_cols=get_sub_df_for_lang('javascript')\n",
        "python_cols=get_sub_df_for_lang('python') \n",
        "html_css_cols=get_sub_df_for_lang('html/css')\n",
        "bash_cols=get_sub_df_for_lang('bash/shell')\n",
        "php_cols=get_sub_df_for_lang('php') \n",
        "sql_cols=get_sub_df_for_lang('sql')\n",
        "ts_cols=get_sub_df_for_lang('typescript')\n",
        "c_sharp_cols=get_sub_df_for_lang('c#') \n",
        "dot_net_cols=get_sub_df_for_lang('.net') \n",
        "\"\"\"\n",
        "#java_cols.salary_monthly_NETO\n",
        "#seaborn.histplot(x=df_filtered[ x== \"javascript\" for x in df[\"programming_language\"]], ax=axes[0,0],kde=True)\n"
      ],
      "execution_count": 26,
      "outputs": [
        {
          "output_type": "execute_result",
          "data": {
            "application/vnd.google.colaboratory.intrinsic+json": {
              "type": "string"
            },
            "text/plain": [
              "\"\\njava_cols=get_sub_df_for_lang('java')\\njs_cols=get_sub_df_for_lang('javascript')\\npython_cols=get_sub_df_for_lang('python') \\nhtml_css_cols=get_sub_df_for_lang('html/css')\\nbash_cols=get_sub_df_for_lang('bash/shell')\\nphp_cols=get_sub_df_for_lang('php') \\nsql_cols=get_sub_df_for_lang('sql')\\nts_cols=get_sub_df_for_lang('typescript')\\nc_sharp_cols=get_sub_df_for_lang('c#') \\ndot_net_cols=get_sub_df_for_lang('.net') \\n\""
            ]
          },
          "metadata": {
            "tags": []
          },
          "execution_count": 26
        }
      ]
    },
    {
      "cell_type": "code",
      "metadata": {
        "id": "hJZ5qe1cQ3M9"
      },
      "source": [
        "colors = [\"gold\",\"orange\",\"purple\",\"forestgreen\",\"blue\",\"gray\",\"magenta\",\"saddlebrown\",\"olive\",\"black\"]"
      ],
      "execution_count": 27,
      "outputs": []
    },
    {
      "cell_type": "code",
      "metadata": {
        "id": "VXjq8frhTKWz",
        "colab": {
          "base_uri": "https://localhost:8080/"
        },
        "outputId": "2c9677ad-486d-49b9-b447-dffeef3b7b05"
      },
      "source": [
        "#temp_list_lang[9][1]['salary_monthly_NETO'].median()\n",
        "#temp_list_lang[0][1][temp_list_lang[0][1]['profile_gender']== \"Hombre\"]\n",
        "for lang in temp_list_lang:\n",
        "  print(lang[0])"
      ],
      "execution_count": 28,
      "outputs": [
        {
          "output_type": "stream",
          "text": [
            "python\n",
            "javascript\n",
            "sql\n",
            "html/css\n",
            "java\n",
            "bash/shell\n",
            "php\n",
            ".net\n",
            "typescript\n",
            "c#\n"
          ],
          "name": "stdout"
        }
      ]
    },
    {
      "cell_type": "code",
      "metadata": {
        "id": "Ok6Dl_jx87LW",
        "colab": {
          "base_uri": "https://localhost:8080/",
          "height": 1000
        },
        "outputId": "53445208-3bb7-41a3-fe7b-aa3e91e0410c"
      },
      "source": [
        "fig, axes = plt.subplots(figsize=(20, 20), nrows=4, ncols=3,)\n",
        "colors_test=['#03071eff','#370617ff', '#6a040fff', '#9d0208ff','#d00000ff','#dc2f02ff','#e85d04ff','#f48c06ff','#faa307ff','#ffba08ff']\n",
        "colors_test2=['#f72585ff','#b5179eff','#7209b7ff','#560badff','#480ca8ff','#3a0ca3ff','#3f37c9ff','#4361eeff','#4895efff','#4cc9f0ff']\n",
        "k=0\n",
        "for i in range(4):\n",
        "  for j in range(3):\n",
        "      #print(k)\n",
        "      if k>=10: \n",
        "        break\n",
        "      axes[i,j].title.set_text(temp_list_lang[k][0])\n",
        "      seaborn.histplot(\n",
        "          data=temp_list_lang[k][1],\n",
        "          x=temp_list_lang[k][1]['salary_monthly_NETO'], \n",
        "          ax=axes[i,j],color=colors_test[k], \n",
        "          kde=True, \n",
        "          weights=numpy.ones(len(temp_list_lang[k][1])) / len(temp_list_lang[k][1]),\n",
        "          bins=10,\n",
        "          )\n",
        "      k+=1\n",
        "\n",
        "\"\"\" el codigo de arriba genera algo como esto\n",
        "seaborn.histplot(x=java_cols['salary_monthly_NETO'], ax=axes[0,0],kde=True, label=\"Java\")\n",
        "seaborn.histplot(x=js_cols['salary_monthly_NETO'], ax=axes[0,1],kde=True, color=\"gold\", label=\"JavaScript\")\n",
        "seaborn.histplot(x=python_cols['salary_monthly_NETO'], ax=axes[0,2],kde=True, color=\"orange\", label=\"Python\")\n",
        "seaborn.histplot(x=html_css_cols['salary_monthly_NETO'], ax=axes[1,0],kde=True, color=\"purple\", label=\"HTML/CSS\")\n",
        "seaborn.histplot(x=bash_cols['salary_monthly_NETO'], ax=axes[1,1],kde=True,  color=\"forestgreen\",label=\"Bash\")\n",
        "seaborn.histplot(x=php_cols['salary_monthly_NETO'], ax=axes[1,2],kde=True,color=\"darkslateblue\", label=\"PHP\")\n",
        "seaborn.histplot(x=sql_cols['salary_monthly_NETO'], ax=axes[2,0],kde=True, color=\"gray\",label=\"SQL\")\n",
        "seaborn.histplot(x=ts_cols['salary_monthly_NETO'], ax=axes[2,1],kde=True, color=\"magenta\",label=\"TypeScript\")\n",
        "seaborn.histplot(x=c_sharp_cols['salary_monthly_NETO'], ax=axes[2,2],kde=True,color=\"saddlebrown\", label=\"C#\")\n",
        "seaborn.histplot(x=dot_net_cols['salary_monthly_NETO'], ax=axes[3,0],kde=True, color=\"olive\",label=\".NET\")\n",
        "\"\"\"\n",
        "fig.tight_layout()\n",
        "fig.delaxes(axes[3, 1])\n",
        "fig.delaxes(axes[3, 2])\n",
        "plt.ticklabel_format(style='plain', axis='x')\n",
        "plt.gca().yaxis.set_major_formatter(PercentFormatter(1))\n",
        "\n",
        "#en vez de count usar la frecuencia relativa para comparar mejor segun el total de la poblacion"
      ],
      "execution_count": 29,
      "outputs": [
        {
          "output_type": "display_data",
          "data": {
            "image/png": "[encoded data removed]",
            "text/plain": [
              "<Figure size 1440x1440 with 10 Axes>"
            ]
          },
          "metadata": {
            "tags": [],
            "needs_background": "light"
          }
        }
      ]
    },
    {
      "cell_type": "code",
      "metadata": {
        "colab": {
          "base_uri": "https://localhost:8080/"
        },
        "id": "Elvydk4qoAuh",
        "outputId": "d6fda198-442d-4d22-df26-d2b3b0eb3215"
      },
      "source": [
        "print('Mediana por lenguaje')\n",
        "medianas_por_lenguaje=[]\n",
        "#for lang in interesting_languages:\n",
        "#  temp_list_lang.append([lang,get_sub_df_for_lang(lang)])\n",
        "\n",
        "for lang in temp_list_lang:\n",
        "  medianas_por_lenguaje.append([lang[0],\n",
        "                                lang[1]['salary_monthly_NETO'].median(),\n",
        "                                lang[1][lang[1]['profile_gender']== \"Hombre\"]['salary_monthly_NETO'].median(),\n",
        "                                lang[1][lang[1]['profile_gender']== \"Mujer\"]['salary_monthly_NETO'].median(),\n",
        "                               ])\n",
        "  #medianas_por_leguaje[i][0]=temp_list_lang[i][0] \n",
        "  #medianas_por_leguaje[i][1]=temp_list_lang[i][1]['salary_monthly_NETO'].median() \n",
        "\n",
        "print(medianas_por_lenguaje)"
      ],
      "execution_count": 30,
      "outputs": [
        {
          "output_type": "stream",
          "text": [
            "Mediana por lenguaje\n",
            "[['python', 89000.0, 90000.0, 75000.0], ['javascript', 80000.0, 82000.0, 68000.0], ['sql', 79000.0, 80000.0, 68450.0], ['html/css', 75998.0, 78000.0, 64850.0], ['java', 88900.0, 90000.0, 71480.0], ['bash/shell', 90000.0, 90000.0, 69602.0], ['php', 78000.0, 80000.0, 63276.0], ['.net', 78200.0, 80000.0, 68450.0], ['typescript', 85000.0, 87000.0, 72516.5], ['c#', 77050.0, 78000.0, 68000.0]]\n"
          ],
          "name": "stdout"
        }
      ]
    },
    {
      "cell_type": "code",
      "metadata": {
        "colab": {
          "base_uri": "https://localhost:8080/",
          "height": 104
        },
        "id": "xOjRPVAfx0xt",
        "outputId": "21f146be-b153-4ec5-81fd-15818d800f4b"
      },
      "source": [
        "#print('Mediana por genero por lenguaje')\n",
        "#temp_list_lang[0][1][temp_list_lang[0][1]['profile_gender']== \"Hombre\"]['salary_monthly_NETO']\n",
        "#temp_list_lang[0][1][temp_list_lang[0][1]['profile_gender']== \"Mujer\"]['salary_monthly_NETO'].median()\n",
        "#(media_h - media_m)/media_h *100\n",
        "\n",
        "\"\"\"\n",
        "for i in range(10):\n",
        "  mediana_h=temp_list_lang[i][1][temp_list_lang[i][1]['profile_gender']== \"Hombre\"]['salary_monthly_NETO'].median()\n",
        "  mediana_m=temp_list_lang[i][1][temp_list_lang[i][1]['profile_gender']== \"Mujer\"]['salary_monthly_NETO'].median()\n",
        "  #print( temp_list_lang[i][0], mediana_h, mediana_m)\n",
        "\n",
        "  print( temp_list_lang[i][0], \n",
        "        '   mediana Hombre: ', \n",
        "        mediana_h, \n",
        "        '   mediana Hombre: ', \n",
        "        mediana_m,\n",
        "        '   diferencia mediana Mujer: ', \n",
        "        (mediana_h-mediana_m)/mediana_h * 100\n",
        "        )\n",
        "\"\"\""
      ],
      "execution_count": 31,
      "outputs": [
        {
          "output_type": "execute_result",
          "data": {
            "application/vnd.google.colaboratory.intrinsic+json": {
              "type": "string"
            },
            "text/plain": [
              "'\\nfor i in range(10):\\n  mediana_h=temp_list_lang[i][1][temp_list_lang[i][1][\\'profile_gender\\']== \"Hombre\"][\\'salary_monthly_NETO\\'].median()\\n  mediana_m=temp_list_lang[i][1][temp_list_lang[i][1][\\'profile_gender\\']== \"Mujer\"][\\'salary_monthly_NETO\\'].median()\\n  #print( temp_list_lang[i][0], mediana_h, mediana_m)\\n\\n  print( temp_list_lang[i][0], \\n        \\'   mediana Hombre: \\', \\n        mediana_h, \\n        \\'   mediana Hombre: \\', \\n        mediana_m,\\n        \\'   diferencia mediana Mujer: \\', \\n        (mediana_h-mediana_m)/mediana_h * 100\\n        )\\n'"
            ]
          },
          "metadata": {
            "tags": []
          },
          "execution_count": 31
        }
      ]
    },
    {
      "cell_type": "code",
      "metadata": {
        "colab": {
          "base_uri": "https://localhost:8080/",
          "height": 363
        },
        "id": "3eQ0Owc0RPCY",
        "outputId": "cbccc251-cf7c-48f9-d0a7-9ef1b4b60907"
      },
      "source": [
        "df_lang_median_gender = pd.DataFrame(medianas_por_lenguaje, columns=['lenguaje', 'mediana_salario_neto_total','mediana_salario_neto__hombre','mediana_salario_neto__mujer'])\n",
        "df_lang_median_gender"
      ],
      "execution_count": 32,
      "outputs": [
        {
          "output_type": "execute_result",
          "data": {
            "text/html": [
              "<div>\n",
              "<style scoped>\n",
              "    .dataframe tbody tr th:only-of-type {\n",
              "        vertical-align: middle;\n",
              "    }\n",
              "\n",
              "    .dataframe tbody tr th {\n",
              "        vertical-align: top;\n",
              "    }\n",
              "\n",
              "    .dataframe thead th {\n",
              "        text-align: right;\n",
              "    }\n",
              "</style>\n",
              "<table border=\"1\" class=\"dataframe\">\n",
              "  <thead>\n",
              "    <tr style=\"text-align: right;\">\n",
              "      <th></th>\n",
              "      <th>lenguaje</th>\n",
              "      <th>mediana_salario_neto_total</th>\n",
              "      <th>mediana_salario_neto__hombre</th>\n",
              "      <th>mediana_salario_neto__mujer</th>\n",
              "    </tr>\n",
              "  </thead>\n",
              "  <tbody>\n",
              "    <tr>\n",
              "      <th>0</th>\n",
              "      <td>python</td>\n",
              "      <td>89000.0</td>\n",
              "      <td>90000.0</td>\n",
              "      <td>75000.0</td>\n",
              "    </tr>\n",
              "    <tr>\n",
              "      <th>1</th>\n",
              "      <td>javascript</td>\n",
              "      <td>80000.0</td>\n",
              "      <td>82000.0</td>\n",
              "      <td>68000.0</td>\n",
              "    </tr>\n",
              "    <tr>\n",
              "      <th>2</th>\n",
              "      <td>sql</td>\n",
              "      <td>79000.0</td>\n",
              "      <td>80000.0</td>\n",
              "      <td>68450.0</td>\n",
              "    </tr>\n",
              "    <tr>\n",
              "      <th>3</th>\n",
              "      <td>html/css</td>\n",
              "      <td>75998.0</td>\n",
              "      <td>78000.0</td>\n",
              "      <td>64850.0</td>\n",
              "    </tr>\n",
              "    <tr>\n",
              "      <th>4</th>\n",
              "      <td>java</td>\n",
              "      <td>88900.0</td>\n",
              "      <td>90000.0</td>\n",
              "      <td>71480.0</td>\n",
              "    </tr>\n",
              "    <tr>\n",
              "      <th>5</th>\n",
              "      <td>bash/shell</td>\n",
              "      <td>90000.0</td>\n",
              "      <td>90000.0</td>\n",
              "      <td>69602.0</td>\n",
              "    </tr>\n",
              "    <tr>\n",
              "      <th>6</th>\n",
              "      <td>php</td>\n",
              "      <td>78000.0</td>\n",
              "      <td>80000.0</td>\n",
              "      <td>63276.0</td>\n",
              "    </tr>\n",
              "    <tr>\n",
              "      <th>7</th>\n",
              "      <td>.net</td>\n",
              "      <td>78200.0</td>\n",
              "      <td>80000.0</td>\n",
              "      <td>68450.0</td>\n",
              "    </tr>\n",
              "    <tr>\n",
              "      <th>8</th>\n",
              "      <td>typescript</td>\n",
              "      <td>85000.0</td>\n",
              "      <td>87000.0</td>\n",
              "      <td>72516.5</td>\n",
              "    </tr>\n",
              "    <tr>\n",
              "      <th>9</th>\n",
              "      <td>c#</td>\n",
              "      <td>77050.0</td>\n",
              "      <td>78000.0</td>\n",
              "      <td>68000.0</td>\n",
              "    </tr>\n",
              "  </tbody>\n",
              "</table>\n",
              "</div>"
            ],
            "text/plain": [
              "     lenguaje  ...  mediana_salario_neto__mujer\n",
              "0      python  ...                      75000.0\n",
              "1  javascript  ...                      68000.0\n",
              "2         sql  ...                      68450.0\n",
              "3    html/css  ...                      64850.0\n",
              "4        java  ...                      71480.0\n",
              "5  bash/shell  ...                      69602.0\n",
              "6         php  ...                      63276.0\n",
              "7        .net  ...                      68450.0\n",
              "8  typescript  ...                      72516.5\n",
              "9          c#  ...                      68000.0\n",
              "\n",
              "[10 rows x 4 columns]"
            ]
          },
          "metadata": {
            "tags": []
          },
          "execution_count": 32
        }
      ]
    },
    {
      "cell_type": "code",
      "metadata": {
        "id": "PFJKxWtus5QB"
      },
      "source": [
        "#seaborn.countplot(data=df_lang_median_gender, color='steelblue', x=df_lang_median_gender.lenguaje, y=[df_lang_median_gender.mediana_salario_neto_total, df_lang_median_gender.mediana_salario_neto__hombre, df_lang_median_gender.mediana_salario_neto__mujer  ])"
      ],
      "execution_count": 33,
      "outputs": []
    },
    {
      "cell_type": "markdown",
      "metadata": {
        "id": "BsOoLbZQsVIb"
      },
      "source": [
        "## Respuesta ejercicio 1"
      ]
    },
    {
      "cell_type": "markdown",
      "metadata": {
        "id": "Ehn85gMWsiPt"
      },
      "source": [
        "1 - ¿Cuáles son los lenguajes de programación asociados a los mejores salarios?\n",
        "\n",
        "Seleccionar las columnas relevantes para analizar\n",
        "\n",
        "columnas: `programming_language \ttools_programming_languages \tsalary_monthly_NETO \tcured_programming_languages`"
      ]
    },
    {
      "cell_type": "markdown",
      "metadata": {
        "id": "Thrdgmv1tDMy"
      },
      "source": [
        "programming_language \ttools_programming_languages \tsalary_monthly_NETO \tcured_programming_languages"
      ]
    },
    {
      "cell_type": "code",
      "metadata": {
        "id": "6xTeVfZgsd9W"
      },
      "source": [
        "#¿Cuáles son los lenguajes de programación asociados a los mejores salarios?"
      ],
      "execution_count": 34,
      "outputs": []
    },
    {
      "cell_type": "markdown",
      "metadata": {
        "id": "tWo8SmmC9FAk"
      },
      "source": [
        "# Ejercicio 2 - Densidades y varias varialbes\n",
        "\n",
        "Responder a la pregunta general: **¿Que herramientas (prácticas y teóricas) són útiles para explorar la base, descubrir patrones, asociaciones?**\n",
        "\n",
        "Para ello considere (igual al ejercicio Anterior):\n",
        "1. Seleccionar las columnas relevantes para analizar.\n",
        "2. Seleccionar las filas relevantes para analizar. Esto incluye la eliminación de valores extremos y erróneos, pero también puede enfocar el análisis en sub-poblaciones. "
      ]
    },
    {
      "cell_type": "markdown",
      "metadata": {
        "id": "5baYhH0XHM3S"
      },
      "source": [
        "## a) Densidad conjunta\n",
        "\n",
        "Que herramientas visuales y modelos puede utilizar para estudiar la distribución y comportamiento de sus datos? \n",
        "\n",
        "Elija tres variables numéricas y 2 variables categóricas. Visualice la base según varias de las variables elegidas. Puede describir de alguna forma el comportamiento de sus datos? Que herramientas utilizaría? Describa\n",
        "\n",
        "\n"
      ]
    },
    {
      "cell_type": "markdown",
      "metadata": {
        "id": "lkuHE2aZGHMO"
      },
      "source": [
        "## b) Asociación\n",
        "\n",
        "* Necesitamos decidir si sacar o no la columna de salario bruto. Para hacer la encuesta más simple.\n",
        "¿Existe una correlación entre el salario bruto y el neto? Que abordaje y medidas usaría\n",
        "\n"
      ]
    },
    {
      "cell_type": "markdown",
      "metadata": {
        "id": "7MZrbRJCm-ae"
      },
      "source": [
        "## c) Densidad condicional \n",
        "\n",
        "Estudie la distribución del salario según el nivel de estudio.\n",
        "\n",
        "Separe la población según el nivel de estudio (elija dos subpoblaciones numerosas) y grafique de manera comparativa ambos histogramas de la variable `'salary_monthly_NETO'`\n",
        "¿Considera que ambas variables son independientes?\n",
        "¿Qué analizaría al respecto?\n",
        "\n",
        "Calcule medidas de centralización y dispersión para cada subpoblación\n",
        "\n",
        "\n",
        "\n",
        "\n"
      ]
    },
    {
      "cell_type": "markdown",
      "metadata": {
        "id": "u8wgYxNiqVpE"
      },
      "source": [
        "## d) Densidad Conjunta condicional\n",
        "\n",
        "Elija dos variables numéricas y una categórica. \n",
        "Estudie la dispersión (scatterplot) de las dos variables discriminando en color por la variable categórica (ayuda: hue en seaborn)\n"
      ]
    }
  ]
}